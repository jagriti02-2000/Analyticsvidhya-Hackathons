{
 "cells": [
  {
   "cell_type": "code",
   "execution_count": 187,
   "id": "4e11651f",
   "metadata": {},
   "outputs": [],
   "source": [
    "import pandas as pd\n",
    "import numpy as np\n",
    "import seaborn as sns\n",
    "import matplotlib.pyplot as plt"
   ]
  },
  {
   "cell_type": "code",
   "execution_count": 188,
   "id": "6e47fd60",
   "metadata": {},
   "outputs": [],
   "source": [
    "train=pd.read_csv(\"train.csv\")"
   ]
  },
  {
   "cell_type": "code",
   "execution_count": 189,
   "id": "fe8e747f",
   "metadata": {},
   "outputs": [
    {
     "data": {
      "text/html": [
       "<div>\n",
       "<style scoped>\n",
       "    .dataframe tbody tr th:only-of-type {\n",
       "        vertical-align: middle;\n",
       "    }\n",
       "\n",
       "    .dataframe tbody tr th {\n",
       "        vertical-align: top;\n",
       "    }\n",
       "\n",
       "    .dataframe thead th {\n",
       "        text-align: right;\n",
       "    }\n",
       "</style>\n",
       "<table border=\"1\" class=\"dataframe\">\n",
       "  <thead>\n",
       "    <tr style=\"text-align: right;\">\n",
       "      <th></th>\n",
       "      <th>Item_Identifier</th>\n",
       "      <th>Item_Weight</th>\n",
       "      <th>Item_Fat_Content</th>\n",
       "      <th>Item_Visibility</th>\n",
       "      <th>Item_Type</th>\n",
       "      <th>Item_MRP</th>\n",
       "      <th>Outlet_Identifier</th>\n",
       "      <th>Outlet_Establishment_Year</th>\n",
       "      <th>Outlet_Size</th>\n",
       "      <th>Outlet_Location_Type</th>\n",
       "      <th>Outlet_Type</th>\n",
       "      <th>Item_Outlet_Sales</th>\n",
       "    </tr>\n",
       "  </thead>\n",
       "  <tbody>\n",
       "    <tr>\n",
       "      <th>0</th>\n",
       "      <td>FDA15</td>\n",
       "      <td>9.30</td>\n",
       "      <td>Low Fat</td>\n",
       "      <td>0.016047</td>\n",
       "      <td>Dairy</td>\n",
       "      <td>249.8092</td>\n",
       "      <td>OUT049</td>\n",
       "      <td>1999</td>\n",
       "      <td>Medium</td>\n",
       "      <td>Tier 1</td>\n",
       "      <td>Supermarket Type1</td>\n",
       "      <td>3735.1380</td>\n",
       "    </tr>\n",
       "    <tr>\n",
       "      <th>1</th>\n",
       "      <td>DRC01</td>\n",
       "      <td>5.92</td>\n",
       "      <td>Regular</td>\n",
       "      <td>0.019278</td>\n",
       "      <td>Soft Drinks</td>\n",
       "      <td>48.2692</td>\n",
       "      <td>OUT018</td>\n",
       "      <td>2009</td>\n",
       "      <td>Medium</td>\n",
       "      <td>Tier 3</td>\n",
       "      <td>Supermarket Type2</td>\n",
       "      <td>443.4228</td>\n",
       "    </tr>\n",
       "    <tr>\n",
       "      <th>2</th>\n",
       "      <td>FDN15</td>\n",
       "      <td>17.50</td>\n",
       "      <td>Low Fat</td>\n",
       "      <td>0.016760</td>\n",
       "      <td>Meat</td>\n",
       "      <td>141.6180</td>\n",
       "      <td>OUT049</td>\n",
       "      <td>1999</td>\n",
       "      <td>Medium</td>\n",
       "      <td>Tier 1</td>\n",
       "      <td>Supermarket Type1</td>\n",
       "      <td>2097.2700</td>\n",
       "    </tr>\n",
       "    <tr>\n",
       "      <th>3</th>\n",
       "      <td>FDX07</td>\n",
       "      <td>19.20</td>\n",
       "      <td>Regular</td>\n",
       "      <td>0.000000</td>\n",
       "      <td>Fruits and Vegetables</td>\n",
       "      <td>182.0950</td>\n",
       "      <td>OUT010</td>\n",
       "      <td>1998</td>\n",
       "      <td>NaN</td>\n",
       "      <td>Tier 3</td>\n",
       "      <td>Grocery Store</td>\n",
       "      <td>732.3800</td>\n",
       "    </tr>\n",
       "    <tr>\n",
       "      <th>4</th>\n",
       "      <td>NCD19</td>\n",
       "      <td>8.93</td>\n",
       "      <td>Low Fat</td>\n",
       "      <td>0.000000</td>\n",
       "      <td>Household</td>\n",
       "      <td>53.8614</td>\n",
       "      <td>OUT013</td>\n",
       "      <td>1987</td>\n",
       "      <td>High</td>\n",
       "      <td>Tier 3</td>\n",
       "      <td>Supermarket Type1</td>\n",
       "      <td>994.7052</td>\n",
       "    </tr>\n",
       "  </tbody>\n",
       "</table>\n",
       "</div>"
      ],
      "text/plain": [
       "  Item_Identifier  Item_Weight Item_Fat_Content  Item_Visibility  \\\n",
       "0           FDA15         9.30          Low Fat         0.016047   \n",
       "1           DRC01         5.92          Regular         0.019278   \n",
       "2           FDN15        17.50          Low Fat         0.016760   \n",
       "3           FDX07        19.20          Regular         0.000000   \n",
       "4           NCD19         8.93          Low Fat         0.000000   \n",
       "\n",
       "               Item_Type  Item_MRP Outlet_Identifier  \\\n",
       "0                  Dairy  249.8092            OUT049   \n",
       "1            Soft Drinks   48.2692            OUT018   \n",
       "2                   Meat  141.6180            OUT049   \n",
       "3  Fruits and Vegetables  182.0950            OUT010   \n",
       "4              Household   53.8614            OUT013   \n",
       "\n",
       "   Outlet_Establishment_Year Outlet_Size Outlet_Location_Type  \\\n",
       "0                       1999      Medium               Tier 1   \n",
       "1                       2009      Medium               Tier 3   \n",
       "2                       1999      Medium               Tier 1   \n",
       "3                       1998         NaN               Tier 3   \n",
       "4                       1987        High               Tier 3   \n",
       "\n",
       "         Outlet_Type  Item_Outlet_Sales  \n",
       "0  Supermarket Type1          3735.1380  \n",
       "1  Supermarket Type2           443.4228  \n",
       "2  Supermarket Type1          2097.2700  \n",
       "3      Grocery Store           732.3800  \n",
       "4  Supermarket Type1           994.7052  "
      ]
     },
     "execution_count": 189,
     "metadata": {},
     "output_type": "execute_result"
    }
   ],
   "source": [
    "train.head()"
   ]
  },
  {
   "cell_type": "code",
   "execution_count": 190,
   "id": "b7641988",
   "metadata": {},
   "outputs": [
    {
     "name": "stdout",
     "output_type": "stream",
     "text": [
      "<class 'pandas.core.frame.DataFrame'>\n",
      "RangeIndex: 8523 entries, 0 to 8522\n",
      "Data columns (total 12 columns):\n",
      " #   Column                     Non-Null Count  Dtype  \n",
      "---  ------                     --------------  -----  \n",
      " 0   Item_Identifier            8523 non-null   object \n",
      " 1   Item_Weight                7060 non-null   float64\n",
      " 2   Item_Fat_Content           8523 non-null   object \n",
      " 3   Item_Visibility            8523 non-null   float64\n",
      " 4   Item_Type                  8523 non-null   object \n",
      " 5   Item_MRP                   8523 non-null   float64\n",
      " 6   Outlet_Identifier          8523 non-null   object \n",
      " 7   Outlet_Establishment_Year  8523 non-null   int64  \n",
      " 8   Outlet_Size                6113 non-null   object \n",
      " 9   Outlet_Location_Type       8523 non-null   object \n",
      " 10  Outlet_Type                8523 non-null   object \n",
      " 11  Item_Outlet_Sales          8523 non-null   float64\n",
      "dtypes: float64(4), int64(1), object(7)\n",
      "memory usage: 799.2+ KB\n"
     ]
    }
   ],
   "source": [
    "train.info()"
   ]
  },
  {
   "cell_type": "code",
   "execution_count": 191,
   "id": "17711c14",
   "metadata": {},
   "outputs": [
    {
     "data": {
      "text/plain": [
       "Item_Identifier                 0\n",
       "Item_Weight                  1463\n",
       "Item_Fat_Content                0\n",
       "Item_Visibility                 0\n",
       "Item_Type                       0\n",
       "Item_MRP                        0\n",
       "Outlet_Identifier               0\n",
       "Outlet_Establishment_Year       0\n",
       "Outlet_Size                  2410\n",
       "Outlet_Location_Type            0\n",
       "Outlet_Type                     0\n",
       "Item_Outlet_Sales               0\n",
       "dtype: int64"
      ]
     },
     "execution_count": 191,
     "metadata": {},
     "output_type": "execute_result"
    }
   ],
   "source": [
    "train.isna().sum()"
   ]
  },
  {
   "cell_type": "markdown",
   "id": "6d1f53a5",
   "metadata": {},
   "source": [
    "# univariate Analysis"
   ]
  },
  {
   "cell_type": "code",
   "execution_count": 192,
   "id": "3b58f321",
   "metadata": {},
   "outputs": [],
   "source": [
    "cat=[\"Item_Fat_Content\",\"Item_Type\",\"Outlet_Identifier\",\"Outlet_Size\",\"Outlet_Location_Type\",\"Outlet_Type\"]"
   ]
  },
  {
   "cell_type": "code",
   "execution_count": 193,
   "id": "4488ad18",
   "metadata": {},
   "outputs": [],
   "source": [
    "num=set(train.columns)-set(cat)"
   ]
  },
  {
   "cell_type": "code",
   "execution_count": 194,
   "id": "5cfbf232",
   "metadata": {},
   "outputs": [
    {
     "data": {
      "text/plain": [
       "{'Item_Identifier',\n",
       " 'Item_MRP',\n",
       " 'Item_Outlet_Sales',\n",
       " 'Item_Visibility',\n",
       " 'Item_Weight',\n",
       " 'Outlet_Establishment_Year'}"
      ]
     },
     "execution_count": 194,
     "metadata": {},
     "output_type": "execute_result"
    }
   ],
   "source": [
    "num"
   ]
  },
  {
   "cell_type": "code",
   "execution_count": 195,
   "id": "25831882",
   "metadata": {},
   "outputs": [
    {
     "data": {
      "text/html": [
       "<div>\n",
       "<style scoped>\n",
       "    .dataframe tbody tr th:only-of-type {\n",
       "        vertical-align: middle;\n",
       "    }\n",
       "\n",
       "    .dataframe tbody tr th {\n",
       "        vertical-align: top;\n",
       "    }\n",
       "\n",
       "    .dataframe thead th {\n",
       "        text-align: right;\n",
       "    }\n",
       "</style>\n",
       "<table border=\"1\" class=\"dataframe\">\n",
       "  <thead>\n",
       "    <tr style=\"text-align: right;\">\n",
       "      <th></th>\n",
       "      <th>Item_Visibility</th>\n",
       "      <th>Item_Weight</th>\n",
       "      <th>Outlet_Establishment_Year</th>\n",
       "      <th>Item_Outlet_Sales</th>\n",
       "      <th>Item_MRP</th>\n",
       "    </tr>\n",
       "  </thead>\n",
       "  <tbody>\n",
       "    <tr>\n",
       "      <th>count</th>\n",
       "      <td>8523.000000</td>\n",
       "      <td>7060.000000</td>\n",
       "      <td>8523.000000</td>\n",
       "      <td>8523.000000</td>\n",
       "      <td>8523.000000</td>\n",
       "    </tr>\n",
       "    <tr>\n",
       "      <th>mean</th>\n",
       "      <td>0.066132</td>\n",
       "      <td>12.857645</td>\n",
       "      <td>1997.831867</td>\n",
       "      <td>2181.288914</td>\n",
       "      <td>140.992782</td>\n",
       "    </tr>\n",
       "    <tr>\n",
       "      <th>std</th>\n",
       "      <td>0.051598</td>\n",
       "      <td>4.643456</td>\n",
       "      <td>8.371760</td>\n",
       "      <td>1706.499616</td>\n",
       "      <td>62.275067</td>\n",
       "    </tr>\n",
       "    <tr>\n",
       "      <th>min</th>\n",
       "      <td>0.000000</td>\n",
       "      <td>4.555000</td>\n",
       "      <td>1985.000000</td>\n",
       "      <td>33.290000</td>\n",
       "      <td>31.290000</td>\n",
       "    </tr>\n",
       "    <tr>\n",
       "      <th>25%</th>\n",
       "      <td>0.026989</td>\n",
       "      <td>8.773750</td>\n",
       "      <td>1987.000000</td>\n",
       "      <td>834.247400</td>\n",
       "      <td>93.826500</td>\n",
       "    </tr>\n",
       "    <tr>\n",
       "      <th>50%</th>\n",
       "      <td>0.053931</td>\n",
       "      <td>12.600000</td>\n",
       "      <td>1999.000000</td>\n",
       "      <td>1794.331000</td>\n",
       "      <td>143.012800</td>\n",
       "    </tr>\n",
       "    <tr>\n",
       "      <th>75%</th>\n",
       "      <td>0.094585</td>\n",
       "      <td>16.850000</td>\n",
       "      <td>2004.000000</td>\n",
       "      <td>3101.296400</td>\n",
       "      <td>185.643700</td>\n",
       "    </tr>\n",
       "    <tr>\n",
       "      <th>max</th>\n",
       "      <td>0.328391</td>\n",
       "      <td>21.350000</td>\n",
       "      <td>2009.000000</td>\n",
       "      <td>13086.964800</td>\n",
       "      <td>266.888400</td>\n",
       "    </tr>\n",
       "  </tbody>\n",
       "</table>\n",
       "</div>"
      ],
      "text/plain": [
       "       Item_Visibility  Item_Weight  Outlet_Establishment_Year  \\\n",
       "count      8523.000000  7060.000000                8523.000000   \n",
       "mean          0.066132    12.857645                1997.831867   \n",
       "std           0.051598     4.643456                   8.371760   \n",
       "min           0.000000     4.555000                1985.000000   \n",
       "25%           0.026989     8.773750                1987.000000   \n",
       "50%           0.053931    12.600000                1999.000000   \n",
       "75%           0.094585    16.850000                2004.000000   \n",
       "max           0.328391    21.350000                2009.000000   \n",
       "\n",
       "       Item_Outlet_Sales     Item_MRP  \n",
       "count        8523.000000  8523.000000  \n",
       "mean         2181.288914   140.992782  \n",
       "std          1706.499616    62.275067  \n",
       "min            33.290000    31.290000  \n",
       "25%           834.247400    93.826500  \n",
       "50%          1794.331000   143.012800  \n",
       "75%          3101.296400   185.643700  \n",
       "max         13086.964800   266.888400  "
      ]
     },
     "execution_count": 195,
     "metadata": {},
     "output_type": "execute_result"
    }
   ],
   "source": [
    "train[num].describe()"
   ]
  },
  {
   "cell_type": "code",
   "execution_count": 196,
   "id": "b7b87d73",
   "metadata": {},
   "outputs": [],
   "source": [
    "# function for count of categories \n",
    "def count_values(data,cat):\n",
    "    for i in cat:\n",
    "        print(data[i].value_counts())"
   ]
  },
  {
   "cell_type": "code",
   "execution_count": 197,
   "id": "9808c964",
   "metadata": {},
   "outputs": [
    {
     "name": "stdout",
     "output_type": "stream",
     "text": [
      "Low Fat    5089\n",
      "Regular    2889\n",
      "LF          316\n",
      "reg         117\n",
      "low fat     112\n",
      "Name: Item_Fat_Content, dtype: int64\n",
      "Fruits and Vegetables    1232\n",
      "Snack Foods              1200\n",
      "Household                 910\n",
      "Frozen Foods              856\n",
      "Dairy                     682\n",
      "Canned                    649\n",
      "Baking Goods              648\n",
      "Health and Hygiene        520\n",
      "Soft Drinks               445\n",
      "Meat                      425\n",
      "Breads                    251\n",
      "Hard Drinks               214\n",
      "Others                    169\n",
      "Starchy Foods             148\n",
      "Breakfast                 110\n",
      "Seafood                    64\n",
      "Name: Item_Type, dtype: int64\n",
      "OUT027    935\n",
      "OUT013    932\n",
      "OUT049    930\n",
      "OUT035    930\n",
      "OUT046    930\n",
      "OUT045    929\n",
      "OUT018    928\n",
      "OUT017    926\n",
      "OUT010    555\n",
      "OUT019    528\n",
      "Name: Outlet_Identifier, dtype: int64\n",
      "Medium    2793\n",
      "Small     2388\n",
      "High       932\n",
      "Name: Outlet_Size, dtype: int64\n",
      "Tier 3    3350\n",
      "Tier 2    2785\n",
      "Tier 1    2388\n",
      "Name: Outlet_Location_Type, dtype: int64\n",
      "Supermarket Type1    5577\n",
      "Grocery Store        1083\n",
      "Supermarket Type3     935\n",
      "Supermarket Type2     928\n",
      "Name: Outlet_Type, dtype: int64\n"
     ]
    }
   ],
   "source": [
    "count_values(train,cat)"
   ]
  },
  {
   "cell_type": "code",
   "execution_count": 198,
   "id": "4d751680",
   "metadata": {},
   "outputs": [],
   "source": [
    "# function to replace the values\n",
    "def replace(data,col,old,new):\n",
    "    data[col] = data[col].replace([old],new)"
   ]
  },
  {
   "cell_type": "code",
   "execution_count": 199,
   "id": "133fa159",
   "metadata": {},
   "outputs": [],
   "source": [
    "replace(train,\"Item_Fat_Content\",\"LF\",\"Low Fat\")"
   ]
  },
  {
   "cell_type": "code",
   "execution_count": 200,
   "id": "e9798278",
   "metadata": {},
   "outputs": [],
   "source": [
    "replace(train,\"Item_Fat_Content\",\"low fat\",\"Low Fat\")"
   ]
  },
  {
   "cell_type": "code",
   "execution_count": 201,
   "id": "c801e1b4",
   "metadata": {},
   "outputs": [],
   "source": [
    "replace(train,\"Item_Fat_Content\",\"reg\",\"Regular\")"
   ]
  },
  {
   "cell_type": "code",
   "execution_count": 202,
   "id": "98bbb0b1",
   "metadata": {},
   "outputs": [
    {
     "name": "stdout",
     "output_type": "stream",
     "text": [
      "Low Fat    5517\n",
      "Regular    3006\n",
      "Name: Item_Fat_Content, dtype: int64\n",
      "Fruits and Vegetables    1232\n",
      "Snack Foods              1200\n",
      "Household                 910\n",
      "Frozen Foods              856\n",
      "Dairy                     682\n",
      "Canned                    649\n",
      "Baking Goods              648\n",
      "Health and Hygiene        520\n",
      "Soft Drinks               445\n",
      "Meat                      425\n",
      "Breads                    251\n",
      "Hard Drinks               214\n",
      "Others                    169\n",
      "Starchy Foods             148\n",
      "Breakfast                 110\n",
      "Seafood                    64\n",
      "Name: Item_Type, dtype: int64\n",
      "OUT027    935\n",
      "OUT013    932\n",
      "OUT049    930\n",
      "OUT035    930\n",
      "OUT046    930\n",
      "OUT045    929\n",
      "OUT018    928\n",
      "OUT017    926\n",
      "OUT010    555\n",
      "OUT019    528\n",
      "Name: Outlet_Identifier, dtype: int64\n",
      "Medium    2793\n",
      "Small     2388\n",
      "High       932\n",
      "Name: Outlet_Size, dtype: int64\n",
      "Tier 3    3350\n",
      "Tier 2    2785\n",
      "Tier 1    2388\n",
      "Name: Outlet_Location_Type, dtype: int64\n",
      "Supermarket Type1    5577\n",
      "Grocery Store        1083\n",
      "Supermarket Type3     935\n",
      "Supermarket Type2     928\n",
      "Name: Outlet_Type, dtype: int64\n"
     ]
    }
   ],
   "source": [
    "count_values(train,cat)"
   ]
  },
  {
   "cell_type": "code",
   "execution_count": 203,
   "id": "4917e30c",
   "metadata": {},
   "outputs": [
    {
     "data": {
      "text/html": [
       "<div>\n",
       "<style scoped>\n",
       "    .dataframe tbody tr th:only-of-type {\n",
       "        vertical-align: middle;\n",
       "    }\n",
       "\n",
       "    .dataframe tbody tr th {\n",
       "        vertical-align: top;\n",
       "    }\n",
       "\n",
       "    .dataframe thead th {\n",
       "        text-align: right;\n",
       "    }\n",
       "</style>\n",
       "<table border=\"1\" class=\"dataframe\">\n",
       "  <thead>\n",
       "    <tr style=\"text-align: right;\">\n",
       "      <th></th>\n",
       "      <th>Item_Identifier</th>\n",
       "      <th>Item_Weight</th>\n",
       "      <th>Item_Fat_Content</th>\n",
       "      <th>Item_Visibility</th>\n",
       "      <th>Item_Type</th>\n",
       "      <th>Item_MRP</th>\n",
       "      <th>Outlet_Identifier</th>\n",
       "      <th>Outlet_Establishment_Year</th>\n",
       "      <th>Outlet_Size</th>\n",
       "      <th>Outlet_Location_Type</th>\n",
       "      <th>Outlet_Type</th>\n",
       "      <th>Item_Outlet_Sales</th>\n",
       "    </tr>\n",
       "  </thead>\n",
       "  <tbody>\n",
       "    <tr>\n",
       "      <th>0</th>\n",
       "      <td>FDA15</td>\n",
       "      <td>9.30</td>\n",
       "      <td>Low Fat</td>\n",
       "      <td>0.016047</td>\n",
       "      <td>Dairy</td>\n",
       "      <td>249.8092</td>\n",
       "      <td>OUT049</td>\n",
       "      <td>1999</td>\n",
       "      <td>Medium</td>\n",
       "      <td>Tier 1</td>\n",
       "      <td>Supermarket Type1</td>\n",
       "      <td>3735.1380</td>\n",
       "    </tr>\n",
       "    <tr>\n",
       "      <th>1</th>\n",
       "      <td>DRC01</td>\n",
       "      <td>5.92</td>\n",
       "      <td>Regular</td>\n",
       "      <td>0.019278</td>\n",
       "      <td>Soft Drinks</td>\n",
       "      <td>48.2692</td>\n",
       "      <td>OUT018</td>\n",
       "      <td>2009</td>\n",
       "      <td>Medium</td>\n",
       "      <td>Tier 3</td>\n",
       "      <td>Supermarket Type2</td>\n",
       "      <td>443.4228</td>\n",
       "    </tr>\n",
       "    <tr>\n",
       "      <th>2</th>\n",
       "      <td>FDN15</td>\n",
       "      <td>17.50</td>\n",
       "      <td>Low Fat</td>\n",
       "      <td>0.016760</td>\n",
       "      <td>Meat</td>\n",
       "      <td>141.6180</td>\n",
       "      <td>OUT049</td>\n",
       "      <td>1999</td>\n",
       "      <td>Medium</td>\n",
       "      <td>Tier 1</td>\n",
       "      <td>Supermarket Type1</td>\n",
       "      <td>2097.2700</td>\n",
       "    </tr>\n",
       "    <tr>\n",
       "      <th>3</th>\n",
       "      <td>FDX07</td>\n",
       "      <td>19.20</td>\n",
       "      <td>Regular</td>\n",
       "      <td>0.000000</td>\n",
       "      <td>Fruits and Vegetables</td>\n",
       "      <td>182.0950</td>\n",
       "      <td>OUT010</td>\n",
       "      <td>1998</td>\n",
       "      <td>NaN</td>\n",
       "      <td>Tier 3</td>\n",
       "      <td>Grocery Store</td>\n",
       "      <td>732.3800</td>\n",
       "    </tr>\n",
       "    <tr>\n",
       "      <th>4</th>\n",
       "      <td>NCD19</td>\n",
       "      <td>8.93</td>\n",
       "      <td>Low Fat</td>\n",
       "      <td>0.000000</td>\n",
       "      <td>Household</td>\n",
       "      <td>53.8614</td>\n",
       "      <td>OUT013</td>\n",
       "      <td>1987</td>\n",
       "      <td>High</td>\n",
       "      <td>Tier 3</td>\n",
       "      <td>Supermarket Type1</td>\n",
       "      <td>994.7052</td>\n",
       "    </tr>\n",
       "  </tbody>\n",
       "</table>\n",
       "</div>"
      ],
      "text/plain": [
       "  Item_Identifier  Item_Weight Item_Fat_Content  Item_Visibility  \\\n",
       "0           FDA15         9.30          Low Fat         0.016047   \n",
       "1           DRC01         5.92          Regular         0.019278   \n",
       "2           FDN15        17.50          Low Fat         0.016760   \n",
       "3           FDX07        19.20          Regular         0.000000   \n",
       "4           NCD19         8.93          Low Fat         0.000000   \n",
       "\n",
       "               Item_Type  Item_MRP Outlet_Identifier  \\\n",
       "0                  Dairy  249.8092            OUT049   \n",
       "1            Soft Drinks   48.2692            OUT018   \n",
       "2                   Meat  141.6180            OUT049   \n",
       "3  Fruits and Vegetables  182.0950            OUT010   \n",
       "4              Household   53.8614            OUT013   \n",
       "\n",
       "   Outlet_Establishment_Year Outlet_Size Outlet_Location_Type  \\\n",
       "0                       1999      Medium               Tier 1   \n",
       "1                       2009      Medium               Tier 3   \n",
       "2                       1999      Medium               Tier 1   \n",
       "3                       1998         NaN               Tier 3   \n",
       "4                       1987        High               Tier 3   \n",
       "\n",
       "         Outlet_Type  Item_Outlet_Sales  \n",
       "0  Supermarket Type1          3735.1380  \n",
       "1  Supermarket Type2           443.4228  \n",
       "2  Supermarket Type1          2097.2700  \n",
       "3      Grocery Store           732.3800  \n",
       "4  Supermarket Type1           994.7052  "
      ]
     },
     "execution_count": 203,
     "metadata": {},
     "output_type": "execute_result"
    }
   ],
   "source": [
    "train.head()"
   ]
  },
  {
   "cell_type": "markdown",
   "id": "05d3cfef",
   "metadata": {},
   "source": [
    "# Plots "
   ]
  },
  {
   "cell_type": "code",
   "execution_count": 204,
   "id": "a37d4301",
   "metadata": {},
   "outputs": [
    {
     "name": "stderr",
     "output_type": "stream",
     "text": [
      "C:\\Users\\abhishek bablani\\anaconda3\\lib\\site-packages\\seaborn\\_decorators.py:36: FutureWarning: Pass the following variables as keyword args: x, y. From version 0.12, the only valid positional argument will be `data`, and passing other arguments without an explicit keyword will result in an error or misinterpretation.\n",
      "  warnings.warn(\n"
     ]
    },
    {
     "data": {
      "text/plain": [
       "<AxesSubplot:xlabel='Item_Fat_Content', ylabel='Item_Weight'>"
      ]
     },
     "execution_count": 204,
     "metadata": {},
     "output_type": "execute_result"
    },
    {
     "data": {
      "image/png": "[encoded data removed]",
      "text/plain": [
       "<Figure size 432x288 with 1 Axes>"
      ]
     },
     "metadata": {
      "needs_background": "light"
     },
     "output_type": "display_data"
    }
   ],
   "source": [
    "sns.boxplot(\"Item_Fat_Content\",\"Item_Weight\",data=train)"
   ]
  },
  {
   "cell_type": "code",
   "execution_count": 205,
   "id": "ca850a63",
   "metadata": {},
   "outputs": [
    {
     "name": "stderr",
     "output_type": "stream",
     "text": [
      "C:\\Users\\abhishek bablani\\anaconda3\\lib\\site-packages\\seaborn\\_decorators.py:36: FutureWarning: Pass the following variables as keyword args: x, y. From version 0.12, the only valid positional argument will be `data`, and passing other arguments without an explicit keyword will result in an error or misinterpretation.\n",
      "  warnings.warn(\n"
     ]
    },
    {
     "data": {
      "text/plain": [
       "<AxesSubplot:xlabel='Item_Type', ylabel='Item_Weight'>"
      ]
     },
     "execution_count": 205,
     "metadata": {},
     "output_type": "execute_result"
    },
    {
     "data": {
      "image/png": "[encoded data removed]",
      "text/plain": [
       "<Figure size 1728x576 with 1 Axes>"
      ]
     },
     "metadata": {
      "needs_background": "light"
     },
     "output_type": "display_data"
    }
   ],
   "source": [
    "plt.figure(figsize=(24, 8))\n",
    "sns.boxplot(\"Item_Type\",\"Item_Weight\",data=train)"
   ]
  },
  {
   "cell_type": "code",
   "execution_count": 206,
   "id": "d8cfdb4d",
   "metadata": {},
   "outputs": [],
   "source": [
    "#scatterplot with dependent vs independent\n",
    "def scatterplot(df,x,y):\n",
    "    sns.scatterplot(x,y,data=df)"
   ]
  },
  {
   "cell_type": "code",
   "execution_count": 207,
   "id": "7df74366",
   "metadata": {},
   "outputs": [
    {
     "name": "stderr",
     "output_type": "stream",
     "text": [
      "C:\\Users\\abhishek bablani\\anaconda3\\lib\\site-packages\\seaborn\\_decorators.py:36: FutureWarning: Pass the following variables as keyword args: x, y. From version 0.12, the only valid positional argument will be `data`, and passing other arguments without an explicit keyword will result in an error or misinterpretation.\n",
      "  warnings.warn(\n"
     ]
    },
    {
     "data": {
      "image/png": "[encoded data removed]",
      "text/plain": [
       "<Figure size 432x288 with 1 Axes>"
      ]
     },
     "metadata": {
      "needs_background": "light"
     },
     "output_type": "display_data"
    }
   ],
   "source": [
    "scatterplot(train,\"Item_Weight\",\"Item_Outlet_Sales\")"
   ]
  },
  {
   "cell_type": "code",
   "execution_count": 208,
   "id": "8d7b4beb",
   "metadata": {},
   "outputs": [
    {
     "name": "stderr",
     "output_type": "stream",
     "text": [
      "C:\\Users\\abhishek bablani\\anaconda3\\lib\\site-packages\\seaborn\\_decorators.py:36: FutureWarning: Pass the following variables as keyword args: x, y. From version 0.12, the only valid positional argument will be `data`, and passing other arguments without an explicit keyword will result in an error or misinterpretation.\n",
      "  warnings.warn(\n"
     ]
    },
    {
     "data": {
      "image/png": "[encoded data removed]",
      "text/plain": [
       "<Figure size 432x288 with 1 Axes>"
      ]
     },
     "metadata": {
      "needs_background": "light"
     },
     "output_type": "display_data"
    }
   ],
   "source": [
    "scatterplot(train,\"Item_Visibility\",\"Item_Outlet_Sales\")"
   ]
  },
  {
   "cell_type": "code",
   "execution_count": 209,
   "id": "1c460155",
   "metadata": {},
   "outputs": [
    {
     "name": "stderr",
     "output_type": "stream",
     "text": [
      "C:\\Users\\abhishek bablani\\anaconda3\\lib\\site-packages\\seaborn\\_decorators.py:36: FutureWarning: Pass the following variables as keyword args: x, y. From version 0.12, the only valid positional argument will be `data`, and passing other arguments without an explicit keyword will result in an error or misinterpretation.\n",
      "  warnings.warn(\n"
     ]
    },
    {
     "data": {
      "image/png": "[encoded data removed]",
      "text/plain": [
       "<Figure size 432x288 with 1 Axes>"
      ]
     },
     "metadata": {
      "needs_background": "light"
     },
     "output_type": "display_data"
    }
   ],
   "source": [
    "scatterplot(train,\"Item_MRP\",\"Item_Outlet_Sales\")"
   ]
  },
  {
   "cell_type": "code",
   "execution_count": 210,
   "id": "ea63f0b4",
   "metadata": {},
   "outputs": [],
   "source": [
    "def boxplot(df,x,y):\n",
    "    sns.boxplot(x,y,data=df)"
   ]
  },
  {
   "cell_type": "code",
   "execution_count": 211,
   "id": "9c4563ce",
   "metadata": {},
   "outputs": [
    {
     "name": "stderr",
     "output_type": "stream",
     "text": [
      "C:\\Users\\abhishek bablani\\anaconda3\\lib\\site-packages\\seaborn\\_decorators.py:36: FutureWarning: Pass the following variables as keyword args: x, y. From version 0.12, the only valid positional argument will be `data`, and passing other arguments without an explicit keyword will result in an error or misinterpretation.\n",
      "  warnings.warn(\n"
     ]
    },
    {
     "data": {
      "image/png": "[encoded data removed]",
      "text/plain": [
       "<Figure size 432x288 with 1 Axes>"
      ]
     },
     "metadata": {
      "needs_background": "light"
     },
     "output_type": "display_data"
    }
   ],
   "source": [
    "boxplot(train,\"Item_Fat_Content\",\"Item_Outlet_Sales\")"
   ]
  },
  {
   "cell_type": "code",
   "execution_count": 212,
   "id": "742cf14f",
   "metadata": {},
   "outputs": [
    {
     "data": {
      "text/plain": [
       "['Item_Fat_Content',\n",
       " 'Item_Type',\n",
       " 'Outlet_Identifier',\n",
       " 'Outlet_Size',\n",
       " 'Outlet_Location_Type',\n",
       " 'Outlet_Type']"
      ]
     },
     "execution_count": 212,
     "metadata": {},
     "output_type": "execute_result"
    }
   ],
   "source": [
    "cat"
   ]
  },
  {
   "cell_type": "code",
   "execution_count": 213,
   "id": "c42b0afc",
   "metadata": {},
   "outputs": [
    {
     "name": "stderr",
     "output_type": "stream",
     "text": [
      "C:\\Users\\abhishek bablani\\anaconda3\\lib\\site-packages\\seaborn\\_decorators.py:36: FutureWarning: Pass the following variables as keyword args: x, y. From version 0.12, the only valid positional argument will be `data`, and passing other arguments without an explicit keyword will result in an error or misinterpretation.\n",
      "  warnings.warn(\n"
     ]
    },
    {
     "data": {
      "image/png": "[encoded data removed]",
      "text/plain": [
       "<Figure size 1728x576 with 1 Axes>"
      ]
     },
     "metadata": {
      "needs_background": "light"
     },
     "output_type": "display_data"
    }
   ],
   "source": [
    "plt.figure(figsize=(24, 8))\n",
    "boxplot(train,\"Item_Type\",\"Item_Outlet_Sales\")"
   ]
  },
  {
   "cell_type": "code",
   "execution_count": 214,
   "id": "ae8073f3",
   "metadata": {},
   "outputs": [
    {
     "name": "stderr",
     "output_type": "stream",
     "text": [
      "C:\\Users\\abhishek bablani\\anaconda3\\lib\\site-packages\\seaborn\\_decorators.py:36: FutureWarning: Pass the following variables as keyword args: x, y. From version 0.12, the only valid positional argument will be `data`, and passing other arguments without an explicit keyword will result in an error or misinterpretation.\n",
      "  warnings.warn(\n"
     ]
    },
    {
     "data": {
      "image/png": "[encoded data removed]",
      "text/plain": [
       "<Figure size 432x288 with 1 Axes>"
      ]
     },
     "metadata": {
      "needs_background": "light"
     },
     "output_type": "display_data"
    }
   ],
   "source": [
    "boxplot(train,\"Outlet_Size\",\"Item_Outlet_Sales\")"
   ]
  },
  {
   "cell_type": "code",
   "execution_count": 215,
   "id": "81ca4bbe",
   "metadata": {},
   "outputs": [
    {
     "name": "stderr",
     "output_type": "stream",
     "text": [
      "C:\\Users\\abhishek bablani\\anaconda3\\lib\\site-packages\\seaborn\\_decorators.py:36: FutureWarning: Pass the following variables as keyword args: x, y. From version 0.12, the only valid positional argument will be `data`, and passing other arguments without an explicit keyword will result in an error or misinterpretation.\n",
      "  warnings.warn(\n"
     ]
    },
    {
     "data": {
      "image/png": "[encoded data removed]",
      "text/plain": [
       "<Figure size 432x288 with 1 Axes>"
      ]
     },
     "metadata": {
      "needs_background": "light"
     },
     "output_type": "display_data"
    }
   ],
   "source": [
    "boxplot(train,\"Outlet_Location_Type\",\"Item_Outlet_Sales\")"
   ]
  },
  {
   "cell_type": "code",
   "execution_count": 216,
   "id": "121302c8",
   "metadata": {},
   "outputs": [
    {
     "name": "stderr",
     "output_type": "stream",
     "text": [
      "C:\\Users\\abhishek bablani\\anaconda3\\lib\\site-packages\\seaborn\\_decorators.py:36: FutureWarning: Pass the following variables as keyword args: x, y. From version 0.12, the only valid positional argument will be `data`, and passing other arguments without an explicit keyword will result in an error or misinterpretation.\n",
      "  warnings.warn(\n"
     ]
    },
    {
     "data": {
      "image/png": "[encoded data removed]",
      "text/plain": [
       "<Figure size 1080x576 with 1 Axes>"
      ]
     },
     "metadata": {
      "needs_background": "light"
     },
     "output_type": "display_data"
    }
   ],
   "source": [
    "plt.figure(figsize=(15, 8))\n",
    "boxplot(train,\"Outlet_Type\",\"Item_Outlet_Sales\")"
   ]
  },
  {
   "cell_type": "code",
   "execution_count": 217,
   "id": "eeeeb1d4",
   "metadata": {},
   "outputs": [],
   "source": [
    "#function to clean the dataframe\n",
    "def cleaning(df):\n",
    "    df.Item_Weight.fillna(df.Item_Weight.median(), inplace=True)\n",
    "    df.Outlet_Size.fillna(df.Outlet_Size.mode()[0], inplace=True)\n",
    "    df=df.drop([\"Item_Identifier\",\"Outlet_Identifier\"],axis=1)\n",
    "    df['Item_Fat_Content'] = df['Item_Fat_Content'].map({'Low Fat':0,'Regular':1})\n",
    "    df['Outlet_Size'] = df['Outlet_Size'].map({'Small':0, 'Medium':1, 'High':2})\n",
    "    df[\"Item_Visibility*Item_MRP\"]= df[\"Item_Visibility\"]*df[\"Item_MRP\"]\n",
    "    df['Outlet_Location_Type'] = df['Outlet_Location_Type'].map({'Tier 1':0,'Tier 2':1,'Tier 3':2})\n",
    "    df['Outlet_Type'] = df['Outlet_Type'].map({'Grocery Store':0,'Supermarket Type1':1, 'Supermarket Type2':2,'Supermarket Type3':3})\n",
    "    df['Item_Visibility'] = df['Item_Visibility'].replace(0.000000, df['Item_Visibility'].median())\n",
    "    df[\"total_year_of_Outlet_Establishment\"]=2021-df[\"Outlet_Establishment_Year\"]\n",
    "    \n",
    "    df['Item_Type'] = df['Item_Type'].map({'Dairy':'Unhealthy', 'Soft Drinks':'Unhealthy', 'Meat':'Unhealthy', 'Fruits and Vegetables':'Healthy',\n",
    "       'Household':'Healthy', 'Baking Goods':'Unhealthy', 'Snack Foods':'Unhealthy', 'Frozen Foods':'Healthy',\n",
    "       'Breakfast':'Healthy', 'Health and Hygiene':'Healthy', 'Hard Drinks':'Unhealthy', 'Canned':'Unhealthy',\n",
    "       'Breads':'Healthy', 'Starchy Foods':'Healthy', 'Others':'Others', 'Seafood':'Healthy'})\n",
    "    df['Item_Type'] = df['Item_Type'].map({'Unhealthy':0,'Healthy':1,'Others':2})\n",
    "    return df"
   ]
  },
  {
   "cell_type": "code",
   "execution_count": 218,
   "id": "5acdd22c",
   "metadata": {},
   "outputs": [],
   "source": [
    "train=cleaning(train)"
   ]
  },
  {
   "cell_type": "code",
   "execution_count": 219,
   "id": "6b329c36",
   "metadata": {},
   "outputs": [],
   "source": [
    "X=train.drop([\"Item_Outlet_Sales\"],axis=1)\n",
    "y=train[[\"Item_Outlet_Sales\"]]"
   ]
  },
  {
   "cell_type": "code",
   "execution_count": 220,
   "id": "796495b4",
   "metadata": {},
   "outputs": [
    {
     "data": {
      "text/html": [
       "<div>\n",
       "<style scoped>\n",
       "    .dataframe tbody tr th:only-of-type {\n",
       "        vertical-align: middle;\n",
       "    }\n",
       "\n",
       "    .dataframe tbody tr th {\n",
       "        vertical-align: top;\n",
       "    }\n",
       "\n",
       "    .dataframe thead th {\n",
       "        text-align: right;\n",
       "    }\n",
       "</style>\n",
       "<table border=\"1\" class=\"dataframe\">\n",
       "  <thead>\n",
       "    <tr style=\"text-align: right;\">\n",
       "      <th></th>\n",
       "      <th>Item_Weight</th>\n",
       "      <th>Item_Fat_Content</th>\n",
       "      <th>Item_Visibility</th>\n",
       "      <th>Item_Type</th>\n",
       "      <th>Item_MRP</th>\n",
       "      <th>Outlet_Establishment_Year</th>\n",
       "      <th>Outlet_Size</th>\n",
       "      <th>Outlet_Location_Type</th>\n",
       "      <th>Outlet_Type</th>\n",
       "      <th>Item_Visibility*Item_MRP</th>\n",
       "      <th>total_year_of_Outlet_Establishment</th>\n",
       "    </tr>\n",
       "  </thead>\n",
       "  <tbody>\n",
       "    <tr>\n",
       "      <th>0</th>\n",
       "      <td>9.30</td>\n",
       "      <td>0</td>\n",
       "      <td>0.016047</td>\n",
       "      <td>0</td>\n",
       "      <td>249.8092</td>\n",
       "      <td>1999</td>\n",
       "      <td>1</td>\n",
       "      <td>0</td>\n",
       "      <td>1</td>\n",
       "      <td>4.008763</td>\n",
       "      <td>22</td>\n",
       "    </tr>\n",
       "    <tr>\n",
       "      <th>1</th>\n",
       "      <td>5.92</td>\n",
       "      <td>1</td>\n",
       "      <td>0.019278</td>\n",
       "      <td>0</td>\n",
       "      <td>48.2692</td>\n",
       "      <td>2009</td>\n",
       "      <td>1</td>\n",
       "      <td>2</td>\n",
       "      <td>2</td>\n",
       "      <td>0.930544</td>\n",
       "      <td>12</td>\n",
       "    </tr>\n",
       "    <tr>\n",
       "      <th>2</th>\n",
       "      <td>17.50</td>\n",
       "      <td>0</td>\n",
       "      <td>0.016760</td>\n",
       "      <td>0</td>\n",
       "      <td>141.6180</td>\n",
       "      <td>1999</td>\n",
       "      <td>1</td>\n",
       "      <td>0</td>\n",
       "      <td>1</td>\n",
       "      <td>2.373528</td>\n",
       "      <td>22</td>\n",
       "    </tr>\n",
       "    <tr>\n",
       "      <th>3</th>\n",
       "      <td>19.20</td>\n",
       "      <td>1</td>\n",
       "      <td>0.053931</td>\n",
       "      <td>1</td>\n",
       "      <td>182.0950</td>\n",
       "      <td>1998</td>\n",
       "      <td>1</td>\n",
       "      <td>2</td>\n",
       "      <td>0</td>\n",
       "      <td>0.000000</td>\n",
       "      <td>23</td>\n",
       "    </tr>\n",
       "    <tr>\n",
       "      <th>4</th>\n",
       "      <td>8.93</td>\n",
       "      <td>0</td>\n",
       "      <td>0.053931</td>\n",
       "      <td>1</td>\n",
       "      <td>53.8614</td>\n",
       "      <td>1987</td>\n",
       "      <td>2</td>\n",
       "      <td>2</td>\n",
       "      <td>1</td>\n",
       "      <td>0.000000</td>\n",
       "      <td>34</td>\n",
       "    </tr>\n",
       "  </tbody>\n",
       "</table>\n",
       "</div>"
      ],
      "text/plain": [
       "   Item_Weight  Item_Fat_Content  Item_Visibility  Item_Type  Item_MRP  \\\n",
       "0         9.30                 0         0.016047          0  249.8092   \n",
       "1         5.92                 1         0.019278          0   48.2692   \n",
       "2        17.50                 0         0.016760          0  141.6180   \n",
       "3        19.20                 1         0.053931          1  182.0950   \n",
       "4         8.93                 0         0.053931          1   53.8614   \n",
       "\n",
       "   Outlet_Establishment_Year  Outlet_Size  Outlet_Location_Type  Outlet_Type  \\\n",
       "0                       1999            1                     0            1   \n",
       "1                       2009            1                     2            2   \n",
       "2                       1999            1                     0            1   \n",
       "3                       1998            1                     2            0   \n",
       "4                       1987            2                     2            1   \n",
       "\n",
       "   Item_Visibility*Item_MRP  total_year_of_Outlet_Establishment  \n",
       "0                  4.008763                                  22  \n",
       "1                  0.930544                                  12  \n",
       "2                  2.373528                                  22  \n",
       "3                  0.000000                                  23  \n",
       "4                  0.000000                                  34  "
      ]
     },
     "execution_count": 220,
     "metadata": {},
     "output_type": "execute_result"
    }
   ],
   "source": [
    "X.head()"
   ]
  },
  {
   "cell_type": "code",
   "execution_count": 221,
   "id": "aeb9d811",
   "metadata": {},
   "outputs": [
    {
     "data": {
      "text/plain": [
       "(8523, 11)"
      ]
     },
     "execution_count": 221,
     "metadata": {},
     "output_type": "execute_result"
    }
   ],
   "source": [
    "X.shape"
   ]
  },
  {
   "cell_type": "code",
   "execution_count": 222,
   "id": "063a86b1",
   "metadata": {},
   "outputs": [
    {
     "data": {
      "text/plain": [
       "Item_Weight                           0\n",
       "Item_Fat_Content                      0\n",
       "Item_Visibility                       0\n",
       "Item_Type                             0\n",
       "Item_MRP                              0\n",
       "Outlet_Establishment_Year             0\n",
       "Outlet_Size                           0\n",
       "Outlet_Location_Type                  0\n",
       "Outlet_Type                           0\n",
       "Item_Visibility*Item_MRP              0\n",
       "total_year_of_Outlet_Establishment    0\n",
       "dtype: int64"
      ]
     },
     "execution_count": 222,
     "metadata": {},
     "output_type": "execute_result"
    }
   ],
   "source": [
    "X.isna().sum()"
   ]
  },
  {
   "cell_type": "code",
   "execution_count": null,
   "id": "7401090a",
   "metadata": {},
   "outputs": [],
   "source": []
  },
  {
   "cell_type": "code",
   "execution_count": 223,
   "id": "08fe9073",
   "metadata": {},
   "outputs": [
    {
     "name": "stderr",
     "output_type": "stream",
     "text": [
      "C:\\Users\\abhishek bablani\\anaconda3\\lib\\site-packages\\seaborn\\_decorators.py:36: FutureWarning: Pass the following variables as keyword args: x, y. From version 0.12, the only valid positional argument will be `data`, and passing other arguments without an explicit keyword will result in an error or misinterpretation.\n",
      "  warnings.warn(\n"
     ]
    },
    {
     "data": {
      "text/plain": [
       "<AxesSubplot:xlabel='total_year_of_Outlet_Establishment', ylabel='Item_Outlet_Sales'>"
      ]
     },
     "execution_count": 223,
     "metadata": {},
     "output_type": "execute_result"
    },
    {
     "data": {
      "image/png": "[encoded data removed]",
      "text/plain": [
       "<Figure size 432x288 with 1 Axes>"
      ]
     },
     "metadata": {
      "needs_background": "light"
     },
     "output_type": "display_data"
    }
   ],
   "source": [
    "sns.scatterplot(X[\"total_year_of_Outlet_Establishment\"],y[\"Item_Outlet_Sales\"])"
   ]
  },
  {
   "cell_type": "code",
   "execution_count": 224,
   "id": "bb9e5160",
   "metadata": {},
   "outputs": [],
   "source": [
    "test=pd.read_csv(\"test.csv\")"
   ]
  },
  {
   "cell_type": "code",
   "execution_count": 225,
   "id": "0338c924",
   "metadata": {},
   "outputs": [],
   "source": [
    "replace(test,\"Item_Fat_Content\",\"LF\",\"Low Fat\")"
   ]
  },
  {
   "cell_type": "code",
   "execution_count": 226,
   "id": "da273dad",
   "metadata": {},
   "outputs": [],
   "source": [
    "replace(test,\"Item_Fat_Content\",\"low fat\",\"Low Fat\")"
   ]
  },
  {
   "cell_type": "code",
   "execution_count": 227,
   "id": "22ae3954",
   "metadata": {},
   "outputs": [],
   "source": [
    "replace(test,\"Item_Fat_Content\",\"reg\",\"Regular\")"
   ]
  },
  {
   "cell_type": "code",
   "execution_count": 228,
   "id": "525602ea",
   "metadata": {},
   "outputs": [
    {
     "data": {
      "text/plain": [
       "Low Fat    3668\n",
       "Regular    2013\n",
       "Name: Item_Fat_Content, dtype: int64"
      ]
     },
     "execution_count": 228,
     "metadata": {},
     "output_type": "execute_result"
    }
   ],
   "source": [
    "test[\"Item_Fat_Content\"].value_counts()"
   ]
  },
  {
   "cell_type": "code",
   "execution_count": 229,
   "id": "16d8c9e8",
   "metadata": {},
   "outputs": [
    {
     "data": {
      "text/plain": [
       "Item_Identifier                 0\n",
       "Item_Weight                   976\n",
       "Item_Fat_Content                0\n",
       "Item_Visibility                 0\n",
       "Item_Type                       0\n",
       "Item_MRP                        0\n",
       "Outlet_Identifier               0\n",
       "Outlet_Establishment_Year       0\n",
       "Outlet_Size                  1606\n",
       "Outlet_Location_Type            0\n",
       "Outlet_Type                     0\n",
       "dtype: int64"
      ]
     },
     "execution_count": 229,
     "metadata": {},
     "output_type": "execute_result"
    }
   ],
   "source": [
    "test.isna().sum()"
   ]
  },
  {
   "cell_type": "code",
   "execution_count": 230,
   "id": "1621c3e3",
   "metadata": {},
   "outputs": [],
   "source": [
    "test=cleaning(test)"
   ]
  },
  {
   "cell_type": "code",
   "execution_count": 231,
   "id": "8fc31a6a",
   "metadata": {},
   "outputs": [
    {
     "data": {
      "text/html": [
       "<div>\n",
       "<style scoped>\n",
       "    .dataframe tbody tr th:only-of-type {\n",
       "        vertical-align: middle;\n",
       "    }\n",
       "\n",
       "    .dataframe tbody tr th {\n",
       "        vertical-align: top;\n",
       "    }\n",
       "\n",
       "    .dataframe thead th {\n",
       "        text-align: right;\n",
       "    }\n",
       "</style>\n",
       "<table border=\"1\" class=\"dataframe\">\n",
       "  <thead>\n",
       "    <tr style=\"text-align: right;\">\n",
       "      <th></th>\n",
       "      <th>Item_Weight</th>\n",
       "      <th>Item_Fat_Content</th>\n",
       "      <th>Item_Visibility</th>\n",
       "      <th>Item_Type</th>\n",
       "      <th>Item_MRP</th>\n",
       "      <th>Outlet_Establishment_Year</th>\n",
       "      <th>Outlet_Size</th>\n",
       "      <th>Outlet_Location_Type</th>\n",
       "      <th>Outlet_Type</th>\n",
       "      <th>Item_Visibility*Item_MRP</th>\n",
       "      <th>total_year_of_Outlet_Establishment</th>\n",
       "    </tr>\n",
       "  </thead>\n",
       "  <tbody>\n",
       "    <tr>\n",
       "      <th>0</th>\n",
       "      <td>20.750</td>\n",
       "      <td>0</td>\n",
       "      <td>0.007565</td>\n",
       "      <td>0</td>\n",
       "      <td>107.8622</td>\n",
       "      <td>1999</td>\n",
       "      <td>1</td>\n",
       "      <td>0</td>\n",
       "      <td>1</td>\n",
       "      <td>0.815960</td>\n",
       "      <td>22</td>\n",
       "    </tr>\n",
       "    <tr>\n",
       "      <th>1</th>\n",
       "      <td>8.300</td>\n",
       "      <td>1</td>\n",
       "      <td>0.038428</td>\n",
       "      <td>0</td>\n",
       "      <td>87.3198</td>\n",
       "      <td>2007</td>\n",
       "      <td>1</td>\n",
       "      <td>1</td>\n",
       "      <td>1</td>\n",
       "      <td>3.355497</td>\n",
       "      <td>14</td>\n",
       "    </tr>\n",
       "    <tr>\n",
       "      <th>2</th>\n",
       "      <td>14.600</td>\n",
       "      <td>0</td>\n",
       "      <td>0.099575</td>\n",
       "      <td>2</td>\n",
       "      <td>241.7538</td>\n",
       "      <td>1998</td>\n",
       "      <td>1</td>\n",
       "      <td>2</td>\n",
       "      <td>0</td>\n",
       "      <td>24.072612</td>\n",
       "      <td>23</td>\n",
       "    </tr>\n",
       "    <tr>\n",
       "      <th>3</th>\n",
       "      <td>7.315</td>\n",
       "      <td>0</td>\n",
       "      <td>0.015388</td>\n",
       "      <td>0</td>\n",
       "      <td>155.0340</td>\n",
       "      <td>2007</td>\n",
       "      <td>1</td>\n",
       "      <td>1</td>\n",
       "      <td>1</td>\n",
       "      <td>2.385724</td>\n",
       "      <td>14</td>\n",
       "    </tr>\n",
       "    <tr>\n",
       "      <th>4</th>\n",
       "      <td>12.500</td>\n",
       "      <td>1</td>\n",
       "      <td>0.118599</td>\n",
       "      <td>0</td>\n",
       "      <td>234.2300</td>\n",
       "      <td>1985</td>\n",
       "      <td>1</td>\n",
       "      <td>2</td>\n",
       "      <td>3</td>\n",
       "      <td>27.779517</td>\n",
       "      <td>36</td>\n",
       "    </tr>\n",
       "    <tr>\n",
       "      <th>...</th>\n",
       "      <td>...</td>\n",
       "      <td>...</td>\n",
       "      <td>...</td>\n",
       "      <td>...</td>\n",
       "      <td>...</td>\n",
       "      <td>...</td>\n",
       "      <td>...</td>\n",
       "      <td>...</td>\n",
       "      <td>...</td>\n",
       "      <td>...</td>\n",
       "      <td>...</td>\n",
       "    </tr>\n",
       "    <tr>\n",
       "      <th>5676</th>\n",
       "      <td>10.500</td>\n",
       "      <td>1</td>\n",
       "      <td>0.013496</td>\n",
       "      <td>0</td>\n",
       "      <td>141.3154</td>\n",
       "      <td>1997</td>\n",
       "      <td>0</td>\n",
       "      <td>0</td>\n",
       "      <td>1</td>\n",
       "      <td>1.907258</td>\n",
       "      <td>24</td>\n",
       "    </tr>\n",
       "    <tr>\n",
       "      <th>5677</th>\n",
       "      <td>7.600</td>\n",
       "      <td>1</td>\n",
       "      <td>0.142991</td>\n",
       "      <td>1</td>\n",
       "      <td>169.1448</td>\n",
       "      <td>2009</td>\n",
       "      <td>1</td>\n",
       "      <td>2</td>\n",
       "      <td>2</td>\n",
       "      <td>24.186167</td>\n",
       "      <td>12</td>\n",
       "    </tr>\n",
       "    <tr>\n",
       "      <th>5678</th>\n",
       "      <td>10.000</td>\n",
       "      <td>0</td>\n",
       "      <td>0.073529</td>\n",
       "      <td>1</td>\n",
       "      <td>118.7440</td>\n",
       "      <td>2002</td>\n",
       "      <td>1</td>\n",
       "      <td>1</td>\n",
       "      <td>1</td>\n",
       "      <td>8.731075</td>\n",
       "      <td>19</td>\n",
       "    </tr>\n",
       "    <tr>\n",
       "      <th>5679</th>\n",
       "      <td>15.300</td>\n",
       "      <td>1</td>\n",
       "      <td>0.054154</td>\n",
       "      <td>0</td>\n",
       "      <td>214.6218</td>\n",
       "      <td>2007</td>\n",
       "      <td>1</td>\n",
       "      <td>1</td>\n",
       "      <td>1</td>\n",
       "      <td>0.000000</td>\n",
       "      <td>14</td>\n",
       "    </tr>\n",
       "    <tr>\n",
       "      <th>5680</th>\n",
       "      <td>9.500</td>\n",
       "      <td>1</td>\n",
       "      <td>0.104720</td>\n",
       "      <td>0</td>\n",
       "      <td>79.7960</td>\n",
       "      <td>2002</td>\n",
       "      <td>1</td>\n",
       "      <td>1</td>\n",
       "      <td>1</td>\n",
       "      <td>8.356249</td>\n",
       "      <td>19</td>\n",
       "    </tr>\n",
       "  </tbody>\n",
       "</table>\n",
       "<p>5681 rows × 11 columns</p>\n",
       "</div>"
      ],
      "text/plain": [
       "      Item_Weight  Item_Fat_Content  Item_Visibility  Item_Type  Item_MRP  \\\n",
       "0          20.750                 0         0.007565          0  107.8622   \n",
       "1           8.300                 1         0.038428          0   87.3198   \n",
       "2          14.600                 0         0.099575          2  241.7538   \n",
       "3           7.315                 0         0.015388          0  155.0340   \n",
       "4          12.500                 1         0.118599          0  234.2300   \n",
       "...           ...               ...              ...        ...       ...   \n",
       "5676       10.500                 1         0.013496          0  141.3154   \n",
       "5677        7.600                 1         0.142991          1  169.1448   \n",
       "5678       10.000                 0         0.073529          1  118.7440   \n",
       "5679       15.300                 1         0.054154          0  214.6218   \n",
       "5680        9.500                 1         0.104720          0   79.7960   \n",
       "\n",
       "      Outlet_Establishment_Year  Outlet_Size  Outlet_Location_Type  \\\n",
       "0                          1999            1                     0   \n",
       "1                          2007            1                     1   \n",
       "2                          1998            1                     2   \n",
       "3                          2007            1                     1   \n",
       "4                          1985            1                     2   \n",
       "...                         ...          ...                   ...   \n",
       "5676                       1997            0                     0   \n",
       "5677                       2009            1                     2   \n",
       "5678                       2002            1                     1   \n",
       "5679                       2007            1                     1   \n",
       "5680                       2002            1                     1   \n",
       "\n",
       "      Outlet_Type  Item_Visibility*Item_MRP  \\\n",
       "0               1                  0.815960   \n",
       "1               1                  3.355497   \n",
       "2               0                 24.072612   \n",
       "3               1                  2.385724   \n",
       "4               3                 27.779517   \n",
       "...           ...                       ...   \n",
       "5676            1                  1.907258   \n",
       "5677            2                 24.186167   \n",
       "5678            1                  8.731075   \n",
       "5679            1                  0.000000   \n",
       "5680            1                  8.356249   \n",
       "\n",
       "      total_year_of_Outlet_Establishment  \n",
       "0                                     22  \n",
       "1                                     14  \n",
       "2                                     23  \n",
       "3                                     14  \n",
       "4                                     36  \n",
       "...                                  ...  \n",
       "5676                                  24  \n",
       "5677                                  12  \n",
       "5678                                  19  \n",
       "5679                                  14  \n",
       "5680                                  19  \n",
       "\n",
       "[5681 rows x 11 columns]"
      ]
     },
     "execution_count": 231,
     "metadata": {},
     "output_type": "execute_result"
    }
   ],
   "source": [
    "test"
   ]
  },
  {
   "cell_type": "code",
   "execution_count": 232,
   "id": "af695095",
   "metadata": {},
   "outputs": [
    {
     "data": {
      "text/plain": [
       "(5681, 11)"
      ]
     },
     "execution_count": 232,
     "metadata": {},
     "output_type": "execute_result"
    }
   ],
   "source": [
    "test.shape"
   ]
  },
  {
   "cell_type": "code",
   "execution_count": 233,
   "id": "f3ffbdb2",
   "metadata": {},
   "outputs": [
    {
     "data": {
      "text/plain": [
       "Item_Weight                           0\n",
       "Item_Fat_Content                      0\n",
       "Item_Visibility                       0\n",
       "Item_Type                             0\n",
       "Item_MRP                              0\n",
       "Outlet_Establishment_Year             0\n",
       "Outlet_Size                           0\n",
       "Outlet_Location_Type                  0\n",
       "Outlet_Type                           0\n",
       "Item_Outlet_Sales                     0\n",
       "Item_Visibility*Item_MRP              0\n",
       "total_year_of_Outlet_Establishment    0\n",
       "dtype: int64"
      ]
     },
     "execution_count": 233,
     "metadata": {},
     "output_type": "execute_result"
    }
   ],
   "source": [
    "train.isna().sum()"
   ]
  },
  {
   "cell_type": "code",
   "execution_count": 234,
   "id": "c77b4f11",
   "metadata": {},
   "outputs": [],
   "source": [
    "def RMSE(y_test, y_pred):\n",
    "    mse = mean_squared_error(y_test, y_pred)\n",
    "    print(\"RMSE Error:\", np.sqrt(mse))"
   ]
  },
  {
   "cell_type": "code",
   "execution_count": 235,
   "id": "69fa856d",
   "metadata": {},
   "outputs": [],
   "source": [
    "from sklearn.model_selection import train_test_split"
   ]
  },
  {
   "cell_type": "code",
   "execution_count": 236,
   "id": "d81ec1ee",
   "metadata": {},
   "outputs": [],
   "source": [
    " X_train,X_test,y_train,y_test=train_test_split(X,y,test_size=0.2,random_state=42)"
   ]
  },
  {
   "cell_type": "code",
   "execution_count": 237,
   "id": "7197688e",
   "metadata": {},
   "outputs": [],
   "source": [
    "\n",
    "import pandas as pd\n",
    "import numpy as np\n",
    "import seaborn as sns\n",
    "import matplotlib.pyplot as plt\n",
    "import sklearn\n",
    "from sklearn import model_selection, tree, metrics,svm\n",
    "from sklearn.linear_model import LogisticRegression, LinearRegression, Ridge, Lasso, BayesianRidge\n",
    "from sklearn.model_selection import train_test_split, GridSearchCV, KFold, cross_val_score\n",
    "from sklearn.metrics import mean_squared_error, mean_squared_log_error, roc_auc_score\n",
    "from sklearn.preprocessing import Normalizer, StandardScaler\n",
    "from xgboost.sklearn import XGBRegressor\n",
    "from sklearn.tree import DecisionTreeRegressor\n",
    "from sklearn.neighbors import KNeighborsRegressor\n",
    "from sklearn.ensemble import RandomForestRegressor, AdaBoostRegressor, StackingRegressor\n",
    "from lightgbm import LGBMRegressor\n",
    "from math import sqrt\n",
    "import warnings"
   ]
  },
  {
   "cell_type": "code",
   "execution_count": 238,
   "id": "64db3d8f",
   "metadata": {},
   "outputs": [],
   "source": [
    "models = []\n",
    "models.append(('Linear', LinearRegression()))\n",
    "models.append(('CART', DecisionTreeRegressor()))\n",
    "models.append(('GB', XGBRegressor()))\n",
    "models.append(('Forest', RandomForestRegressor()))\n",
    "models.append(('Light', LGBMRegressor()))\n",
    "models.append(('ADA', AdaBoostRegressor()))\n",
    "models.append(('Ridge', Ridge()))\n",
    "models.append(('Lasso', Lasso()))\n",
    "models.append(('Bayesian RIdge', BayesianRidge()))\n",
    "models.append(('SVM', svm.SVR()))\n",
    "models.append(('KNN', KNeighborsRegressor()))\n"
   ]
  },
  {
   "cell_type": "code",
   "execution_count": 239,
   "id": "a24c3d01",
   "metadata": {},
   "outputs": [
    {
     "name": "stderr",
     "output_type": "stream",
     "text": [
      "<ipython-input-239-89ec68cae06d>:5: DataConversionWarning: A column-vector y was passed when a 1d array was expected. Please change the shape of y to (n_samples,), for example using ravel().\n",
      "  model.fit(X_train, y_train)\n",
      "C:\\Users\\abhishek bablani\\anaconda3\\lib\\site-packages\\sklearn\\utils\\validation.py:63: DataConversionWarning: A column-vector y was passed when a 1d array was expected. Please change the shape of y to (n_samples, ), for example using ravel().\n",
      "  return f(*args, **kwargs)\n",
      "C:\\Users\\abhishek bablani\\anaconda3\\lib\\site-packages\\sklearn\\utils\\validation.py:63: DataConversionWarning: A column-vector y was passed when a 1d array was expected. Please change the shape of y to (n_samples, ), for example using ravel().\n",
      "  return f(*args, **kwargs)\n",
      "C:\\Users\\abhishek bablani\\anaconda3\\lib\\site-packages\\sklearn\\utils\\validation.py:63: DataConversionWarning: A column-vector y was passed when a 1d array was expected. Please change the shape of y to (n_samples, ), for example using ravel().\n",
      "  return f(*args, **kwargs)\n"
     ]
    },
    {
     "data": {
      "text/html": [
       "<div>\n",
       "<style scoped>\n",
       "    .dataframe tbody tr th:only-of-type {\n",
       "        vertical-align: middle;\n",
       "    }\n",
       "\n",
       "    .dataframe tbody tr th {\n",
       "        vertical-align: top;\n",
       "    }\n",
       "\n",
       "    .dataframe thead th {\n",
       "        text-align: right;\n",
       "    }\n",
       "</style>\n",
       "<table border=\"1\" class=\"dataframe\">\n",
       "  <thead>\n",
       "    <tr style=\"text-align: right;\">\n",
       "      <th></th>\n",
       "      <th>Model</th>\n",
       "      <th>RMSE</th>\n",
       "    </tr>\n",
       "  </thead>\n",
       "  <tbody>\n",
       "    <tr>\n",
       "      <th>0</th>\n",
       "      <td>Linear</td>\n",
       "      <td>1135.610494</td>\n",
       "    </tr>\n",
       "    <tr>\n",
       "      <th>0</th>\n",
       "      <td>CART</td>\n",
       "      <td>1508.706388</td>\n",
       "    </tr>\n",
       "    <tr>\n",
       "      <th>0</th>\n",
       "      <td>GB</td>\n",
       "      <td>1103.622985</td>\n",
       "    </tr>\n",
       "    <tr>\n",
       "      <th>0</th>\n",
       "      <td>Forest</td>\n",
       "      <td>1091.869655</td>\n",
       "    </tr>\n",
       "    <tr>\n",
       "      <th>0</th>\n",
       "      <td>Light</td>\n",
       "      <td>1044.854478</td>\n",
       "    </tr>\n",
       "    <tr>\n",
       "      <th>0</th>\n",
       "      <td>ADA</td>\n",
       "      <td>1310.796683</td>\n",
       "    </tr>\n",
       "    <tr>\n",
       "      <th>0</th>\n",
       "      <td>Ridge</td>\n",
       "      <td>1135.412527</td>\n",
       "    </tr>\n",
       "    <tr>\n",
       "      <th>0</th>\n",
       "      <td>Lasso</td>\n",
       "      <td>1135.551578</td>\n",
       "    </tr>\n",
       "    <tr>\n",
       "      <th>0</th>\n",
       "      <td>Bayesian RIdge</td>\n",
       "      <td>1135.569826</td>\n",
       "    </tr>\n",
       "    <tr>\n",
       "      <th>0</th>\n",
       "      <td>SVM</td>\n",
       "      <td>1670.066053</td>\n",
       "    </tr>\n",
       "    <tr>\n",
       "      <th>0</th>\n",
       "      <td>KNN</td>\n",
       "      <td>1264.994043</td>\n",
       "    </tr>\n",
       "  </tbody>\n",
       "</table>\n",
       "</div>"
      ],
      "text/plain": [
       "            Model         RMSE\n",
       "0          Linear  1135.610494\n",
       "0            CART  1508.706388\n",
       "0              GB  1103.622985\n",
       "0          Forest  1091.869655\n",
       "0           Light  1044.854478\n",
       "0             ADA  1310.796683\n",
       "0           Ridge  1135.412527\n",
       "0           Lasso  1135.551578\n",
       "0  Bayesian RIdge  1135.569826\n",
       "0             SVM  1670.066053\n",
       "0             KNN  1264.994043"
      ]
     },
     "execution_count": 239,
     "metadata": {},
     "output_type": "execute_result"
    }
   ],
   "source": [
    "\n",
    "model_comp = pd.DataFrame(columns=['Model', 'RMSE'])\n",
    "\n",
    "\n",
    "for name, model in models:\n",
    "    model.fit(X_train, y_train)\n",
    "    y_pred = model.predict(X_test)\n",
    "    rmse = sqrt(mean_squared_error(y_test, y_pred))\n",
    "    model_comp = model_comp.append([{'Model': name, 'RMSE': rmse}])\n",
    "\n",
    "model_comp"
   ]
  },
  {
   "cell_type": "markdown",
   "id": "de36745c",
   "metadata": {},
   "source": [
    "# using hyperparameter tuning for models showing less RMSE"
   ]
  },
  {
   "cell_type": "markdown",
   "id": "45bfde45",
   "metadata": {},
   "source": [
    "# random forest"
   ]
  },
  {
   "cell_type": "code",
   "execution_count": 240,
   "id": "4eeea845",
   "metadata": {},
   "outputs": [],
   "source": [
    "from sklearn.model_selection import RandomizedSearchCV"
   ]
  },
  {
   "cell_type": "code",
   "execution_count": 241,
   "id": "1c5a13b2",
   "metadata": {},
   "outputs": [
    {
     "name": "stdout",
     "output_type": "stream",
     "text": [
      "Fitting 3 folds for each of 100 candidates, totalling 300 fits\n"
     ]
    },
    {
     "name": "stderr",
     "output_type": "stream",
     "text": [
      "C:\\Users\\abhishek bablani\\anaconda3\\lib\\site-packages\\sklearn\\model_selection\\_search.py:880: DataConversionWarning: A column-vector y was passed when a 1d array was expected. Please change the shape of y to (n_samples,), for example using ravel().\n",
      "  self.best_estimator_.fit(X, y, **fit_params)\n"
     ]
    },
    {
     "name": "stdout",
     "output_type": "stream",
     "text": [
      "{'n_estimators': 1000, 'min_samples_split': 10, 'min_samples_leaf': 2, 'max_features': 'sqrt', 'max_depth': 10, 'bootstrap': True}\n"
     ]
    }
   ],
   "source": [
    "# Number of trees in random forest\n",
    "n_estimators = [int(x) for x in np.linspace(start = 200, stop = 2000, num = 10)]\n",
    "# Number of features to consider at every split\n",
    "max_features = ['auto', 'sqrt']\n",
    "# Maximum number of levels in tree\n",
    "max_depth = [int(x) for x in np.linspace(10, 110, num = 11)]\n",
    "max_depth.append(None)\n",
    "# Minimum number of samples required to split a node\n",
    "min_samples_split = [2, 5, 10]\n",
    "# Minimum number of samples required at each leaf node\n",
    "min_samples_leaf = [1, 2, 4]\n",
    "# Method of selecting samples for training each tree\n",
    "bootstrap = [True, False]\n",
    "# Create the random grid\n",
    "random_grid = {'n_estimators': n_estimators,\n",
    "               'max_features': max_features,\n",
    "               'max_depth': max_depth,\n",
    "               'min_samples_split': min_samples_split,\n",
    "               'min_samples_leaf': min_samples_leaf,\n",
    "               'bootstrap': bootstrap}\n",
    "rf = RandomForestRegressor()\n",
    "# Random search of parameters, using 3 fold cross validation, \n",
    "# search across 100 different combinations, and use all available cores\n",
    "rf_random = RandomizedSearchCV(estimator = rf, param_distributions = random_grid, n_iter = 100, cv = 3, verbose=2, random_state=42, n_jobs = -1)\n",
    "# Fit the random search modelrfr_random.fit(X_train,y_train)\n",
    "rf_random.fit(X_train,y_train)\n",
    "\n",
    "print(rf_random.best_params_)\n"
   ]
  },
  {
   "cell_type": "code",
   "execution_count": 136,
   "id": "52cbeed6",
   "metadata": {},
   "outputs": [
    {
     "name": "stdout",
     "output_type": "stream",
     "text": [
      "RandomForestRegressor(max_depth=10, max_features='sqrt', min_samples_leaf=4,\n",
      "                      n_estimators=400)\n"
     ]
    }
   ],
   "source": [
    "print(rf_random.best_estimator_)"
   ]
  },
  {
   "cell_type": "code",
   "execution_count": 54,
   "id": "b7f4dbf2",
   "metadata": {},
   "outputs": [
    {
     "name": "stderr",
     "output_type": "stream",
     "text": [
      "<ipython-input-54-e49daf826e1f>:3: DataConversionWarning: A column-vector y was passed when a 1d array was expected. Please change the shape of y to (n_samples,), for example using ravel().\n",
      "  model.fit(X_train, y_train)\n"
     ]
    },
    {
     "name": "stdout",
     "output_type": "stream",
     "text": [
      "For test data\n",
      "RMSE Error: 1018.7660631258072\n",
      "For train data\n",
      "RMSE Error: 968.2479053683599\n"
     ]
    }
   ],
   "source": [
    "model = RandomForestRegressor(max_depth=10, max_features='sqrt', min_samples_leaf=4,\n",
    "                      n_estimators=400,min_samples_split= 2,bootstrap= True)\n",
    "model.fit(X_train, y_train)\n",
    "y_pred = model.predict(X_test)\n",
    "y_hat=model.predict(X_train)\n",
    "print(\"For test data\")\n",
    "RMSE(y_test, y_pred)\n",
    "print(\"For train data\")\n",
    "RMSE(y_train, y_hat)"
   ]
  },
  {
   "cell_type": "code",
   "execution_count": 55,
   "id": "34c09c6f",
   "metadata": {},
   "outputs": [],
   "source": [
    "from sklearn.feature_selection import SelectFromModel"
   ]
  },
  {
   "cell_type": "code",
   "execution_count": 56,
   "id": "7230bbbf",
   "metadata": {},
   "outputs": [
    {
     "data": {
      "text/plain": [
       "array([0.023958  , 0.00431604, 0.06719631, 0.00532091, 0.44609343,\n",
       "       0.05764437, 0.02222689, 0.02325536, 0.21159656, 0.08199486,\n",
       "       0.05639727])"
      ]
     },
     "execution_count": 56,
     "metadata": {},
     "output_type": "execute_result"
    }
   ],
   "source": [
    "model.feature_importances_"
   ]
  },
  {
   "cell_type": "code",
   "execution_count": 57,
   "id": "a46033b4",
   "metadata": {},
   "outputs": [
    {
     "data": {
      "text/plain": [
       "<BarContainer object of 11 artists>"
      ]
     },
     "execution_count": 57,
     "metadata": {},
     "output_type": "execute_result"
    },
    {
     "data": {
      "image/png": "[encoded data removed]",
      "text/plain": [
       "<Figure size 432x288 with 1 Axes>"
      ]
     },
     "metadata": {
      "needs_background": "light"
     },
     "output_type": "display_data"
    }
   ],
   "source": [
    "plt.barh(X.columns, model.feature_importances_)"
   ]
  },
  {
   "cell_type": "code",
   "execution_count": 61,
   "id": "ad328cc0",
   "metadata": {},
   "outputs": [
    {
     "name": "stdout",
     "output_type": "stream",
     "text": [
      "Item_MRP\n",
      "Outlet_Type\n"
     ]
    }
   ],
   "source": [
    "# Print the names of the most important features\n",
    "for feature_list_index in sfm.get_support(indices=True):\n",
    "    print(feat_labels[feature_list_index])"
   ]
  },
  {
   "cell_type": "code",
   "execution_count": 137,
   "id": "3cc596e9",
   "metadata": {},
   "outputs": [],
   "source": [
    "from sklearn.ensemble import GradientBoostingRegressor"
   ]
  },
  {
   "cell_type": "code",
   "execution_count": 138,
   "id": "754a714d",
   "metadata": {},
   "outputs": [],
   "source": [
    "y_pres_test=model.predict(test)"
   ]
  },
  {
   "cell_type": "code",
   "execution_count": 139,
   "id": "ba986655",
   "metadata": {},
   "outputs": [],
   "source": [
    "df=pd.read_csv(\"test.csv\")"
   ]
  },
  {
   "cell_type": "code",
   "execution_count": 140,
   "id": "4f1fe490",
   "metadata": {},
   "outputs": [],
   "source": [
    "data={\"Item_Identifier\":df[\"Item_Identifier\"],\"Outlet_Identifier\":df[\"Outlet_Identifier\"],\"Item_Outlet_Sales\":y_pres_test}"
   ]
  },
  {
   "cell_type": "code",
   "execution_count": 141,
   "id": "60841ad4",
   "metadata": {},
   "outputs": [],
   "source": [
    "gbr=pd.DataFrame(data)\n",
    "gbr.to_csv('RFR2.csv')"
   ]
  },
  {
   "cell_type": "code",
   "execution_count": 199,
   "id": "383d0cf8",
   "metadata": {},
   "outputs": [
    {
     "name": "stdout",
     "output_type": "stream",
     "text": [
      "Fitting 3 folds for each of 100 candidates, totalling 300 fits\n",
      "[LightGBM] [Warning] Unknown parameter: min_samples_split\n",
      "[LightGBM] [Warning] Unknown parameter: min_samples_leaf\n",
      "[LightGBM] [Warning] Unknown parameter: max_features\n",
      "[LightGBM] [Warning] Unknown parameter: bootstrap\n",
      "{'n_estimators': 200, 'min_samples_split': 5, 'min_samples_leaf': 4, 'max_features': 'auto', 'max_depth': 10, 'bootstrap': True}\n"
     ]
    }
   ],
   "source": [
    "# Number of trees in random forest\n",
    "n_estimators = [int(x) for x in np.linspace(start = 200, stop = 2000, num = 10)]\n",
    "# Number of features to consider at every split\n",
    "max_features = ['auto', 'sqrt']\n",
    "# Maximum number of levels in tree\n",
    "max_depth = [int(x) for x in np.linspace(10, 110, num = 11)]\n",
    "max_depth.append(None)\n",
    "# Minimum number of samples required to split a node\n",
    "min_samples_split = [2, 5, 10]\n",
    "# Minimum number of samples required at each leaf node\n",
    "min_samples_leaf = [1, 2, 4]\n",
    "# Method of selecting samples for training each tree\n",
    "bootstrap = [True, False]\n",
    "# Create the random grid\n",
    "random_grid = {'n_estimators': n_estimators,\n",
    "               'max_features': max_features,\n",
    "               'max_depth': max_depth,\n",
    "               'min_samples_split': min_samples_split,\n",
    "               'min_samples_leaf': min_samples_leaf,\n",
    "               'bootstrap': bootstrap}\n",
    "lb = LGBMRegressor()\n",
    "# Random search of parameters, using 3 fold cross validation, \n",
    "# search across 100 different combinations, and use all available cores\n",
    "rf_random = RandomizedSearchCV(estimator = lb, param_distributions = random_grid, n_iter = 100, cv = 3, verbose=2, random_state=42, n_jobs = -1)\n",
    "# Fit the random search modelrfr_random.fit(X_train,y_train)\n",
    "rf_random.fit(X_train,y_train)\n",
    "\n",
    "print(rf_random.best_params_)"
   ]
  },
  {
   "cell_type": "code",
   "execution_count": 200,
   "id": "fa1eb3d7",
   "metadata": {},
   "outputs": [
    {
     "name": "stdout",
     "output_type": "stream",
     "text": [
      "LGBMRegressor(bootstrap=True, max_depth=10, max_features='auto',\n",
      "              min_samples_leaf=4, min_samples_split=5, n_estimators=200)\n"
     ]
    }
   ],
   "source": [
    "print(rf_random.best_estimator_)"
   ]
  },
  {
   "cell_type": "code",
   "execution_count": 201,
   "id": "78edc9f0",
   "metadata": {},
   "outputs": [
    {
     "name": "stdout",
     "output_type": "stream",
     "text": [
      "For test data\n",
      "RMSE Error: 1068.1868385479552\n",
      "For train data\n",
      "RMSE Error: 816.5740477379824\n"
     ]
    }
   ],
   "source": [
    "model = LGBMRegressor(bootstrap=True, max_depth=10, max_features='auto',\n",
    "              min_samples_leaf=4, min_samples_split=5, n_estimators=200)\n",
    "model.fit(X_train, y_train)\n",
    "y_pred = model.predict(X_test)\n",
    "y_hat=model.predict(X_train)\n",
    "print(\"For test data\")\n",
    "RMSE(y_test, y_pred)\n",
    "print(\"For train data\")\n",
    "RMSE(y_train, y_hat)"
   ]
  },
  {
   "cell_type": "code",
   "execution_count": 202,
   "id": "5a2645be",
   "metadata": {},
   "outputs": [],
   "source": [
    "y_pres_test=model.predict(test)"
   ]
  },
  {
   "cell_type": "code",
   "execution_count": 203,
   "id": "b9c52d51",
   "metadata": {},
   "outputs": [],
   "source": [
    "gbr=pd.DataFrame(data)\n",
    "gbr.to_csv('lgb2.csv')"
   ]
  },
  {
   "cell_type": "code",
   "execution_count": 204,
   "id": "69c432b2",
   "metadata": {},
   "outputs": [
    {
     "name": "stdout",
     "output_type": "stream",
     "text": [
      "Fitting 3 folds for each of 20 candidates, totalling 60 fits\n",
      "XGBRegressor(base_score=0.5, booster='gbtree', colsample_bylevel=1,\n",
      "             colsample_bynode=1, colsample_bytree=1, gamma=0, gpu_id=-1,\n",
      "             importance_type='gain', interaction_constraints='',\n",
      "             learning_rate=0.03, max_delta_step=0, max_depth=6,\n",
      "             min_child_weight=1, missing=nan, monotone_constraints='()',\n",
      "             n_estimators=120, n_jobs=12, num_parallel_tree=1, random_state=0,\n",
      "             reg_alpha=0, reg_lambda=1, scale_pos_weight=1, subsample=1,\n",
      "             tree_method='exact', validate_parameters=1, verbosity=None)\n",
      "{'n_estimators': 120, 'max_depth': 6, 'learning_rate': 0.03}\n"
     ]
    }
   ],
   "source": [
    "from xgboost.sklearn import XGBRegressor\n",
    "parameters = {\n",
    "    'max_depth': range (1, 10, 1),\n",
    "    'n_estimators': range(20, 220, 100),\n",
    "    'learning_rate': [0.001,0.1, 0.01,0.03, 0.05]\n",
    "}\n",
    "rfr_random = RandomizedSearchCV(estimator= XGBRegressor(),param_distributions=parameters, n_iter = 20, cv = 3, verbose=2, random_state=42, n_jobs=-1)\n",
    "rfr_random.fit(X_train,y_train)\n",
    "print(rfr_random.best_estimator_)\n",
    "print(rfr_random.best_params_)"
   ]
  },
  {
   "cell_type": "code",
   "execution_count": 210,
   "id": "ae63bee3",
   "metadata": {},
   "outputs": [],
   "source": [
    "xgb=XGBRegressor()"
   ]
  },
  {
   "cell_type": "code",
   "execution_count": 211,
   "id": "70b47720",
   "metadata": {},
   "outputs": [
    {
     "name": "stdout",
     "output_type": "stream",
     "text": [
      "For test data\n",
      "RMSE Error: 1103.6229849529093\n",
      "For train data\n",
      "RMSE Error: 660.2664875387036\n"
     ]
    }
   ],
   "source": [
    "# fit the model on the whole dataset\n",
    "xgb.fit(X_train, y_train)\n",
    "y_pred_xgb = xgb.predict(X_test)\n",
    "y_hat_xgb=xgb.predict(X_train)\n",
    "print(\"For test data\")\n",
    "RMSE(y_test, y_pred_xgb)\n",
    "print(\"For train data\")\n",
    "RMSE(y_train, y_hat_xgb)"
   ]
  },
  {
   "cell_type": "code",
   "execution_count": 214,
   "id": "e9d79bbe",
   "metadata": {},
   "outputs": [],
   "source": [
    "y_pres_test_xgb=xgb.predict(test)"
   ]
  },
  {
   "cell_type": "code",
   "execution_count": 217,
   "id": "7249835e",
   "metadata": {},
   "outputs": [],
   "source": [
    "gbr=pd.DataFrame(data)\n",
    "gbr.to_csv('xgb5.csv')"
   ]
  },
  {
   "cell_type": "code",
   "execution_count": 215,
   "id": "fbf70bff",
   "metadata": {},
   "outputs": [],
   "source": [
    "data={\"Item_Identifier\":df[\"Item_Identifier\"],\"Outlet_Identifier\":df[\"Outlet_Identifier\"],\"Item_Outlet_Sales\":y_pres_test_xgb}"
   ]
  },
  {
   "cell_type": "code",
   "execution_count": 219,
   "id": "6223ef1b",
   "metadata": {},
   "outputs": [
    {
     "name": "stderr",
     "output_type": "stream",
     "text": [
      "C:\\Users\\abhishek bablani\\anaconda3\\lib\\site-packages\\sklearn\\utils\\validation.py:63: DataConversionWarning: A column-vector y was passed when a 1d array was expected. Please change the shape of y to (n_samples, ), for example using ravel().\n",
      "  return f(*args, **kwargs)\n"
     ]
    },
    {
     "data": {
      "text/plain": [
       "AdaBoostRegressor(base_estimator=RandomForestRegressor(max_depth=5,\n",
       "                                                       max_features='log2',\n",
       "                                                       max_leaf_nodes=46,\n",
       "                                                       min_samples_leaf=5,\n",
       "                                                       min_samples_split=3,\n",
       "                                                       n_estimators=45,\n",
       "                                                       random_state=46),\n",
       "                  learning_rate=0.0003, n_estimators=55, random_state=10)"
      ]
     },
     "execution_count": 219,
     "metadata": {},
     "output_type": "execute_result"
    }
   ],
   "source": [
    "dic1={'criterion': 'mse',\n",
    "     'max_depth': 5,\n",
    "      'min_samples_leaf': 5,\n",
    "      'min_samples_split': 3, \n",
    "       'max_leaf_nodes': 46, \n",
    "      'max_features': 'log2', \n",
    "      'n_estimators': 45,\n",
    "            \n",
    "      \n",
    "     }\n",
    "rf1= RandomForestRegressor(random_state=46,**dic1)\n",
    "regr_Ada_withRF = AdaBoostRegressor(rf1,random_state=10,n_estimators=55,learning_rate=0.0003)\n",
    "regr_Ada_withRF.fit(X_train, y_train)\n"
   ]
  },
  {
   "cell_type": "code",
   "execution_count": 222,
   "id": "160f2113",
   "metadata": {},
   "outputs": [],
   "source": []
  },
  {
   "cell_type": "code",
   "execution_count": 223,
   "id": "a7d54cf6",
   "metadata": {},
   "outputs": [
    {
     "name": "stdout",
     "output_type": "stream",
     "text": [
      "For test data\n",
      "RMSE Error: 1066.2846052000443\n",
      "For train data\n",
      "RMSE Error: 1132.7658879756452\n"
     ]
    }
   ],
   "source": [
    "\n",
    "y_pred = regr_Ada_withRF.predict(X_test)\n",
    "y_hat=regr_Ada_withRF.predict(X_train)\n",
    "print(\"For test data\")\n",
    "RMSE(y_test, y_pred)\n",
    "print(\"For train data\")\n",
    "RMSE(y_train, y_hat)"
   ]
  },
  {
   "cell_type": "code",
   "execution_count": 228,
   "id": "e76dcd51",
   "metadata": {},
   "outputs": [],
   "source": [
    "y_pres_test_SDARF=regr_Ada_withRF.predict(test)"
   ]
  },
  {
   "cell_type": "code",
   "execution_count": 231,
   "id": "ee542f9d",
   "metadata": {},
   "outputs": [],
   "source": [
    "gbr=pd.DataFrame(data)\n",
    "gbr.to_csv('ADARF.csv')"
   ]
  },
  {
   "cell_type": "code",
   "execution_count": 178,
   "id": "87a821f1",
   "metadata": {},
   "outputs": [],
   "source": [
    "data={\"Item_Identifier\":df[\"Item_Identifier\"],\"Outlet_Identifier\":df[\"Outlet_Identifier\"],\"Item_Outlet_Sales\":y_pres_test_SDARF}"
   ]
  },
  {
   "cell_type": "code",
   "execution_count": 138,
   "id": "b0dff304",
   "metadata": {},
   "outputs": [],
   "source": [
    "from catboost import CatBoostRegressor"
   ]
  },
  {
   "cell_type": "code",
   "execution_count": 242,
   "id": "ec3708ac",
   "metadata": {},
   "outputs": [],
   "source": [
    "model = CatBoostRegressor()"
   ]
  },
  {
   "cell_type": "code",
   "execution_count": 243,
   "id": "6ff02f58",
   "metadata": {},
   "outputs": [],
   "source": [
    "parameters = {'depth'         : [6,8,10,20,30,40,50],\n",
    "                  'learning_rate' : [0.01, 0.05, 0.1],\n",
    "                  'iterations'    : [30, 50, 100,150,200]\n",
    "                 }\n"
   ]
  },
  {
   "cell_type": "code",
   "execution_count": 244,
   "id": "b78813d3",
   "metadata": {},
   "outputs": [
    {
     "name": "stderr",
     "output_type": "stream",
     "text": [
      "C:\\Users\\abhishek bablani\\anaconda3\\lib\\site-packages\\sklearn\\model_selection\\_search.py:918: UserWarning: One or more of the test scores are non-finite: [-3531.17054874 -4528.48177149 -5137.86807352 -3682.7509805\n",
      " -4992.04243434 -5363.07663964 -4122.42623624 -5344.64434999\n",
      " -5498.95088632 -4507.93296811 -5435.78910844 -5536.83211447\n",
      " -4791.61288442 -5479.84265487 -5559.16588093 -3527.48147156\n",
      " -4523.20531975 -5159.62814861 -3673.1582453  -5002.87744188\n",
      " -5393.23677702 -4103.78373386 -5360.4789187  -5528.35815281\n",
      " -4488.37218144 -5464.11204567 -5569.90823633 -4776.77060246\n",
      " -5502.50933879 -5597.91098655 -3526.95910911 -4482.01786432\n",
      " -5126.45399406 -3670.52342552 -4961.69361351 -5375.7620213\n",
      " -4088.98229209 -5347.70988576 -5528.99885356 -4461.95744854\n",
      " -5450.41669559 -5578.38182131 -4747.4229708  -5501.56543166\n",
      " -5612.83699527            nan            nan            nan\n",
      "            nan            nan            nan            nan\n",
      "            nan            nan            nan            nan\n",
      "            nan            nan            nan            nan\n",
      "            nan            nan            nan            nan\n",
      "            nan            nan            nan            nan\n",
      "            nan            nan            nan            nan\n",
      "            nan            nan            nan            nan\n",
      "            nan            nan            nan            nan\n",
      "            nan            nan            nan            nan\n",
      "            nan            nan            nan            nan\n",
      "            nan            nan            nan            nan\n",
      "            nan            nan            nan            nan\n",
      "            nan            nan            nan            nan\n",
      "            nan            nan            nan            nan\n",
      "            nan]\n",
      "  warnings.warn(\n"
     ]
    },
    {
     "name": "stdout",
     "output_type": "stream",
     "text": [
      "0:\tlearn: 1710.6652881\ttotal: 2.98ms\tremaining: 86.6ms\n",
      "1:\tlearn: 1701.9516951\ttotal: 10.3ms\tremaining: 144ms\n",
      "2:\tlearn: 1692.6329874\ttotal: 24.1ms\tremaining: 217ms\n",
      "3:\tlearn: 1683.9826196\ttotal: 44.1ms\tremaining: 287ms\n",
      "4:\tlearn: 1674.9215801\ttotal: 46.3ms\tremaining: 231ms\n",
      "5:\tlearn: 1666.0839444\ttotal: 49ms\tremaining: 196ms\n",
      "6:\tlearn: 1657.1906067\ttotal: 50.7ms\tremaining: 166ms\n",
      "7:\tlearn: 1648.4527863\ttotal: 60.1ms\tremaining: 165ms\n",
      "8:\tlearn: 1639.8799987\ttotal: 83ms\tremaining: 194ms\n",
      "9:\tlearn: 1631.4550004\ttotal: 97.3ms\tremaining: 195ms\n",
      "10:\tlearn: 1623.0758852\ttotal: 112ms\tremaining: 193ms\n",
      "11:\tlearn: 1614.8665071\ttotal: 126ms\tremaining: 189ms\n",
      "12:\tlearn: 1607.0452890\ttotal: 142ms\tremaining: 186ms\n",
      "13:\tlearn: 1598.8564156\ttotal: 158ms\tremaining: 181ms\n",
      "14:\tlearn: 1591.8365839\ttotal: 160ms\tremaining: 160ms\n",
      "15:\tlearn: 1584.1355698\ttotal: 175ms\tremaining: 153ms\n",
      "16:\tlearn: 1576.3194742\ttotal: 192ms\tremaining: 147ms\n",
      "17:\tlearn: 1569.0429220\ttotal: 198ms\tremaining: 132ms\n",
      "18:\tlearn: 1561.3439981\ttotal: 203ms\tremaining: 117ms\n",
      "19:\tlearn: 1554.1227903\ttotal: 207ms\tremaining: 104ms\n",
      "20:\tlearn: 1546.8385818\ttotal: 213ms\tremaining: 91.2ms\n",
      "21:\tlearn: 1539.8143755\ttotal: 230ms\tremaining: 83.5ms\n",
      "22:\tlearn: 1532.9330099\ttotal: 245ms\tremaining: 74.6ms\n",
      "23:\tlearn: 1526.0218342\ttotal: 262ms\tremaining: 65.4ms\n",
      "24:\tlearn: 1519.4161914\ttotal: 264ms\tremaining: 52.7ms\n",
      "25:\tlearn: 1513.4239440\ttotal: 265ms\tremaining: 40.8ms\n",
      "26:\tlearn: 1506.5770032\ttotal: 279ms\tremaining: 31ms\n",
      "27:\tlearn: 1499.9697294\ttotal: 281ms\tremaining: 20.1ms\n",
      "28:\tlearn: 1493.7451340\ttotal: 282ms\tremaining: 9.73ms\n",
      "29:\tlearn: 1487.3891324\ttotal: 295ms\tremaining: 0us\n"
     ]
    },
    {
     "data": {
      "text/plain": [
       "GridSearchCV(cv=2,\n",
       "             estimator=<catboost.core.CatBoostRegressor object at 0x000001B1923C9730>,\n",
       "             n_jobs=-1,\n",
       "             param_grid={'depth': [6, 8, 10, 20, 30, 40, 50],\n",
       "                         'iterations': [30, 50, 100, 150, 200],\n",
       "                         'learning_rate': [0.01, 0.05, 0.1]})"
      ]
     },
     "execution_count": 244,
     "metadata": {},
     "output_type": "execute_result"
    }
   ],
   "source": [
    "grid = GridSearchCV(estimator=model, param_grid = parameters, cv = 2, n_jobs=-1)\n",
    "grid.fit(X_train, y_train)"
   ]
  },
  {
   "cell_type": "code",
   "execution_count": 245,
   "id": "cbc4b7cd",
   "metadata": {},
   "outputs": [
    {
     "name": "stdout",
     "output_type": "stream",
     "text": [
      " Results from Grid Search \n",
      "\n",
      " The best estimator across ALL searched params:\n",
      " <catboost.core.CatBoostRegressor object at 0x000001B191ED9A30>\n",
      "\n",
      " The best score across ALL searched params:\n",
      " -3526.959109109014\n",
      "\n",
      " The best parameters across ALL searched params:\n",
      " {'depth': 10, 'iterations': 30, 'learning_rate': 0.01}\n"
     ]
    }
   ],
   "source": [
    "\n",
    "    print(\" Results from Grid Search \" )\n",
    "    print(\"\\n The best estimator across ALL searched params:\\n\", grid.best_estimator_)\n",
    "    print(\"\\n The best score across ALL searched params:\\n\", grid.best_score_)\n",
    "    print(\"\\n The best parameters across ALL searched params:\\n\", grid.best_params_)\n"
   ]
  },
  {
   "cell_type": "code",
   "execution_count": 246,
   "id": "545d8e9c",
   "metadata": {},
   "outputs": [
    {
     "name": "stdout",
     "output_type": "stream",
     "text": [
      "0:\tlearn: 1710.6652881\ttotal: 2.67ms\tremaining: 77.4ms\n",
      "1:\tlearn: 1701.9516951\ttotal: 10.3ms\tremaining: 144ms\n",
      "2:\tlearn: 1692.6329874\ttotal: 24ms\tremaining: 216ms\n",
      "3:\tlearn: 1683.9826196\ttotal: 39.2ms\tremaining: 255ms\n",
      "4:\tlearn: 1674.9215801\ttotal: 41.1ms\tremaining: 206ms\n",
      "5:\tlearn: 1666.0839444\ttotal: 43.6ms\tremaining: 174ms\n",
      "6:\tlearn: 1657.1906067\ttotal: 45.5ms\tremaining: 150ms\n",
      "7:\tlearn: 1648.4527863\ttotal: 52.6ms\tremaining: 145ms\n",
      "8:\tlearn: 1639.8799987\ttotal: 65.5ms\tremaining: 153ms\n",
      "9:\tlearn: 1631.4550004\ttotal: 78ms\tremaining: 156ms\n",
      "10:\tlearn: 1623.0758852\ttotal: 90.3ms\tremaining: 156ms\n",
      "11:\tlearn: 1614.8665071\ttotal: 102ms\tremaining: 154ms\n",
      "12:\tlearn: 1607.0452890\ttotal: 115ms\tremaining: 150ms\n",
      "13:\tlearn: 1598.8564156\ttotal: 127ms\tremaining: 145ms\n",
      "14:\tlearn: 1591.8365839\ttotal: 128ms\tremaining: 128ms\n",
      "15:\tlearn: 1584.1355698\ttotal: 140ms\tremaining: 122ms\n",
      "16:\tlearn: 1576.3194742\ttotal: 152ms\tremaining: 117ms\n",
      "17:\tlearn: 1569.0429220\ttotal: 156ms\tremaining: 104ms\n",
      "18:\tlearn: 1561.3439981\ttotal: 159ms\tremaining: 92.3ms\n",
      "19:\tlearn: 1554.1227903\ttotal: 163ms\tremaining: 81.4ms\n",
      "20:\tlearn: 1546.8385818\ttotal: 167ms\tremaining: 71.4ms\n",
      "21:\tlearn: 1539.8143755\ttotal: 178ms\tremaining: 64.9ms\n",
      "22:\tlearn: 1532.9330099\ttotal: 192ms\tremaining: 58.4ms\n",
      "23:\tlearn: 1526.0218342\ttotal: 205ms\tremaining: 51.4ms\n",
      "24:\tlearn: 1519.4161914\ttotal: 207ms\tremaining: 41.5ms\n",
      "25:\tlearn: 1513.4239440\ttotal: 208ms\tremaining: 32ms\n",
      "26:\tlearn: 1506.5770032\ttotal: 221ms\tremaining: 24.6ms\n",
      "27:\tlearn: 1499.9697294\ttotal: 223ms\tremaining: 15.9ms\n",
      "28:\tlearn: 1493.7451340\ttotal: 224ms\tremaining: 7.72ms\n",
      "29:\tlearn: 1487.3891324\ttotal: 236ms\tremaining: 0us\n",
      "For test data\n",
      "RMSE Error: 1419.3886768397065\n",
      "For train data\n",
      "RMSE Error: 1487.3891322908266\n"
     ]
    }
   ],
   "source": [
    "model = CatBoostRegressor(depth= 10, iterations=30, learning_rate=0.01)\n",
    "# Fit model\n",
    "model.fit(X_train, y_train)\n",
    "# Get predictions\n",
    "y_pred_cat = model.predict(X_test)\n",
    "y_hat_cat=model.predict(X_train)\n",
    "print(\"For test data\")\n",
    "RMSE(y_test, y_pred_cat)\n",
    "print(\"For train data\")\n",
    "RMSE(y_train, y_hat_cat)"
   ]
  },
  {
   "cell_type": "code",
   "execution_count": 174,
   "id": "bad9eaff",
   "metadata": {},
   "outputs": [],
   "source": [
    "y_pres_test_SDARF=model.predict(test)"
   ]
  },
  {
   "cell_type": "code",
   "execution_count": null,
   "id": "d8fe6c2e",
   "metadata": {},
   "outputs": [],
   "source": []
  },
  {
   "cell_type": "code",
   "execution_count": 179,
   "id": "3bd61578",
   "metadata": {},
   "outputs": [],
   "source": [
    "gbr=pd.DataFrame(data)\n",
    "gbr.to_csv('cat.csv')"
   ]
  },
  {
   "cell_type": "code",
   "execution_count": 263,
   "id": "d687087d",
   "metadata": {},
   "outputs": [
    {
     "name": "stderr",
     "output_type": "stream",
     "text": [
      "C:\\Users\\abhishek bablani\\anaconda3\\lib\\site-packages\\sklearn\\model_selection\\_search.py:918: UserWarning: One or more of the test scores are non-finite: [ 2.12857964e-002  4.15675372e-002  6.00696925e-002  7.69624894e-002\n",
      "  9.30251527e-002  1.63297425e-001  4.87794686e-002  9.38589503e-002\n",
      "  1.34998454e-001  1.72162349e-001  2.06131929e-001  3.37247911e-001\n",
      "  5.57167024e-002  1.07023541e-001  1.53334497e-001  1.95163110e-001\n",
      "  2.33007504e-001  3.75056001e-001  5.61702622e-002  1.07705280e-001\n",
      "  1.54012184e-001  1.95720631e-001  2.33384734e-001  3.73660220e-001\n",
      "  5.59002226e-002  1.07008484e-001  1.53120515e-001  1.94627253e-001\n",
      "  2.31970603e-001  3.69923006e-001  1.63854346e-001  2.64967556e-001\n",
      "  3.34734981e-001  3.86905109e-001  4.26205285e-001  5.18838267e-001\n",
      "  3.38295628e-001  4.79885046e-001  5.42699499e-001  5.71811975e-001\n",
      "  5.84496710e-001  5.94839828e-001  3.76039078e-001  5.14012466e-001\n",
      "  5.64258960e-001  5.83142759e-001  5.89431538e-001  5.88090414e-001\n",
      "  3.74629829e-001  5.08283568e-001  5.55031351e-001  5.71444846e-001\n",
      "  5.75950515e-001  5.68057376e-001  3.70628402e-001  4.99386951e-001\n",
      "  5.42698705e-001  5.56382967e-001  5.58421344e-001  5.44503306e-001\n",
      "  5.22646861e-001  5.51325742e-001  5.54979199e-001  5.55691183e-001\n",
      "  5.56019740e-001  5.56200091e-001  5.94880019e-001  5.90447992e-001\n",
      "  5.85828328e-001  5.80789363e-001  5.74820980e-001  5.51670748e-001\n",
      "  5.85908525e-001  5.68270086e-001  5.54562868e-001  5.43667390e-001\n",
      "  5.35684769e-001  5.03742248e-001  5.60308028e-001  5.38976417e-001\n",
      "  5.21068235e-001  5.10460580e-001  5.02747771e-001  4.78816545e-001\n",
      "  5.41541255e-001  5.15745921e-001  5.03995966e-001  4.91421552e-001\n",
      "  4.86086352e-001  4.78333286e-001  5.53357920e-001  5.51944180e-001\n",
      "  5.49331628e-001  5.47797040e-001  5.46732490e-001  5.41235830e-001\n",
      "  4.70780942e-001  3.95294974e-001  3.54699481e-001  3.07393173e-001\n",
      "  2.89849370e-001  2.18817313e-001  2.60659466e-001  1.94955878e-001\n",
      "  1.68823047e-001  1.52456062e-001  1.41112763e-001  1.46599512e-001\n",
      "  2.04553241e-001  1.77304677e-001  1.65431779e-001  1.70037274e-001\n",
      "  1.66227511e-001  1.75028972e-001  1.93516127e-001  1.72435393e-001\n",
      "  1.77022029e-001  1.97824170e-001  1.87842092e-001  1.84543125e-001\n",
      " -6.33103390e+094 -1.68161117e+190 -4.46659450e+285             -inf\n",
      "             -inf              nan -1.39105787e+095 -3.69484431e+190\n",
      " -9.81402334e+285             -inf             -inf              nan\n",
      " -1.61437234e+095 -4.28792108e+190 -1.13882452e+286             -inf\n",
      "             -inf              nan -1.71375136e+095 -4.53268201e+190\n",
      " -1.20404490e+286             -inf             -inf              nan\n",
      " -1.77218109e+095 -4.70939774e+190 -1.25293616e+286             -inf\n",
      "             -inf              nan]\n",
      "  warnings.warn(\n",
      "C:\\Users\\abhishek bablani\\anaconda3\\lib\\site-packages\\sklearn\\model_selection\\_search.py:925: RuntimeWarning: invalid value encountered in subtract\n",
      "  array_stds = np.sqrt(np.average((array -\n",
      "C:\\Users\\abhishek bablani\\anaconda3\\lib\\site-packages\\sklearn\\model_selection\\_search.py:925: RuntimeWarning: overflow encountered in square\n",
      "  array_stds = np.sqrt(np.average((array -\n",
      "C:\\Users\\abhishek bablani\\anaconda3\\lib\\site-packages\\sklearn\\utils\\validation.py:63: DataConversionWarning: A column-vector y was passed when a 1d array was expected. Please change the shape of y to (n_samples, ), for example using ravel().\n",
      "  return f(*args, **kwargs)\n"
     ]
    },
    {
     "name": "stdout",
     "output_type": "stream",
     "text": [
      "GradientBoostingRegressor(n_estimators=50)\n",
      "{'learning_rate': 0.1, 'max_depth': 3, 'n_estimators': 50}\n"
     ]
    }
   ],
   "source": [
    "from sklearn.ensemble import GradientBoostingRegressor\n",
    "from sklearn.metrics import mean_squared_error\n",
    "from sklearn.model_selection import GridSearchCV\n",
    "gbr=GradientBoostingRegressor()\n",
    "parameters = {\n",
    "    \"n_estimators\":[50,100,150,200,250,500],\n",
    "    \"max_depth\":[1,3,5,7,9],\n",
    "    \"learning_rate\":[0.001,0.01,0.1,1,10]\n",
    "}\n",
    "cv = GridSearchCV(gbr,parameters,cv=3,n_jobs=-1)\n",
    "cv.fit(X_train,y_train)\n",
    "print(cv.best_estimator_)\n",
    "print(cv.best_params_)"
   ]
  },
  {
   "cell_type": "code",
   "execution_count": 264,
   "id": "3d81bdf3",
   "metadata": {},
   "outputs": [
    {
     "name": "stderr",
     "output_type": "stream",
     "text": [
      "C:\\Users\\abhishek bablani\\anaconda3\\lib\\site-packages\\sklearn\\utils\\validation.py:63: DataConversionWarning: A column-vector y was passed when a 1d array was expected. Please change the shape of y to (n_samples, ), for example using ravel().\n",
      "  return f(*args, **kwargs)\n"
     ]
    },
    {
     "name": "stdout",
     "output_type": "stream",
     "text": [
      "For test data\n",
      "RMSE Error: 1329.2200314596978\n",
      "For train data\n",
      "RMSE Error: 1395.2852586571557\n"
     ]
    }
   ],
   "source": [
    "model = GradientBoostingRegressor(learning_rate=0.01, n_estimators=50, max_depth=3)\n",
    "model.fit(X_train, y_train)\n",
    "y_pred = model.predict(X_test)\n",
    "y_hat=model.predict(X_train)\n",
    "print(\"For test data\")\n",
    "RMSE(y_test, y_pred)\n",
    "print(\"For train data\")\n",
    "RMSE(y_train, y_hat)"
   ]
  },
  {
   "cell_type": "code",
   "execution_count": null,
   "id": "078bb02a",
   "metadata": {},
   "outputs": [],
   "source": []
  },
  {
   "cell_type": "code",
   "execution_count": 136,
   "id": "e50c266d",
   "metadata": {},
   "outputs": [],
   "source": [
    " from sklearn.ensemble import VotingRegressor\n"
   ]
  },
  {
   "cell_type": "code",
   "execution_count": 181,
   "id": "baf3ae4f",
   "metadata": {},
   "outputs": [],
   "source": [
    "r1 = LGBMRegressor(bootstrap=True, max_depth=10, max_features='auto',\n",
    "              min_samples_leaf=4, min_samples_split=5, n_estimators=200)\n",
    "r2 = RandomForestRegressor(max_depth=10, max_features='sqrt', min_samples_leaf=4,\n",
    "                      n_estimators=400,min_samples_split= 2,bootstrap= True)\n",
    "r3= GradientBoostingRegressor(learning_rate=0.01, n_estimators=50, max_depth=3)"
   ]
  },
  {
   "cell_type": "code",
   "execution_count": 265,
   "id": "b94e65ee",
   "metadata": {},
   "outputs": [],
   "source": [
    "model = VotingRegressor([('lr', r1), ('rf', r2),('gb', r3) ])\n"
   ]
  },
  {
   "cell_type": "code",
   "execution_count": 266,
   "id": "ea29f516",
   "metadata": {},
   "outputs": [
    {
     "name": "stderr",
     "output_type": "stream",
     "text": [
      "C:\\Users\\abhishek bablani\\anaconda3\\lib\\site-packages\\sklearn\\utils\\validation.py:63: DataConversionWarning: A column-vector y was passed when a 1d array was expected. Please change the shape of y to (n_samples, ), for example using ravel().\n",
      "  return f(*args, **kwargs)\n"
     ]
    },
    {
     "name": "stdout",
     "output_type": "stream",
     "text": [
      "[LightGBM] [Warning] Unknown parameter: bootstrap\n",
      "[LightGBM] [Warning] Unknown parameter: max_features\n",
      "[LightGBM] [Warning] Unknown parameter: min_samples_leaf\n",
      "[LightGBM] [Warning] Unknown parameter: min_samples_split\n",
      "Learning rate set to 0.054928\n",
      "0:\tlearn: 1669.7130753\ttotal: 2.15ms\tremaining: 2.15s\n",
      "1:\tlearn: 1623.5086551\ttotal: 3.99ms\tremaining: 1.99s\n",
      "2:\tlearn: 1578.7785700\ttotal: 5.92ms\tremaining: 1.97s\n",
      "3:\tlearn: 1539.3098955\ttotal: 7.96ms\tremaining: 1.98s\n",
      "4:\tlearn: 1500.7687168\ttotal: 9.88ms\tremaining: 1.97s\n",
      "5:\tlearn: 1466.8642805\ttotal: 12ms\tremaining: 1.98s\n",
      "6:\tlearn: 1434.2149677\ttotal: 13.9ms\tremaining: 1.98s\n",
      "7:\tlearn: 1405.2758945\ttotal: 16ms\tremaining: 1.98s\n",
      "8:\tlearn: 1377.7777214\ttotal: 17.9ms\tremaining: 1.98s\n",
      "9:\tlearn: 1353.5986862\ttotal: 19.9ms\tremaining: 1.97s\n",
      "10:\tlearn: 1333.7888039\ttotal: 21.1ms\tremaining: 1.9s\n",
      "11:\tlearn: 1313.4616760\ttotal: 23.1ms\tremaining: 1.9s\n",
      "12:\tlearn: 1295.0500703\ttotal: 25ms\tremaining: 1.9s\n",
      "13:\tlearn: 1275.3412326\ttotal: 26.9ms\tremaining: 1.89s\n",
      "14:\tlearn: 1258.2752696\ttotal: 28.7ms\tremaining: 1.88s\n",
      "15:\tlearn: 1242.4634682\ttotal: 30.7ms\tremaining: 1.89s\n",
      "16:\tlearn: 1228.7902403\ttotal: 32.6ms\tremaining: 1.89s\n",
      "17:\tlearn: 1216.3429532\ttotal: 34.5ms\tremaining: 1.88s\n",
      "18:\tlearn: 1203.9800075\ttotal: 36.5ms\tremaining: 1.88s\n",
      "19:\tlearn: 1193.0869278\ttotal: 38.4ms\tremaining: 1.88s\n",
      "20:\tlearn: 1183.0325516\ttotal: 40.4ms\tremaining: 1.88s\n",
      "21:\tlearn: 1174.4377348\ttotal: 42.4ms\tremaining: 1.88s\n",
      "22:\tlearn: 1166.5326296\ttotal: 44.3ms\tremaining: 1.88s\n",
      "23:\tlearn: 1159.3727062\ttotal: 46.3ms\tremaining: 1.88s\n",
      "24:\tlearn: 1152.5027498\ttotal: 48.2ms\tremaining: 1.88s\n",
      "25:\tlearn: 1146.2021137\ttotal: 50ms\tremaining: 1.87s\n",
      "26:\tlearn: 1141.6042572\ttotal: 52ms\tremaining: 1.87s\n",
      "27:\tlearn: 1136.6004657\ttotal: 53.9ms\tremaining: 1.87s\n",
      "28:\tlearn: 1131.8083891\ttotal: 55.9ms\tremaining: 1.87s\n",
      "29:\tlearn: 1128.0425731\ttotal: 57.9ms\tremaining: 1.87s\n",
      "30:\tlearn: 1124.2507416\ttotal: 59.8ms\tremaining: 1.87s\n",
      "31:\tlearn: 1120.6851271\ttotal: 61.7ms\tremaining: 1.87s\n",
      "32:\tlearn: 1117.3087320\ttotal: 63.6ms\tremaining: 1.86s\n",
      "33:\tlearn: 1114.2825748\ttotal: 65.5ms\tremaining: 1.86s\n",
      "34:\tlearn: 1111.4341497\ttotal: 67.5ms\tremaining: 1.86s\n",
      "35:\tlearn: 1108.5021053\ttotal: 69.3ms\tremaining: 1.86s\n",
      "36:\tlearn: 1106.3039410\ttotal: 71.3ms\tremaining: 1.85s\n",
      "37:\tlearn: 1104.0938149\ttotal: 73.2ms\tremaining: 1.85s\n",
      "38:\tlearn: 1102.2372773\ttotal: 75ms\tremaining: 1.85s\n",
      "39:\tlearn: 1101.0036584\ttotal: 76.7ms\tremaining: 1.84s\n",
      "40:\tlearn: 1099.4395572\ttotal: 78.5ms\tremaining: 1.83s\n",
      "41:\tlearn: 1097.8889148\ttotal: 80.3ms\tremaining: 1.83s\n",
      "42:\tlearn: 1096.8694139\ttotal: 82.2ms\tremaining: 1.83s\n",
      "43:\tlearn: 1095.6650414\ttotal: 84ms\tremaining: 1.82s\n",
      "44:\tlearn: 1094.4884842\ttotal: 85.7ms\tremaining: 1.82s\n",
      "45:\tlearn: 1093.0955684\ttotal: 87.5ms\tremaining: 1.81s\n",
      "46:\tlearn: 1092.1424823\ttotal: 89.3ms\tremaining: 1.81s\n",
      "47:\tlearn: 1090.9176448\ttotal: 91.1ms\tremaining: 1.8s\n",
      "48:\tlearn: 1089.8592492\ttotal: 92.8ms\tremaining: 1.8s\n",
      "49:\tlearn: 1088.9007645\ttotal: 94.6ms\tremaining: 1.8s\n",
      "50:\tlearn: 1087.9546084\ttotal: 96.7ms\tremaining: 1.8s\n",
      "51:\tlearn: 1087.2601181\ttotal: 98.4ms\tremaining: 1.79s\n",
      "52:\tlearn: 1086.2505815\ttotal: 100ms\tremaining: 1.79s\n",
      "53:\tlearn: 1085.4228941\ttotal: 102ms\tremaining: 1.78s\n",
      "54:\tlearn: 1085.2613831\ttotal: 103ms\tremaining: 1.77s\n",
      "55:\tlearn: 1084.6104939\ttotal: 105ms\tremaining: 1.76s\n",
      "56:\tlearn: 1083.8811192\ttotal: 106ms\tremaining: 1.76s\n",
      "57:\tlearn: 1083.1522293\ttotal: 108ms\tremaining: 1.76s\n",
      "58:\tlearn: 1082.9082603\ttotal: 109ms\tremaining: 1.74s\n",
      "59:\tlearn: 1082.0222920\ttotal: 111ms\tremaining: 1.74s\n",
      "60:\tlearn: 1081.3156658\ttotal: 113ms\tremaining: 1.74s\n",
      "61:\tlearn: 1080.7312070\ttotal: 115ms\tremaining: 1.74s\n",
      "62:\tlearn: 1080.1872682\ttotal: 116ms\tremaining: 1.73s\n",
      "63:\tlearn: 1079.8228093\ttotal: 118ms\tremaining: 1.72s\n",
      "64:\tlearn: 1079.1798800\ttotal: 119ms\tremaining: 1.72s\n",
      "65:\tlearn: 1078.9090777\ttotal: 121ms\tremaining: 1.71s\n",
      "66:\tlearn: 1078.1047918\ttotal: 123ms\tremaining: 1.72s\n",
      "67:\tlearn: 1077.4699534\ttotal: 125ms\tremaining: 1.71s\n",
      "68:\tlearn: 1076.9042792\ttotal: 127ms\tremaining: 1.71s\n",
      "69:\tlearn: 1076.7521193\ttotal: 128ms\tremaining: 1.7s\n",
      "70:\tlearn: 1076.3788660\ttotal: 130ms\tremaining: 1.7s\n",
      "71:\tlearn: 1076.0581433\ttotal: 132ms\tremaining: 1.7s\n",
      "72:\tlearn: 1075.7971050\ttotal: 133ms\tremaining: 1.69s\n",
      "73:\tlearn: 1075.4108751\ttotal: 135ms\tremaining: 1.69s\n",
      "74:\tlearn: 1075.0565243\ttotal: 137ms\tremaining: 1.69s\n",
      "75:\tlearn: 1074.7067995\ttotal: 138ms\tremaining: 1.68s\n",
      "76:\tlearn: 1073.9819634\ttotal: 140ms\tremaining: 1.68s\n",
      "77:\tlearn: 1073.4858358\ttotal: 142ms\tremaining: 1.68s\n",
      "78:\tlearn: 1073.0940092\ttotal: 144ms\tremaining: 1.68s\n",
      "79:\tlearn: 1072.6333353\ttotal: 146ms\tremaining: 1.67s\n",
      "80:\tlearn: 1072.5375352\ttotal: 147ms\tremaining: 1.67s\n",
      "81:\tlearn: 1072.3570744\ttotal: 149ms\tremaining: 1.66s\n",
      "82:\tlearn: 1071.7575452\ttotal: 150ms\tremaining: 1.66s\n",
      "83:\tlearn: 1071.4710377\ttotal: 152ms\tremaining: 1.66s\n",
      "84:\tlearn: 1071.1398853\ttotal: 154ms\tremaining: 1.66s\n",
      "85:\tlearn: 1070.6166165\ttotal: 156ms\tremaining: 1.66s\n",
      "86:\tlearn: 1069.9672014\ttotal: 158ms\tremaining: 1.65s\n",
      "87:\tlearn: 1069.2965824\ttotal: 159ms\tremaining: 1.65s\n",
      "88:\tlearn: 1069.0633076\ttotal: 161ms\tremaining: 1.65s\n",
      "89:\tlearn: 1068.8387723\ttotal: 163ms\tremaining: 1.65s\n",
      "90:\tlearn: 1068.0425164\ttotal: 165ms\tremaining: 1.65s\n",
      "91:\tlearn: 1067.9106625\ttotal: 167ms\tremaining: 1.65s\n",
      "92:\tlearn: 1067.5793055\ttotal: 169ms\tremaining: 1.64s\n",
      "93:\tlearn: 1067.2762128\ttotal: 170ms\tremaining: 1.64s\n",
      "94:\tlearn: 1066.9497738\ttotal: 172ms\tremaining: 1.64s\n",
      "95:\tlearn: 1066.6106887\ttotal: 174ms\tremaining: 1.64s\n",
      "96:\tlearn: 1065.9690618\ttotal: 176ms\tremaining: 1.64s\n",
      "97:\tlearn: 1065.6967990\ttotal: 177ms\tremaining: 1.63s\n",
      "98:\tlearn: 1065.2560529\ttotal: 179ms\tremaining: 1.63s\n",
      "99:\tlearn: 1065.0707810\ttotal: 181ms\tremaining: 1.63s\n",
      "100:\tlearn: 1064.5808500\ttotal: 183ms\tremaining: 1.63s\n",
      "101:\tlearn: 1063.8920340\ttotal: 185ms\tremaining: 1.63s\n",
      "102:\tlearn: 1063.6732476\ttotal: 186ms\tremaining: 1.62s\n",
      "103:\tlearn: 1063.4876103\ttotal: 188ms\tremaining: 1.62s\n",
      "104:\tlearn: 1063.2263489\ttotal: 190ms\tremaining: 1.62s\n",
      "105:\tlearn: 1062.8171594\ttotal: 192ms\tremaining: 1.62s\n",
      "106:\tlearn: 1062.5613167\ttotal: 194ms\tremaining: 1.62s\n",
      "107:\tlearn: 1062.1278055\ttotal: 196ms\tremaining: 1.61s\n",
      "108:\tlearn: 1061.8045669\ttotal: 197ms\tremaining: 1.61s\n",
      "109:\tlearn: 1061.2500161\ttotal: 199ms\tremaining: 1.61s\n",
      "110:\tlearn: 1060.7092023\ttotal: 201ms\tremaining: 1.61s\n",
      "111:\tlearn: 1060.4257217\ttotal: 203ms\tremaining: 1.61s\n",
      "112:\tlearn: 1059.8512604\ttotal: 205ms\tremaining: 1.61s\n",
      "113:\tlearn: 1059.5275162\ttotal: 206ms\tremaining: 1.6s\n",
      "114:\tlearn: 1059.3671076\ttotal: 208ms\tremaining: 1.6s\n",
      "115:\tlearn: 1058.9187189\ttotal: 210ms\tremaining: 1.6s\n",
      "116:\tlearn: 1058.7623131\ttotal: 212ms\tremaining: 1.6s\n",
      "117:\tlearn: 1058.2026758\ttotal: 213ms\tremaining: 1.59s\n",
      "118:\tlearn: 1057.9421448\ttotal: 215ms\tremaining: 1.59s\n",
      "119:\tlearn: 1057.6092258\ttotal: 217ms\tremaining: 1.59s\n",
      "120:\tlearn: 1057.2867103\ttotal: 219ms\tremaining: 1.59s\n",
      "121:\tlearn: 1057.0567409\ttotal: 221ms\tremaining: 1.59s\n",
      "122:\tlearn: 1056.5619562\ttotal: 222ms\tremaining: 1.58s\n",
      "123:\tlearn: 1056.0619486\ttotal: 224ms\tremaining: 1.58s\n",
      "124:\tlearn: 1055.5021714\ttotal: 226ms\tremaining: 1.58s\n",
      "125:\tlearn: 1055.0860911\ttotal: 228ms\tremaining: 1.58s\n",
      "126:\tlearn: 1054.8300403\ttotal: 229ms\tremaining: 1.58s\n",
      "127:\tlearn: 1054.3843292\ttotal: 231ms\tremaining: 1.57s\n",
      "128:\tlearn: 1053.9859680\ttotal: 233ms\tremaining: 1.57s\n",
      "129:\tlearn: 1053.7247699\ttotal: 235ms\tremaining: 1.57s\n",
      "130:\tlearn: 1053.1646787\ttotal: 237ms\tremaining: 1.57s\n",
      "131:\tlearn: 1053.0483945\ttotal: 239ms\tremaining: 1.57s\n",
      "132:\tlearn: 1052.3262377\ttotal: 241ms\tremaining: 1.57s\n",
      "133:\tlearn: 1052.1790960\ttotal: 242ms\tremaining: 1.57s\n",
      "134:\tlearn: 1051.9824435\ttotal: 244ms\tremaining: 1.56s\n",
      "135:\tlearn: 1051.8359483\ttotal: 246ms\tremaining: 1.56s\n",
      "136:\tlearn: 1051.4894118\ttotal: 247ms\tremaining: 1.56s\n",
      "137:\tlearn: 1051.0321711\ttotal: 249ms\tremaining: 1.55s\n",
      "138:\tlearn: 1050.8528777\ttotal: 251ms\tremaining: 1.55s\n",
      "139:\tlearn: 1050.6969971\ttotal: 253ms\tremaining: 1.55s\n",
      "140:\tlearn: 1050.5351035\ttotal: 254ms\tremaining: 1.55s\n",
      "141:\tlearn: 1050.1283804\ttotal: 256ms\tremaining: 1.55s\n",
      "142:\tlearn: 1049.9370656\ttotal: 258ms\tremaining: 1.54s\n",
      "143:\tlearn: 1049.5985360\ttotal: 260ms\tremaining: 1.54s\n",
      "144:\tlearn: 1049.0968084\ttotal: 261ms\tremaining: 1.54s\n",
      "145:\tlearn: 1048.9055163\ttotal: 263ms\tremaining: 1.54s\n",
      "146:\tlearn: 1048.4070738\ttotal: 265ms\tremaining: 1.54s\n",
      "147:\tlearn: 1048.0301501\ttotal: 267ms\tremaining: 1.53s\n",
      "148:\tlearn: 1047.6313336\ttotal: 269ms\tremaining: 1.53s\n",
      "149:\tlearn: 1047.2078168\ttotal: 270ms\tremaining: 1.53s\n",
      "150:\tlearn: 1046.8987197\ttotal: 272ms\tremaining: 1.53s\n",
      "151:\tlearn: 1046.6176414\ttotal: 274ms\tremaining: 1.53s\n",
      "152:\tlearn: 1046.4201694\ttotal: 276ms\tremaining: 1.52s\n",
      "153:\tlearn: 1046.1901713\ttotal: 277ms\tremaining: 1.52s\n",
      "154:\tlearn: 1045.7541942\ttotal: 279ms\tremaining: 1.52s\n",
      "155:\tlearn: 1045.5801570\ttotal: 281ms\tremaining: 1.52s\n",
      "156:\tlearn: 1045.1678677\ttotal: 283ms\tremaining: 1.52s\n",
      "157:\tlearn: 1044.5656201\ttotal: 285ms\tremaining: 1.52s\n",
      "158:\tlearn: 1044.0681723\ttotal: 286ms\tremaining: 1.51s\n",
      "159:\tlearn: 1043.8172032\ttotal: 288ms\tremaining: 1.51s\n",
      "160:\tlearn: 1043.5981259\ttotal: 290ms\tremaining: 1.51s\n",
      "161:\tlearn: 1043.0407827\ttotal: 291ms\tremaining: 1.51s\n",
      "162:\tlearn: 1042.9350032\ttotal: 293ms\tremaining: 1.5s\n",
      "163:\tlearn: 1042.5455746\ttotal: 295ms\tremaining: 1.5s\n",
      "164:\tlearn: 1042.1346980\ttotal: 297ms\tremaining: 1.5s\n",
      "165:\tlearn: 1041.8853954\ttotal: 299ms\tremaining: 1.5s\n",
      "166:\tlearn: 1041.3841146\ttotal: 300ms\tremaining: 1.5s\n",
      "167:\tlearn: 1040.9538905\ttotal: 302ms\tremaining: 1.5s\n",
      "168:\tlearn: 1040.5583941\ttotal: 304ms\tremaining: 1.49s\n",
      "169:\tlearn: 1040.2545549\ttotal: 306ms\tremaining: 1.49s\n",
      "170:\tlearn: 1039.8696610\ttotal: 307ms\tremaining: 1.49s\n",
      "171:\tlearn: 1039.5297555\ttotal: 309ms\tremaining: 1.49s\n",
      "172:\tlearn: 1039.1038747\ttotal: 311ms\tremaining: 1.49s\n",
      "173:\tlearn: 1038.6085023\ttotal: 313ms\tremaining: 1.48s\n",
      "174:\tlearn: 1038.3279375\ttotal: 314ms\tremaining: 1.48s\n",
      "175:\tlearn: 1037.9301357\ttotal: 316ms\tremaining: 1.48s\n",
      "176:\tlearn: 1037.5166538\ttotal: 318ms\tremaining: 1.48s\n",
      "177:\tlearn: 1037.1310265\ttotal: 320ms\tremaining: 1.48s\n",
      "178:\tlearn: 1036.8679109\ttotal: 322ms\tremaining: 1.48s\n",
      "179:\tlearn: 1036.6018735\ttotal: 323ms\tremaining: 1.47s\n",
      "180:\tlearn: 1036.3782697\ttotal: 325ms\tremaining: 1.47s\n",
      "181:\tlearn: 1036.1792332\ttotal: 327ms\tremaining: 1.47s\n",
      "182:\tlearn: 1035.7729581\ttotal: 329ms\tremaining: 1.47s\n",
      "183:\tlearn: 1035.4703640\ttotal: 331ms\tremaining: 1.47s\n",
      "184:\tlearn: 1035.2259204\ttotal: 333ms\tremaining: 1.46s\n",
      "185:\tlearn: 1034.9940297\ttotal: 334ms\tremaining: 1.46s\n",
      "186:\tlearn: 1034.6326184\ttotal: 336ms\tremaining: 1.46s\n",
      "187:\tlearn: 1034.4087575\ttotal: 338ms\tremaining: 1.46s\n",
      "188:\tlearn: 1034.0379479\ttotal: 340ms\tremaining: 1.46s\n",
      "189:\tlearn: 1033.8505594\ttotal: 341ms\tremaining: 1.46s\n"
     ]
    },
    {
     "name": "stdout",
     "output_type": "stream",
     "text": [
      "190:\tlearn: 1033.5282127\ttotal: 343ms\tremaining: 1.45s\n",
      "191:\tlearn: 1033.2312023\ttotal: 345ms\tremaining: 1.45s\n",
      "192:\tlearn: 1032.9261574\ttotal: 347ms\tremaining: 1.45s\n",
      "193:\tlearn: 1032.5210290\ttotal: 349ms\tremaining: 1.45s\n",
      "194:\tlearn: 1032.2147506\ttotal: 351ms\tremaining: 1.45s\n",
      "195:\tlearn: 1032.0219591\ttotal: 353ms\tremaining: 1.45s\n",
      "196:\tlearn: 1031.7805907\ttotal: 354ms\tremaining: 1.44s\n",
      "197:\tlearn: 1031.5365498\ttotal: 356ms\tremaining: 1.44s\n",
      "198:\tlearn: 1031.3081415\ttotal: 358ms\tremaining: 1.44s\n",
      "199:\tlearn: 1031.0189616\ttotal: 359ms\tremaining: 1.44s\n",
      "200:\tlearn: 1030.6443691\ttotal: 361ms\tremaining: 1.44s\n",
      "201:\tlearn: 1030.4001839\ttotal: 363ms\tremaining: 1.43s\n",
      "202:\tlearn: 1030.2076116\ttotal: 365ms\tremaining: 1.43s\n",
      "203:\tlearn: 1029.9225413\ttotal: 367ms\tremaining: 1.43s\n",
      "204:\tlearn: 1029.6323046\ttotal: 368ms\tremaining: 1.43s\n",
      "205:\tlearn: 1029.1656581\ttotal: 370ms\tremaining: 1.43s\n",
      "206:\tlearn: 1029.0246172\ttotal: 372ms\tremaining: 1.42s\n",
      "207:\tlearn: 1028.6247757\ttotal: 374ms\tremaining: 1.42s\n",
      "208:\tlearn: 1028.1420344\ttotal: 375ms\tremaining: 1.42s\n",
      "209:\tlearn: 1027.7685859\ttotal: 377ms\tremaining: 1.42s\n",
      "210:\tlearn: 1027.2022190\ttotal: 379ms\tremaining: 1.42s\n",
      "211:\tlearn: 1026.9366286\ttotal: 381ms\tremaining: 1.42s\n",
      "212:\tlearn: 1026.5149762\ttotal: 383ms\tremaining: 1.41s\n",
      "213:\tlearn: 1026.1825086\ttotal: 385ms\tremaining: 1.41s\n",
      "214:\tlearn: 1025.9391750\ttotal: 386ms\tremaining: 1.41s\n",
      "215:\tlearn: 1025.4778252\ttotal: 388ms\tremaining: 1.41s\n",
      "216:\tlearn: 1025.1042748\ttotal: 390ms\tremaining: 1.41s\n",
      "217:\tlearn: 1024.8020847\ttotal: 391ms\tremaining: 1.4s\n",
      "218:\tlearn: 1024.4608166\ttotal: 393ms\tremaining: 1.4s\n",
      "219:\tlearn: 1024.2521213\ttotal: 395ms\tremaining: 1.4s\n",
      "220:\tlearn: 1024.0418601\ttotal: 397ms\tremaining: 1.4s\n",
      "221:\tlearn: 1023.6861708\ttotal: 399ms\tremaining: 1.4s\n",
      "222:\tlearn: 1023.2864556\ttotal: 401ms\tremaining: 1.4s\n",
      "223:\tlearn: 1022.9867908\ttotal: 402ms\tremaining: 1.39s\n",
      "224:\tlearn: 1022.7287597\ttotal: 404ms\tremaining: 1.39s\n",
      "225:\tlearn: 1022.4458103\ttotal: 406ms\tremaining: 1.39s\n",
      "226:\tlearn: 1022.1658830\ttotal: 407ms\tremaining: 1.39s\n",
      "227:\tlearn: 1021.9553034\ttotal: 409ms\tremaining: 1.39s\n",
      "228:\tlearn: 1021.6362740\ttotal: 411ms\tremaining: 1.38s\n",
      "229:\tlearn: 1021.3042916\ttotal: 413ms\tremaining: 1.38s\n",
      "230:\tlearn: 1020.8388914\ttotal: 415ms\tremaining: 1.38s\n",
      "231:\tlearn: 1020.3860845\ttotal: 417ms\tremaining: 1.38s\n",
      "232:\tlearn: 1019.9014841\ttotal: 418ms\tremaining: 1.38s\n",
      "233:\tlearn: 1019.6832796\ttotal: 420ms\tremaining: 1.38s\n",
      "234:\tlearn: 1019.5033882\ttotal: 422ms\tremaining: 1.37s\n",
      "235:\tlearn: 1019.0510618\ttotal: 423ms\tremaining: 1.37s\n",
      "236:\tlearn: 1018.8495123\ttotal: 425ms\tremaining: 1.37s\n",
      "237:\tlearn: 1018.4645012\ttotal: 427ms\tremaining: 1.37s\n",
      "238:\tlearn: 1018.2271354\ttotal: 429ms\tremaining: 1.37s\n",
      "239:\tlearn: 1017.8613207\ttotal: 431ms\tremaining: 1.36s\n",
      "240:\tlearn: 1017.5164299\ttotal: 433ms\tremaining: 1.36s\n",
      "241:\tlearn: 1017.2255121\ttotal: 434ms\tremaining: 1.36s\n",
      "242:\tlearn: 1016.8018473\ttotal: 436ms\tremaining: 1.36s\n",
      "243:\tlearn: 1016.2845575\ttotal: 438ms\tremaining: 1.36s\n",
      "244:\tlearn: 1015.9653897\ttotal: 440ms\tremaining: 1.35s\n",
      "245:\tlearn: 1015.7346253\ttotal: 442ms\tremaining: 1.35s\n",
      "246:\tlearn: 1015.2292002\ttotal: 443ms\tremaining: 1.35s\n",
      "247:\tlearn: 1014.8472389\ttotal: 445ms\tremaining: 1.35s\n",
      "248:\tlearn: 1014.3557970\ttotal: 447ms\tremaining: 1.35s\n",
      "249:\tlearn: 1014.1924482\ttotal: 449ms\tremaining: 1.35s\n",
      "250:\tlearn: 1013.7357960\ttotal: 451ms\tremaining: 1.34s\n",
      "251:\tlearn: 1013.2778862\ttotal: 452ms\tremaining: 1.34s\n",
      "252:\tlearn: 1012.8868365\ttotal: 454ms\tremaining: 1.34s\n",
      "253:\tlearn: 1012.4333342\ttotal: 456ms\tremaining: 1.34s\n",
      "254:\tlearn: 1012.2638326\ttotal: 458ms\tremaining: 1.34s\n",
      "255:\tlearn: 1011.9561961\ttotal: 460ms\tremaining: 1.34s\n",
      "256:\tlearn: 1011.7728339\ttotal: 462ms\tremaining: 1.33s\n",
      "257:\tlearn: 1011.5429723\ttotal: 463ms\tremaining: 1.33s\n",
      "258:\tlearn: 1011.0825814\ttotal: 465ms\tremaining: 1.33s\n",
      "259:\tlearn: 1010.7674296\ttotal: 467ms\tremaining: 1.33s\n",
      "260:\tlearn: 1010.4546751\ttotal: 468ms\tremaining: 1.33s\n",
      "261:\tlearn: 1010.2973918\ttotal: 470ms\tremaining: 1.32s\n",
      "262:\tlearn: 1009.8913850\ttotal: 472ms\tremaining: 1.32s\n",
      "263:\tlearn: 1009.5927274\ttotal: 474ms\tremaining: 1.32s\n",
      "264:\tlearn: 1009.3027017\ttotal: 476ms\tremaining: 1.32s\n",
      "265:\tlearn: 1008.8537859\ttotal: 478ms\tremaining: 1.32s\n",
      "266:\tlearn: 1008.3130482\ttotal: 479ms\tremaining: 1.32s\n",
      "267:\tlearn: 1008.1328292\ttotal: 481ms\tremaining: 1.31s\n",
      "268:\tlearn: 1007.9889123\ttotal: 483ms\tremaining: 1.31s\n",
      "269:\tlearn: 1007.6128334\ttotal: 485ms\tremaining: 1.31s\n",
      "270:\tlearn: 1007.1138874\ttotal: 486ms\tremaining: 1.31s\n",
      "271:\tlearn: 1006.7169713\ttotal: 488ms\tremaining: 1.31s\n",
      "272:\tlearn: 1006.1929463\ttotal: 490ms\tremaining: 1.3s\n",
      "273:\tlearn: 1005.9576511\ttotal: 492ms\tremaining: 1.3s\n",
      "274:\tlearn: 1005.4599901\ttotal: 494ms\tremaining: 1.3s\n",
      "275:\tlearn: 1005.2167029\ttotal: 496ms\tremaining: 1.3s\n",
      "276:\tlearn: 1005.0738607\ttotal: 497ms\tremaining: 1.3s\n",
      "277:\tlearn: 1004.8141881\ttotal: 499ms\tremaining: 1.29s\n",
      "278:\tlearn: 1004.4843974\ttotal: 501ms\tremaining: 1.29s\n",
      "279:\tlearn: 1004.0679161\ttotal: 502ms\tremaining: 1.29s\n",
      "280:\tlearn: 1003.7598686\ttotal: 504ms\tremaining: 1.29s\n",
      "281:\tlearn: 1003.2263931\ttotal: 506ms\tremaining: 1.29s\n",
      "282:\tlearn: 1002.7727115\ttotal: 508ms\tremaining: 1.29s\n",
      "283:\tlearn: 1002.4749580\ttotal: 510ms\tremaining: 1.28s\n",
      "284:\tlearn: 1002.2774129\ttotal: 511ms\tremaining: 1.28s\n",
      "285:\tlearn: 1002.0844605\ttotal: 513ms\tremaining: 1.28s\n",
      "286:\tlearn: 1001.7345139\ttotal: 515ms\tremaining: 1.28s\n",
      "287:\tlearn: 1001.4558136\ttotal: 517ms\tremaining: 1.28s\n",
      "288:\tlearn: 1001.1170482\ttotal: 518ms\tremaining: 1.27s\n",
      "289:\tlearn: 1000.6894280\ttotal: 520ms\tremaining: 1.27s\n",
      "290:\tlearn: 1000.5296158\ttotal: 522ms\tremaining: 1.27s\n",
      "291:\tlearn: 1000.1949416\ttotal: 524ms\tremaining: 1.27s\n",
      "292:\tlearn: 999.9497759\ttotal: 526ms\tremaining: 1.27s\n",
      "293:\tlearn: 999.4029690\ttotal: 528ms\tremaining: 1.27s\n",
      "294:\tlearn: 998.9831294\ttotal: 529ms\tremaining: 1.26s\n",
      "295:\tlearn: 998.6935814\ttotal: 531ms\tremaining: 1.26s\n",
      "296:\tlearn: 998.3360886\ttotal: 533ms\tremaining: 1.26s\n",
      "297:\tlearn: 997.8330730\ttotal: 535ms\tremaining: 1.26s\n",
      "298:\tlearn: 997.6277513\ttotal: 536ms\tremaining: 1.26s\n",
      "299:\tlearn: 997.2349511\ttotal: 538ms\tremaining: 1.25s\n",
      "300:\tlearn: 997.0384009\ttotal: 540ms\tremaining: 1.25s\n",
      "301:\tlearn: 996.7148290\ttotal: 542ms\tremaining: 1.25s\n",
      "302:\tlearn: 996.3564972\ttotal: 543ms\tremaining: 1.25s\n",
      "303:\tlearn: 996.1236911\ttotal: 545ms\tremaining: 1.25s\n",
      "304:\tlearn: 995.9090066\ttotal: 547ms\tremaining: 1.25s\n",
      "305:\tlearn: 995.4514344\ttotal: 548ms\tremaining: 1.24s\n",
      "306:\tlearn: 995.0528330\ttotal: 550ms\tremaining: 1.24s\n",
      "307:\tlearn: 994.8279668\ttotal: 552ms\tremaining: 1.24s\n",
      "308:\tlearn: 994.3918690\ttotal: 554ms\tremaining: 1.24s\n",
      "309:\tlearn: 994.1375983\ttotal: 556ms\tremaining: 1.24s\n",
      "310:\tlearn: 993.6728275\ttotal: 557ms\tremaining: 1.23s\n",
      "311:\tlearn: 993.3227509\ttotal: 559ms\tremaining: 1.23s\n",
      "312:\tlearn: 993.1549929\ttotal: 561ms\tremaining: 1.23s\n",
      "313:\tlearn: 992.9794327\ttotal: 563ms\tremaining: 1.23s\n",
      "314:\tlearn: 992.6381456\ttotal: 564ms\tremaining: 1.23s\n",
      "315:\tlearn: 992.4548411\ttotal: 566ms\tremaining: 1.23s\n",
      "316:\tlearn: 992.0643672\ttotal: 568ms\tremaining: 1.22s\n",
      "317:\tlearn: 991.9455003\ttotal: 570ms\tremaining: 1.22s\n",
      "318:\tlearn: 991.6095122\ttotal: 572ms\tremaining: 1.22s\n",
      "319:\tlearn: 991.2955966\ttotal: 573ms\tremaining: 1.22s\n",
      "320:\tlearn: 990.9582813\ttotal: 575ms\tremaining: 1.22s\n",
      "321:\tlearn: 990.7406659\ttotal: 577ms\tremaining: 1.21s\n",
      "322:\tlearn: 990.4236656\ttotal: 579ms\tremaining: 1.21s\n",
      "323:\tlearn: 990.1121865\ttotal: 580ms\tremaining: 1.21s\n",
      "324:\tlearn: 989.9611063\ttotal: 582ms\tremaining: 1.21s\n",
      "325:\tlearn: 989.7679726\ttotal: 584ms\tremaining: 1.21s\n",
      "326:\tlearn: 989.4399720\ttotal: 585ms\tremaining: 1.2s\n",
      "327:\tlearn: 989.2495874\ttotal: 587ms\tremaining: 1.2s\n",
      "328:\tlearn: 988.9110769\ttotal: 589ms\tremaining: 1.2s\n",
      "329:\tlearn: 988.7774593\ttotal: 591ms\tremaining: 1.2s\n",
      "330:\tlearn: 988.5588978\ttotal: 592ms\tremaining: 1.2s\n",
      "331:\tlearn: 988.4054646\ttotal: 594ms\tremaining: 1.2s\n",
      "332:\tlearn: 988.0878947\ttotal: 596ms\tremaining: 1.19s\n",
      "333:\tlearn: 987.9387973\ttotal: 597ms\tremaining: 1.19s\n",
      "334:\tlearn: 987.6475517\ttotal: 599ms\tremaining: 1.19s\n",
      "335:\tlearn: 987.4002629\ttotal: 601ms\tremaining: 1.19s\n",
      "336:\tlearn: 987.1025467\ttotal: 603ms\tremaining: 1.19s\n",
      "337:\tlearn: 986.8757387\ttotal: 604ms\tremaining: 1.18s\n",
      "338:\tlearn: 986.4046493\ttotal: 606ms\tremaining: 1.18s\n",
      "339:\tlearn: 986.2654626\ttotal: 608ms\tremaining: 1.18s\n",
      "340:\tlearn: 985.9719104\ttotal: 610ms\tremaining: 1.18s\n",
      "341:\tlearn: 985.5868092\ttotal: 611ms\tremaining: 1.18s\n",
      "342:\tlearn: 985.2033866\ttotal: 613ms\tremaining: 1.17s\n",
      "343:\tlearn: 984.8688005\ttotal: 615ms\tremaining: 1.17s\n",
      "344:\tlearn: 984.5780534\ttotal: 616ms\tremaining: 1.17s\n",
      "345:\tlearn: 984.3326279\ttotal: 618ms\tremaining: 1.17s\n",
      "346:\tlearn: 984.1025923\ttotal: 620ms\tremaining: 1.17s\n",
      "347:\tlearn: 983.7896118\ttotal: 621ms\tremaining: 1.16s\n",
      "348:\tlearn: 983.6392504\ttotal: 623ms\tremaining: 1.16s\n",
      "349:\tlearn: 983.3595929\ttotal: 625ms\tremaining: 1.16s\n",
      "350:\tlearn: 983.0104621\ttotal: 627ms\tremaining: 1.16s\n",
      "351:\tlearn: 982.7176345\ttotal: 628ms\tremaining: 1.16s\n",
      "352:\tlearn: 982.5047494\ttotal: 630ms\tremaining: 1.15s\n",
      "353:\tlearn: 982.2364174\ttotal: 632ms\tremaining: 1.15s\n",
      "354:\tlearn: 982.1054743\ttotal: 633ms\tremaining: 1.15s\n",
      "355:\tlearn: 981.8172209\ttotal: 635ms\tremaining: 1.15s\n",
      "356:\tlearn: 981.5503467\ttotal: 637ms\tremaining: 1.15s\n",
      "357:\tlearn: 981.3778075\ttotal: 639ms\tremaining: 1.15s\n",
      "358:\tlearn: 981.2143942\ttotal: 640ms\tremaining: 1.14s\n",
      "359:\tlearn: 981.0350457\ttotal: 642ms\tremaining: 1.14s\n",
      "360:\tlearn: 980.7105670\ttotal: 644ms\tremaining: 1.14s\n",
      "361:\tlearn: 980.4099450\ttotal: 645ms\tremaining: 1.14s\n",
      "362:\tlearn: 980.1369165\ttotal: 647ms\tremaining: 1.14s\n",
      "363:\tlearn: 979.8469599\ttotal: 649ms\tremaining: 1.13s\n",
      "364:\tlearn: 979.4564833\ttotal: 651ms\tremaining: 1.13s\n",
      "365:\tlearn: 979.0443641\ttotal: 652ms\tremaining: 1.13s\n",
      "366:\tlearn: 978.7168053\ttotal: 654ms\tremaining: 1.13s\n",
      "367:\tlearn: 978.5213898\ttotal: 656ms\tremaining: 1.13s\n",
      "368:\tlearn: 978.2702798\ttotal: 657ms\tremaining: 1.12s\n",
      "369:\tlearn: 977.9501438\ttotal: 659ms\tremaining: 1.12s\n",
      "370:\tlearn: 977.6803216\ttotal: 661ms\tremaining: 1.12s\n",
      "371:\tlearn: 977.4035048\ttotal: 663ms\tremaining: 1.12s\n",
      "372:\tlearn: 977.1982392\ttotal: 664ms\tremaining: 1.12s\n",
      "373:\tlearn: 976.9560896\ttotal: 666ms\tremaining: 1.11s\n",
      "374:\tlearn: 976.8389759\ttotal: 668ms\tremaining: 1.11s\n",
      "375:\tlearn: 976.5502319\ttotal: 670ms\tremaining: 1.11s\n",
      "376:\tlearn: 976.2110634\ttotal: 671ms\tremaining: 1.11s\n",
      "377:\tlearn: 975.9058482\ttotal: 673ms\tremaining: 1.11s\n",
      "378:\tlearn: 975.6294513\ttotal: 675ms\tremaining: 1.1s\n",
      "379:\tlearn: 975.1976508\ttotal: 676ms\tremaining: 1.1s\n",
      "380:\tlearn: 974.9010400\ttotal: 678ms\tremaining: 1.1s\n",
      "381:\tlearn: 974.6572455\ttotal: 680ms\tremaining: 1.1s\n",
      "382:\tlearn: 974.4452313\ttotal: 682ms\tremaining: 1.1s\n",
      "383:\tlearn: 974.1907333\ttotal: 683ms\tremaining: 1.1s\n",
      "384:\tlearn: 973.6559276\ttotal: 685ms\tremaining: 1.09s\n",
      "385:\tlearn: 973.4084537\ttotal: 687ms\tremaining: 1.09s\n",
      "386:\tlearn: 973.0035399\ttotal: 688ms\tremaining: 1.09s\n",
      "387:\tlearn: 972.6068101\ttotal: 690ms\tremaining: 1.09s\n",
      "388:\tlearn: 972.4201612\ttotal: 692ms\tremaining: 1.09s\n",
      "389:\tlearn: 972.0382261\ttotal: 694ms\tremaining: 1.08s\n",
      "390:\tlearn: 971.8440287\ttotal: 695ms\tremaining: 1.08s\n",
      "391:\tlearn: 971.6459996\ttotal: 697ms\tremaining: 1.08s\n",
      "392:\tlearn: 971.4724655\ttotal: 699ms\tremaining: 1.08s\n",
      "393:\tlearn: 971.1310645\ttotal: 700ms\tremaining: 1.08s\n"
     ]
    },
    {
     "name": "stdout",
     "output_type": "stream",
     "text": [
      "394:\tlearn: 970.6227027\ttotal: 702ms\tremaining: 1.07s\n",
      "395:\tlearn: 970.4053337\ttotal: 704ms\tremaining: 1.07s\n",
      "396:\tlearn: 970.0911229\ttotal: 706ms\tremaining: 1.07s\n",
      "397:\tlearn: 969.8729764\ttotal: 707ms\tremaining: 1.07s\n",
      "398:\tlearn: 969.6558841\ttotal: 709ms\tremaining: 1.07s\n",
      "399:\tlearn: 969.3469224\ttotal: 711ms\tremaining: 1.07s\n",
      "400:\tlearn: 969.0318863\ttotal: 713ms\tremaining: 1.06s\n",
      "401:\tlearn: 968.8417375\ttotal: 714ms\tremaining: 1.06s\n",
      "402:\tlearn: 968.7705950\ttotal: 716ms\tremaining: 1.06s\n",
      "403:\tlearn: 968.4269584\ttotal: 718ms\tremaining: 1.06s\n",
      "404:\tlearn: 968.2393469\ttotal: 720ms\tremaining: 1.06s\n",
      "405:\tlearn: 968.0763203\ttotal: 721ms\tremaining: 1.05s\n",
      "406:\tlearn: 967.9289812\ttotal: 723ms\tremaining: 1.05s\n",
      "407:\tlearn: 967.7611853\ttotal: 725ms\tremaining: 1.05s\n",
      "408:\tlearn: 967.6265868\ttotal: 727ms\tremaining: 1.05s\n",
      "409:\tlearn: 967.3786023\ttotal: 729ms\tremaining: 1.05s\n",
      "410:\tlearn: 967.0840866\ttotal: 730ms\tremaining: 1.05s\n",
      "411:\tlearn: 966.8069669\ttotal: 732ms\tremaining: 1.04s\n",
      "412:\tlearn: 966.4700745\ttotal: 734ms\tremaining: 1.04s\n",
      "413:\tlearn: 966.1563970\ttotal: 736ms\tremaining: 1.04s\n",
      "414:\tlearn: 965.9427326\ttotal: 738ms\tremaining: 1.04s\n",
      "415:\tlearn: 965.7197115\ttotal: 739ms\tremaining: 1.04s\n",
      "416:\tlearn: 965.4406362\ttotal: 741ms\tremaining: 1.04s\n",
      "417:\tlearn: 965.2132570\ttotal: 743ms\tremaining: 1.03s\n",
      "418:\tlearn: 964.8080449\ttotal: 745ms\tremaining: 1.03s\n",
      "419:\tlearn: 964.4585413\ttotal: 746ms\tremaining: 1.03s\n",
      "420:\tlearn: 964.2773806\ttotal: 748ms\tremaining: 1.03s\n",
      "421:\tlearn: 964.0014975\ttotal: 750ms\tremaining: 1.03s\n",
      "422:\tlearn: 963.8335767\ttotal: 752ms\tremaining: 1.02s\n",
      "423:\tlearn: 963.4651361\ttotal: 753ms\tremaining: 1.02s\n",
      "424:\tlearn: 963.0695262\ttotal: 755ms\tremaining: 1.02s\n",
      "425:\tlearn: 962.8678847\ttotal: 757ms\tremaining: 1.02s\n",
      "426:\tlearn: 962.5522155\ttotal: 759ms\tremaining: 1.02s\n",
      "427:\tlearn: 962.2380935\ttotal: 760ms\tremaining: 1.02s\n",
      "428:\tlearn: 961.9605748\ttotal: 762ms\tremaining: 1.01s\n",
      "429:\tlearn: 961.8166657\ttotal: 764ms\tremaining: 1.01s\n",
      "430:\tlearn: 961.5771188\ttotal: 766ms\tremaining: 1.01s\n",
      "431:\tlearn: 961.5089011\ttotal: 767ms\tremaining: 1.01s\n",
      "432:\tlearn: 961.1234415\ttotal: 769ms\tremaining: 1.01s\n",
      "433:\tlearn: 960.9966304\ttotal: 771ms\tremaining: 1s\n",
      "434:\tlearn: 960.6472268\ttotal: 773ms\tremaining: 1s\n",
      "435:\tlearn: 960.3988211\ttotal: 775ms\tremaining: 1s\n",
      "436:\tlearn: 960.1102224\ttotal: 776ms\tremaining: 1s\n",
      "437:\tlearn: 959.9163153\ttotal: 778ms\tremaining: 998ms\n",
      "438:\tlearn: 959.7853814\ttotal: 780ms\tremaining: 996ms\n",
      "439:\tlearn: 959.6000025\ttotal: 781ms\tremaining: 995ms\n",
      "440:\tlearn: 959.3476171\ttotal: 783ms\tremaining: 993ms\n",
      "441:\tlearn: 958.8770756\ttotal: 785ms\tremaining: 991ms\n",
      "442:\tlearn: 958.7519558\ttotal: 787ms\tremaining: 989ms\n",
      "443:\tlearn: 958.4797938\ttotal: 789ms\tremaining: 987ms\n",
      "444:\tlearn: 958.2195165\ttotal: 790ms\tremaining: 986ms\n",
      "445:\tlearn: 958.0046316\ttotal: 792ms\tremaining: 984ms\n",
      "446:\tlearn: 957.8646845\ttotal: 794ms\tremaining: 982ms\n",
      "447:\tlearn: 957.6905463\ttotal: 796ms\tremaining: 980ms\n",
      "448:\tlearn: 957.4591649\ttotal: 797ms\tremaining: 978ms\n",
      "449:\tlearn: 957.2373580\ttotal: 799ms\tremaining: 977ms\n",
      "450:\tlearn: 956.8413928\ttotal: 801ms\tremaining: 975ms\n",
      "451:\tlearn: 956.6083243\ttotal: 803ms\tremaining: 973ms\n",
      "452:\tlearn: 956.3491891\ttotal: 804ms\tremaining: 971ms\n",
      "453:\tlearn: 956.0979858\ttotal: 806ms\tremaining: 970ms\n",
      "454:\tlearn: 955.9004493\ttotal: 808ms\tremaining: 968ms\n",
      "455:\tlearn: 955.7122189\ttotal: 810ms\tremaining: 966ms\n",
      "456:\tlearn: 955.4307838\ttotal: 811ms\tremaining: 964ms\n",
      "457:\tlearn: 955.1166239\ttotal: 813ms\tremaining: 962ms\n",
      "458:\tlearn: 954.9343931\ttotal: 815ms\tremaining: 961ms\n",
      "459:\tlearn: 954.6123747\ttotal: 817ms\tremaining: 959ms\n",
      "460:\tlearn: 954.3884581\ttotal: 819ms\tremaining: 957ms\n",
      "461:\tlearn: 954.1625113\ttotal: 820ms\tremaining: 955ms\n",
      "462:\tlearn: 953.8988107\ttotal: 822ms\tremaining: 953ms\n",
      "463:\tlearn: 953.6714627\ttotal: 824ms\tremaining: 952ms\n",
      "464:\tlearn: 953.4720037\ttotal: 826ms\tremaining: 950ms\n",
      "465:\tlearn: 953.2769233\ttotal: 828ms\tremaining: 948ms\n",
      "466:\tlearn: 952.8321437\ttotal: 829ms\tremaining: 946ms\n",
      "467:\tlearn: 952.5685076\ttotal: 831ms\tremaining: 945ms\n",
      "468:\tlearn: 952.4889473\ttotal: 833ms\tremaining: 943ms\n",
      "469:\tlearn: 952.3329390\ttotal: 835ms\tremaining: 941ms\n",
      "470:\tlearn: 951.9341926\ttotal: 836ms\tremaining: 940ms\n",
      "471:\tlearn: 951.5220537\ttotal: 838ms\tremaining: 938ms\n",
      "472:\tlearn: 951.3370585\ttotal: 840ms\tremaining: 936ms\n",
      "473:\tlearn: 950.9179239\ttotal: 842ms\tremaining: 934ms\n",
      "474:\tlearn: 950.6946052\ttotal: 844ms\tremaining: 932ms\n",
      "475:\tlearn: 950.2182799\ttotal: 845ms\tremaining: 930ms\n",
      "476:\tlearn: 950.0004207\ttotal: 847ms\tremaining: 929ms\n",
      "477:\tlearn: 949.7797780\ttotal: 849ms\tremaining: 927ms\n",
      "478:\tlearn: 949.4140617\ttotal: 851ms\tremaining: 925ms\n",
      "479:\tlearn: 949.1651414\ttotal: 852ms\tremaining: 923ms\n",
      "480:\tlearn: 948.9549446\ttotal: 854ms\tremaining: 922ms\n",
      "481:\tlearn: 948.8379792\ttotal: 856ms\tremaining: 920ms\n",
      "482:\tlearn: 948.5577590\ttotal: 858ms\tremaining: 918ms\n",
      "483:\tlearn: 948.1902930\ttotal: 860ms\tremaining: 916ms\n",
      "484:\tlearn: 947.9854370\ttotal: 861ms\tremaining: 915ms\n",
      "485:\tlearn: 947.7373406\ttotal: 863ms\tremaining: 913ms\n",
      "486:\tlearn: 947.5514594\ttotal: 865ms\tremaining: 911ms\n",
      "487:\tlearn: 947.2593079\ttotal: 867ms\tremaining: 909ms\n",
      "488:\tlearn: 947.0399898\ttotal: 868ms\tremaining: 907ms\n",
      "489:\tlearn: 946.8371508\ttotal: 870ms\tremaining: 906ms\n",
      "490:\tlearn: 946.6476045\ttotal: 872ms\tremaining: 904ms\n",
      "491:\tlearn: 946.5236289\ttotal: 874ms\tremaining: 902ms\n",
      "492:\tlearn: 946.2639013\ttotal: 875ms\tremaining: 900ms\n",
      "493:\tlearn: 946.0105635\ttotal: 877ms\tremaining: 898ms\n",
      "494:\tlearn: 945.7606859\ttotal: 879ms\tremaining: 897ms\n",
      "495:\tlearn: 945.5948209\ttotal: 881ms\tremaining: 895ms\n",
      "496:\tlearn: 945.2861978\ttotal: 883ms\tremaining: 893ms\n",
      "497:\tlearn: 944.9526970\ttotal: 884ms\tremaining: 891ms\n",
      "498:\tlearn: 944.7079540\ttotal: 886ms\tremaining: 890ms\n",
      "499:\tlearn: 944.4481435\ttotal: 888ms\tremaining: 888ms\n",
      "500:\tlearn: 944.2080091\ttotal: 890ms\tremaining: 886ms\n",
      "501:\tlearn: 943.9379429\ttotal: 891ms\tremaining: 884ms\n",
      "502:\tlearn: 943.7106416\ttotal: 893ms\tremaining: 883ms\n",
      "503:\tlearn: 943.4123761\ttotal: 895ms\tremaining: 881ms\n",
      "504:\tlearn: 943.0981082\ttotal: 897ms\tremaining: 879ms\n",
      "505:\tlearn: 942.6422191\ttotal: 899ms\tremaining: 877ms\n",
      "506:\tlearn: 942.5209159\ttotal: 900ms\tremaining: 876ms\n",
      "507:\tlearn: 942.1915081\ttotal: 902ms\tremaining: 874ms\n",
      "508:\tlearn: 942.0572717\ttotal: 904ms\tremaining: 872ms\n",
      "509:\tlearn: 941.8117662\ttotal: 906ms\tremaining: 870ms\n",
      "510:\tlearn: 941.6405149\ttotal: 908ms\tremaining: 869ms\n",
      "511:\tlearn: 941.4947051\ttotal: 909ms\tremaining: 867ms\n",
      "512:\tlearn: 941.3480263\ttotal: 911ms\tremaining: 865ms\n",
      "513:\tlearn: 941.1679418\ttotal: 913ms\tremaining: 863ms\n",
      "514:\tlearn: 940.8634377\ttotal: 915ms\tremaining: 861ms\n",
      "515:\tlearn: 940.4598567\ttotal: 916ms\tremaining: 860ms\n",
      "516:\tlearn: 940.1629117\ttotal: 918ms\tremaining: 858ms\n",
      "517:\tlearn: 939.8856446\ttotal: 920ms\tremaining: 856ms\n",
      "518:\tlearn: 939.6032682\ttotal: 922ms\tremaining: 854ms\n",
      "519:\tlearn: 939.4759459\ttotal: 923ms\tremaining: 852ms\n",
      "520:\tlearn: 939.2592018\ttotal: 925ms\tremaining: 850ms\n",
      "521:\tlearn: 939.0782920\ttotal: 927ms\tremaining: 849ms\n",
      "522:\tlearn: 938.8351718\ttotal: 928ms\tremaining: 847ms\n",
      "523:\tlearn: 938.4925021\ttotal: 930ms\tremaining: 845ms\n",
      "524:\tlearn: 938.3931918\ttotal: 932ms\tremaining: 843ms\n",
      "525:\tlearn: 938.2643075\ttotal: 934ms\tremaining: 841ms\n",
      "526:\tlearn: 938.0014609\ttotal: 935ms\tremaining: 840ms\n",
      "527:\tlearn: 937.7787930\ttotal: 937ms\tremaining: 838ms\n",
      "528:\tlearn: 937.4715113\ttotal: 939ms\tremaining: 836ms\n",
      "529:\tlearn: 937.1397764\ttotal: 941ms\tremaining: 834ms\n",
      "530:\tlearn: 936.8421203\ttotal: 942ms\tremaining: 832ms\n",
      "531:\tlearn: 936.5272743\ttotal: 944ms\tremaining: 830ms\n",
      "532:\tlearn: 936.2747750\ttotal: 946ms\tremaining: 829ms\n",
      "533:\tlearn: 935.8658896\ttotal: 948ms\tremaining: 827ms\n",
      "534:\tlearn: 935.6871406\ttotal: 949ms\tremaining: 825ms\n",
      "535:\tlearn: 935.5211132\ttotal: 951ms\tremaining: 823ms\n",
      "536:\tlearn: 935.2781459\ttotal: 953ms\tremaining: 821ms\n",
      "537:\tlearn: 935.1656786\ttotal: 954ms\tremaining: 820ms\n",
      "538:\tlearn: 934.7910007\ttotal: 956ms\tremaining: 818ms\n",
      "539:\tlearn: 934.4363295\ttotal: 958ms\tremaining: 816ms\n",
      "540:\tlearn: 934.2025131\ttotal: 960ms\tremaining: 814ms\n",
      "541:\tlearn: 934.0117734\ttotal: 961ms\tremaining: 812ms\n",
      "542:\tlearn: 933.6356897\ttotal: 963ms\tremaining: 811ms\n",
      "543:\tlearn: 933.3941316\ttotal: 965ms\tremaining: 809ms\n",
      "544:\tlearn: 933.2304003\ttotal: 966ms\tremaining: 807ms\n",
      "545:\tlearn: 932.9006447\ttotal: 968ms\tremaining: 805ms\n",
      "546:\tlearn: 932.7147647\ttotal: 970ms\tremaining: 803ms\n",
      "547:\tlearn: 932.3950096\ttotal: 972ms\tremaining: 802ms\n",
      "548:\tlearn: 932.2540270\ttotal: 974ms\tremaining: 800ms\n",
      "549:\tlearn: 932.1551538\ttotal: 975ms\tremaining: 798ms\n",
      "550:\tlearn: 932.0038871\ttotal: 977ms\tremaining: 796ms\n",
      "551:\tlearn: 931.8306691\ttotal: 979ms\tremaining: 794ms\n",
      "552:\tlearn: 931.7227361\ttotal: 980ms\tremaining: 793ms\n",
      "553:\tlearn: 931.5076606\ttotal: 982ms\tremaining: 791ms\n",
      "554:\tlearn: 931.3595200\ttotal: 984ms\tremaining: 789ms\n",
      "555:\tlearn: 931.2298702\ttotal: 986ms\tremaining: 787ms\n",
      "556:\tlearn: 930.9639199\ttotal: 987ms\tremaining: 785ms\n",
      "557:\tlearn: 930.6504084\ttotal: 989ms\tremaining: 783ms\n",
      "558:\tlearn: 930.3865669\ttotal: 991ms\tremaining: 782ms\n",
      "559:\tlearn: 929.9855681\ttotal: 993ms\tremaining: 780ms\n",
      "560:\tlearn: 929.7402365\ttotal: 994ms\tremaining: 778ms\n",
      "561:\tlearn: 929.5688694\ttotal: 996ms\tremaining: 776ms\n",
      "562:\tlearn: 929.3958614\ttotal: 998ms\tremaining: 774ms\n",
      "563:\tlearn: 929.2189444\ttotal: 1000ms\tremaining: 773ms\n",
      "564:\tlearn: 929.0253136\ttotal: 1s\tremaining: 771ms\n",
      "565:\tlearn: 928.8037557\ttotal: 1s\tremaining: 769ms\n",
      "566:\tlearn: 928.6658719\ttotal: 1s\tremaining: 767ms\n",
      "567:\tlearn: 928.3653766\ttotal: 1.01s\tremaining: 766ms\n",
      "568:\tlearn: 928.1433781\ttotal: 1.01s\tremaining: 764ms\n",
      "569:\tlearn: 927.8945704\ttotal: 1.01s\tremaining: 762ms\n",
      "570:\tlearn: 927.7885105\ttotal: 1.01s\tremaining: 760ms\n",
      "571:\tlearn: 927.6889743\ttotal: 1.01s\tremaining: 758ms\n",
      "572:\tlearn: 927.4961713\ttotal: 1.01s\tremaining: 757ms\n",
      "573:\tlearn: 927.2818625\ttotal: 1.02s\tremaining: 755ms\n",
      "574:\tlearn: 927.0790347\ttotal: 1.02s\tremaining: 753ms\n",
      "575:\tlearn: 926.8825134\ttotal: 1.02s\tremaining: 751ms\n",
      "576:\tlearn: 926.6379203\ttotal: 1.02s\tremaining: 749ms\n",
      "577:\tlearn: 926.4635560\ttotal: 1.02s\tremaining: 748ms\n",
      "578:\tlearn: 926.3514497\ttotal: 1.02s\tremaining: 746ms\n",
      "579:\tlearn: 926.1706924\ttotal: 1.03s\tremaining: 744ms\n",
      "580:\tlearn: 925.9330824\ttotal: 1.03s\tremaining: 742ms\n",
      "581:\tlearn: 925.7379101\ttotal: 1.03s\tremaining: 740ms\n",
      "582:\tlearn: 925.5291968\ttotal: 1.03s\tremaining: 739ms\n",
      "583:\tlearn: 925.3615640\ttotal: 1.03s\tremaining: 737ms\n",
      "584:\tlearn: 925.1179830\ttotal: 1.04s\tremaining: 735ms\n",
      "585:\tlearn: 924.8773632\ttotal: 1.04s\tremaining: 733ms\n",
      "586:\tlearn: 924.5811025\ttotal: 1.04s\tremaining: 731ms\n",
      "587:\tlearn: 924.4252024\ttotal: 1.04s\tremaining: 729ms\n",
      "588:\tlearn: 924.2449958\ttotal: 1.04s\tremaining: 728ms\n",
      "589:\tlearn: 923.9401691\ttotal: 1.04s\tremaining: 726ms\n",
      "590:\tlearn: 923.6813442\ttotal: 1.05s\tremaining: 724ms\n",
      "591:\tlearn: 923.3881330\ttotal: 1.05s\tremaining: 722ms\n",
      "592:\tlearn: 923.2653756\ttotal: 1.05s\tremaining: 721ms\n",
      "593:\tlearn: 922.9759493\ttotal: 1.05s\tremaining: 719ms\n",
      "594:\tlearn: 922.8110914\ttotal: 1.05s\tremaining: 717ms\n",
      "595:\tlearn: 922.5221202\ttotal: 1.05s\tremaining: 715ms\n",
      "596:\tlearn: 922.3389273\ttotal: 1.06s\tremaining: 713ms\n",
      "597:\tlearn: 922.0387153\ttotal: 1.06s\tremaining: 711ms\n",
      "598:\tlearn: 921.8041952\ttotal: 1.06s\tremaining: 710ms\n"
     ]
    },
    {
     "name": "stdout",
     "output_type": "stream",
     "text": [
      "599:\tlearn: 921.5437697\ttotal: 1.06s\tremaining: 708ms\n",
      "600:\tlearn: 921.1985003\ttotal: 1.06s\tremaining: 706ms\n",
      "601:\tlearn: 920.9210639\ttotal: 1.06s\tremaining: 704ms\n",
      "602:\tlearn: 920.7304420\ttotal: 1.07s\tremaining: 703ms\n",
      "603:\tlearn: 920.5458606\ttotal: 1.07s\tremaining: 701ms\n",
      "604:\tlearn: 920.4123002\ttotal: 1.07s\tremaining: 699ms\n",
      "605:\tlearn: 920.2410700\ttotal: 1.07s\tremaining: 697ms\n",
      "606:\tlearn: 920.1443234\ttotal: 1.07s\tremaining: 695ms\n",
      "607:\tlearn: 920.0070424\ttotal: 1.07s\tremaining: 694ms\n",
      "608:\tlearn: 919.7804716\ttotal: 1.08s\tremaining: 692ms\n",
      "609:\tlearn: 919.6195126\ttotal: 1.08s\tremaining: 690ms\n",
      "610:\tlearn: 919.4474113\ttotal: 1.08s\tremaining: 688ms\n",
      "611:\tlearn: 919.2740766\ttotal: 1.08s\tremaining: 687ms\n",
      "612:\tlearn: 919.0224768\ttotal: 1.08s\tremaining: 685ms\n",
      "613:\tlearn: 918.8008383\ttotal: 1.09s\tremaining: 683ms\n",
      "614:\tlearn: 918.7054354\ttotal: 1.09s\tremaining: 681ms\n",
      "615:\tlearn: 918.5973372\ttotal: 1.09s\tremaining: 679ms\n",
      "616:\tlearn: 918.4598909\ttotal: 1.09s\tremaining: 678ms\n",
      "617:\tlearn: 918.0604282\ttotal: 1.09s\tremaining: 676ms\n",
      "618:\tlearn: 917.7971452\ttotal: 1.09s\tremaining: 674ms\n",
      "619:\tlearn: 917.5353275\ttotal: 1.1s\tremaining: 672ms\n",
      "620:\tlearn: 917.2855020\ttotal: 1.1s\tremaining: 671ms\n",
      "621:\tlearn: 917.0715688\ttotal: 1.1s\tremaining: 669ms\n",
      "622:\tlearn: 916.9021322\ttotal: 1.1s\tremaining: 667ms\n",
      "623:\tlearn: 916.8139852\ttotal: 1.1s\tremaining: 665ms\n",
      "624:\tlearn: 916.5629184\ttotal: 1.1s\tremaining: 663ms\n",
      "625:\tlearn: 916.3775547\ttotal: 1.11s\tremaining: 662ms\n",
      "626:\tlearn: 916.1707339\ttotal: 1.11s\tremaining: 660ms\n",
      "627:\tlearn: 915.9060482\ttotal: 1.11s\tremaining: 658ms\n",
      "628:\tlearn: 915.6486879\ttotal: 1.11s\tremaining: 656ms\n",
      "629:\tlearn: 915.5058053\ttotal: 1.11s\tremaining: 654ms\n",
      "630:\tlearn: 915.2258390\ttotal: 1.11s\tremaining: 653ms\n",
      "631:\tlearn: 915.0963761\ttotal: 1.12s\tremaining: 651ms\n",
      "632:\tlearn: 914.9325115\ttotal: 1.12s\tremaining: 649ms\n",
      "633:\tlearn: 914.7275452\ttotal: 1.12s\tremaining: 647ms\n",
      "634:\tlearn: 914.5162177\ttotal: 1.12s\tremaining: 645ms\n",
      "635:\tlearn: 914.3826265\ttotal: 1.12s\tremaining: 643ms\n",
      "636:\tlearn: 914.1601835\ttotal: 1.13s\tremaining: 642ms\n",
      "637:\tlearn: 913.9676334\ttotal: 1.13s\tremaining: 640ms\n",
      "638:\tlearn: 913.6926221\ttotal: 1.13s\tremaining: 638ms\n",
      "639:\tlearn: 913.3283063\ttotal: 1.13s\tremaining: 636ms\n",
      "640:\tlearn: 913.0538012\ttotal: 1.13s\tremaining: 635ms\n",
      "641:\tlearn: 912.8871081\ttotal: 1.13s\tremaining: 633ms\n",
      "642:\tlearn: 912.7436922\ttotal: 1.14s\tremaining: 631ms\n",
      "643:\tlearn: 912.4443841\ttotal: 1.14s\tremaining: 629ms\n",
      "644:\tlearn: 912.1853834\ttotal: 1.14s\tremaining: 627ms\n",
      "645:\tlearn: 912.0169961\ttotal: 1.14s\tremaining: 626ms\n",
      "646:\tlearn: 911.8428313\ttotal: 1.14s\tremaining: 624ms\n",
      "647:\tlearn: 911.6943463\ttotal: 1.14s\tremaining: 622ms\n",
      "648:\tlearn: 911.4661278\ttotal: 1.15s\tremaining: 620ms\n",
      "649:\tlearn: 911.2179167\ttotal: 1.15s\tremaining: 618ms\n",
      "650:\tlearn: 910.9932992\ttotal: 1.15s\tremaining: 617ms\n",
      "651:\tlearn: 910.6576339\ttotal: 1.15s\tremaining: 615ms\n",
      "652:\tlearn: 910.5625074\ttotal: 1.15s\tremaining: 613ms\n",
      "653:\tlearn: 910.4457648\ttotal: 1.16s\tremaining: 611ms\n",
      "654:\tlearn: 910.3984847\ttotal: 1.16s\tremaining: 609ms\n",
      "655:\tlearn: 910.2365163\ttotal: 1.16s\tremaining: 608ms\n",
      "656:\tlearn: 910.0067479\ttotal: 1.16s\tremaining: 606ms\n",
      "657:\tlearn: 909.9323255\ttotal: 1.16s\tremaining: 604ms\n",
      "658:\tlearn: 909.6356147\ttotal: 1.16s\tremaining: 602ms\n",
      "659:\tlearn: 909.4454106\ttotal: 1.17s\tremaining: 600ms\n",
      "660:\tlearn: 909.1454655\ttotal: 1.17s\tremaining: 599ms\n",
      "661:\tlearn: 908.8760639\ttotal: 1.17s\tremaining: 597ms\n",
      "662:\tlearn: 908.6266097\ttotal: 1.17s\tremaining: 595ms\n",
      "663:\tlearn: 908.4762888\ttotal: 1.17s\tremaining: 593ms\n",
      "664:\tlearn: 908.2897209\ttotal: 1.17s\tremaining: 592ms\n",
      "665:\tlearn: 908.1802612\ttotal: 1.18s\tremaining: 590ms\n",
      "666:\tlearn: 908.0213757\ttotal: 1.18s\tremaining: 588ms\n",
      "667:\tlearn: 907.8831940\ttotal: 1.18s\tremaining: 586ms\n",
      "668:\tlearn: 907.6468006\ttotal: 1.18s\tremaining: 584ms\n",
      "669:\tlearn: 907.3983523\ttotal: 1.18s\tremaining: 583ms\n",
      "670:\tlearn: 907.1808173\ttotal: 1.18s\tremaining: 581ms\n",
      "671:\tlearn: 907.0078485\ttotal: 1.19s\tremaining: 579ms\n",
      "672:\tlearn: 906.8213593\ttotal: 1.19s\tremaining: 577ms\n",
      "673:\tlearn: 906.5721417\ttotal: 1.19s\tremaining: 576ms\n",
      "674:\tlearn: 906.3982284\ttotal: 1.19s\tremaining: 574ms\n",
      "675:\tlearn: 906.2541302\ttotal: 1.19s\tremaining: 572ms\n",
      "676:\tlearn: 906.0324846\ttotal: 1.2s\tremaining: 570ms\n",
      "677:\tlearn: 905.9701952\ttotal: 1.2s\tremaining: 568ms\n",
      "678:\tlearn: 905.7518189\ttotal: 1.2s\tremaining: 567ms\n",
      "679:\tlearn: 905.5476544\ttotal: 1.2s\tremaining: 565ms\n",
      "680:\tlearn: 905.3101075\ttotal: 1.2s\tremaining: 563ms\n",
      "681:\tlearn: 905.1727522\ttotal: 1.2s\tremaining: 561ms\n",
      "682:\tlearn: 904.9685281\ttotal: 1.21s\tremaining: 559ms\n",
      "683:\tlearn: 904.7956594\ttotal: 1.21s\tremaining: 558ms\n",
      "684:\tlearn: 904.5186090\ttotal: 1.21s\tremaining: 556ms\n",
      "685:\tlearn: 904.1616099\ttotal: 1.21s\tremaining: 554ms\n",
      "686:\tlearn: 903.7864772\ttotal: 1.21s\tremaining: 552ms\n",
      "687:\tlearn: 903.6330261\ttotal: 1.21s\tremaining: 551ms\n",
      "688:\tlearn: 903.3626306\ttotal: 1.22s\tremaining: 549ms\n",
      "689:\tlearn: 903.2834996\ttotal: 1.22s\tremaining: 547ms\n",
      "690:\tlearn: 903.0015918\ttotal: 1.22s\tremaining: 545ms\n",
      "691:\tlearn: 902.8016028\ttotal: 1.22s\tremaining: 544ms\n",
      "692:\tlearn: 902.5065797\ttotal: 1.22s\tremaining: 542ms\n",
      "693:\tlearn: 902.3487608\ttotal: 1.22s\tremaining: 540ms\n",
      "694:\tlearn: 902.2549108\ttotal: 1.23s\tremaining: 538ms\n",
      "695:\tlearn: 902.0916017\ttotal: 1.23s\tremaining: 536ms\n",
      "696:\tlearn: 901.9025458\ttotal: 1.23s\tremaining: 535ms\n",
      "697:\tlearn: 901.6615608\ttotal: 1.23s\tremaining: 533ms\n",
      "698:\tlearn: 901.5517768\ttotal: 1.23s\tremaining: 531ms\n",
      "699:\tlearn: 901.3999948\ttotal: 1.24s\tremaining: 529ms\n",
      "700:\tlearn: 901.2666721\ttotal: 1.24s\tremaining: 527ms\n",
      "701:\tlearn: 901.0939982\ttotal: 1.24s\tremaining: 526ms\n",
      "702:\tlearn: 900.8685842\ttotal: 1.24s\tremaining: 524ms\n",
      "703:\tlearn: 900.6495912\ttotal: 1.24s\tremaining: 522ms\n",
      "704:\tlearn: 900.4344140\ttotal: 1.24s\tremaining: 521ms\n",
      "705:\tlearn: 900.2901440\ttotal: 1.25s\tremaining: 519ms\n",
      "706:\tlearn: 900.0763272\ttotal: 1.25s\tremaining: 517ms\n",
      "707:\tlearn: 899.9842009\ttotal: 1.25s\tremaining: 515ms\n",
      "708:\tlearn: 899.8428166\ttotal: 1.25s\tremaining: 513ms\n",
      "709:\tlearn: 899.5789398\ttotal: 1.25s\tremaining: 512ms\n",
      "710:\tlearn: 899.4046167\ttotal: 1.25s\tremaining: 510ms\n",
      "711:\tlearn: 899.2130347\ttotal: 1.26s\tremaining: 508ms\n",
      "712:\tlearn: 898.9728761\ttotal: 1.26s\tremaining: 506ms\n",
      "713:\tlearn: 898.8705391\ttotal: 1.26s\tremaining: 505ms\n",
      "714:\tlearn: 898.6095000\ttotal: 1.26s\tremaining: 503ms\n",
      "715:\tlearn: 898.4928516\ttotal: 1.26s\tremaining: 501ms\n",
      "716:\tlearn: 898.3229027\ttotal: 1.26s\tremaining: 499ms\n",
      "717:\tlearn: 898.1818215\ttotal: 1.27s\tremaining: 497ms\n",
      "718:\tlearn: 897.9839877\ttotal: 1.27s\tremaining: 496ms\n",
      "719:\tlearn: 897.6958400\ttotal: 1.27s\tremaining: 494ms\n",
      "720:\tlearn: 897.4775560\ttotal: 1.27s\tremaining: 492ms\n",
      "721:\tlearn: 897.3054575\ttotal: 1.27s\tremaining: 490ms\n",
      "722:\tlearn: 896.9884358\ttotal: 1.27s\tremaining: 489ms\n",
      "723:\tlearn: 896.8632486\ttotal: 1.28s\tremaining: 487ms\n",
      "724:\tlearn: 896.7823017\ttotal: 1.28s\tremaining: 485ms\n",
      "725:\tlearn: 896.3846297\ttotal: 1.28s\tremaining: 483ms\n",
      "726:\tlearn: 896.1282169\ttotal: 1.28s\tremaining: 482ms\n",
      "727:\tlearn: 895.9337170\ttotal: 1.28s\tremaining: 480ms\n",
      "728:\tlearn: 895.7052608\ttotal: 1.28s\tremaining: 478ms\n",
      "729:\tlearn: 895.5595912\ttotal: 1.29s\tremaining: 476ms\n",
      "730:\tlearn: 895.4183928\ttotal: 1.29s\tremaining: 474ms\n",
      "731:\tlearn: 895.2517101\ttotal: 1.29s\tremaining: 473ms\n",
      "732:\tlearn: 894.9679549\ttotal: 1.29s\tremaining: 471ms\n",
      "733:\tlearn: 894.6236926\ttotal: 1.29s\tremaining: 469ms\n",
      "734:\tlearn: 894.3998933\ttotal: 1.3s\tremaining: 467ms\n",
      "735:\tlearn: 894.1644805\ttotal: 1.3s\tremaining: 466ms\n",
      "736:\tlearn: 893.9829424\ttotal: 1.3s\tremaining: 464ms\n",
      "737:\tlearn: 893.7286798\ttotal: 1.3s\tremaining: 462ms\n",
      "738:\tlearn: 893.6162981\ttotal: 1.3s\tremaining: 460ms\n",
      "739:\tlearn: 893.3993632\ttotal: 1.3s\tremaining: 458ms\n",
      "740:\tlearn: 893.2135328\ttotal: 1.31s\tremaining: 457ms\n",
      "741:\tlearn: 893.1091803\ttotal: 1.31s\tremaining: 455ms\n",
      "742:\tlearn: 892.9537142\ttotal: 1.31s\tremaining: 453ms\n",
      "743:\tlearn: 892.8836798\ttotal: 1.31s\tremaining: 451ms\n",
      "744:\tlearn: 892.6287677\ttotal: 1.31s\tremaining: 450ms\n",
      "745:\tlearn: 892.2679417\ttotal: 1.31s\tremaining: 448ms\n",
      "746:\tlearn: 892.1306728\ttotal: 1.32s\tremaining: 446ms\n",
      "747:\tlearn: 892.0071751\ttotal: 1.32s\tremaining: 444ms\n",
      "748:\tlearn: 891.8576503\ttotal: 1.32s\tremaining: 442ms\n",
      "749:\tlearn: 891.7283221\ttotal: 1.32s\tremaining: 441ms\n",
      "750:\tlearn: 891.6153034\ttotal: 1.32s\tremaining: 439ms\n",
      "751:\tlearn: 891.4565384\ttotal: 1.32s\tremaining: 437ms\n",
      "752:\tlearn: 891.2610412\ttotal: 1.33s\tremaining: 435ms\n",
      "753:\tlearn: 891.0048945\ttotal: 1.33s\tremaining: 434ms\n",
      "754:\tlearn: 890.8325732\ttotal: 1.33s\tremaining: 432ms\n",
      "755:\tlearn: 890.7274215\ttotal: 1.33s\tremaining: 430ms\n",
      "756:\tlearn: 890.4795805\ttotal: 1.33s\tremaining: 428ms\n",
      "757:\tlearn: 890.3849918\ttotal: 1.33s\tremaining: 426ms\n",
      "758:\tlearn: 890.1739228\ttotal: 1.34s\tremaining: 425ms\n",
      "759:\tlearn: 890.0071193\ttotal: 1.34s\tremaining: 423ms\n",
      "760:\tlearn: 889.8862072\ttotal: 1.34s\tremaining: 421ms\n",
      "761:\tlearn: 889.7297163\ttotal: 1.34s\tremaining: 419ms\n",
      "762:\tlearn: 889.6277062\ttotal: 1.34s\tremaining: 418ms\n",
      "763:\tlearn: 889.3791427\ttotal: 1.35s\tremaining: 416ms\n",
      "764:\tlearn: 889.1354143\ttotal: 1.35s\tremaining: 414ms\n",
      "765:\tlearn: 888.9437731\ttotal: 1.35s\tremaining: 412ms\n",
      "766:\tlearn: 888.7351916\ttotal: 1.35s\tremaining: 410ms\n",
      "767:\tlearn: 888.4899333\ttotal: 1.35s\tremaining: 409ms\n",
      "768:\tlearn: 888.4161393\ttotal: 1.35s\tremaining: 407ms\n",
      "769:\tlearn: 888.2706379\ttotal: 1.36s\tremaining: 405ms\n",
      "770:\tlearn: 888.0390456\ttotal: 1.36s\tremaining: 403ms\n",
      "771:\tlearn: 887.9861380\ttotal: 1.36s\tremaining: 402ms\n",
      "772:\tlearn: 887.7704341\ttotal: 1.36s\tremaining: 400ms\n",
      "773:\tlearn: 887.5051667\ttotal: 1.36s\tremaining: 398ms\n",
      "774:\tlearn: 887.4128545\ttotal: 1.36s\tremaining: 396ms\n",
      "775:\tlearn: 887.2276266\ttotal: 1.37s\tremaining: 395ms\n",
      "776:\tlearn: 887.0897359\ttotal: 1.37s\tremaining: 393ms\n",
      "777:\tlearn: 887.0048698\ttotal: 1.37s\tremaining: 391ms\n",
      "778:\tlearn: 886.7401325\ttotal: 1.37s\tremaining: 389ms\n",
      "779:\tlearn: 886.6530344\ttotal: 1.37s\tremaining: 388ms\n",
      "780:\tlearn: 886.5634570\ttotal: 1.38s\tremaining: 386ms\n",
      "781:\tlearn: 886.2961419\ttotal: 1.38s\tremaining: 384ms\n",
      "782:\tlearn: 886.2181238\ttotal: 1.38s\tremaining: 382ms\n",
      "783:\tlearn: 886.1381375\ttotal: 1.38s\tremaining: 380ms\n",
      "784:\tlearn: 885.8624357\ttotal: 1.38s\tremaining: 379ms\n",
      "785:\tlearn: 885.6158981\ttotal: 1.38s\tremaining: 377ms\n",
      "786:\tlearn: 885.5558688\ttotal: 1.39s\tremaining: 375ms\n",
      "787:\tlearn: 885.3329964\ttotal: 1.39s\tremaining: 373ms\n",
      "788:\tlearn: 885.1101291\ttotal: 1.39s\tremaining: 372ms\n",
      "789:\tlearn: 884.7541105\ttotal: 1.39s\tremaining: 370ms\n",
      "790:\tlearn: 884.5557590\ttotal: 1.39s\tremaining: 368ms\n",
      "791:\tlearn: 884.3617129\ttotal: 1.39s\tremaining: 366ms\n",
      "792:\tlearn: 884.2002694\ttotal: 1.4s\tremaining: 365ms\n",
      "793:\tlearn: 884.0145943\ttotal: 1.4s\tremaining: 363ms\n",
      "794:\tlearn: 883.8986022\ttotal: 1.4s\tremaining: 361ms\n",
      "795:\tlearn: 883.6318002\ttotal: 1.4s\tremaining: 359ms\n",
      "796:\tlearn: 883.4118738\ttotal: 1.4s\tremaining: 357ms\n",
      "797:\tlearn: 883.1873948\ttotal: 1.41s\tremaining: 356ms\n",
      "798:\tlearn: 883.0480825\ttotal: 1.41s\tremaining: 354ms\n",
      "799:\tlearn: 882.9339703\ttotal: 1.41s\tremaining: 352ms\n",
      "800:\tlearn: 882.6784061\ttotal: 1.41s\tremaining: 350ms\n",
      "801:\tlearn: 882.3902028\ttotal: 1.41s\tremaining: 349ms\n",
      "802:\tlearn: 882.2358986\ttotal: 1.41s\tremaining: 347ms\n",
      "803:\tlearn: 882.0936602\ttotal: 1.42s\tremaining: 345ms\n",
      "804:\tlearn: 881.9634239\ttotal: 1.42s\tremaining: 343ms\n",
      "805:\tlearn: 881.7978347\ttotal: 1.42s\tremaining: 342ms\n",
      "806:\tlearn: 881.4446833\ttotal: 1.42s\tremaining: 340ms\n"
     ]
    },
    {
     "name": "stdout",
     "output_type": "stream",
     "text": [
      "807:\tlearn: 881.2671883\ttotal: 1.42s\tremaining: 338ms\n",
      "808:\tlearn: 881.0461711\ttotal: 1.42s\tremaining: 336ms\n",
      "809:\tlearn: 880.8646096\ttotal: 1.43s\tremaining: 335ms\n",
      "810:\tlearn: 880.8184812\ttotal: 1.43s\tremaining: 333ms\n",
      "811:\tlearn: 880.6833454\ttotal: 1.43s\tremaining: 331ms\n",
      "812:\tlearn: 880.5422931\ttotal: 1.43s\tremaining: 329ms\n",
      "813:\tlearn: 880.4097860\ttotal: 1.43s\tremaining: 327ms\n",
      "814:\tlearn: 880.2288147\ttotal: 1.43s\tremaining: 326ms\n",
      "815:\tlearn: 880.0327283\ttotal: 1.44s\tremaining: 324ms\n",
      "816:\tlearn: 879.8323916\ttotal: 1.44s\tremaining: 322ms\n",
      "817:\tlearn: 879.7283050\ttotal: 1.44s\tremaining: 320ms\n",
      "818:\tlearn: 879.5441413\ttotal: 1.44s\tremaining: 319ms\n",
      "819:\tlearn: 879.3431208\ttotal: 1.44s\tremaining: 317ms\n",
      "820:\tlearn: 879.2078095\ttotal: 1.45s\tremaining: 315ms\n",
      "821:\tlearn: 879.0107513\ttotal: 1.45s\tremaining: 313ms\n",
      "822:\tlearn: 878.9128641\ttotal: 1.45s\tremaining: 312ms\n",
      "823:\tlearn: 878.6843518\ttotal: 1.45s\tremaining: 310ms\n",
      "824:\tlearn: 878.4976047\ttotal: 1.45s\tremaining: 308ms\n",
      "825:\tlearn: 878.3097807\ttotal: 1.45s\tremaining: 306ms\n",
      "826:\tlearn: 878.1736526\ttotal: 1.46s\tremaining: 305ms\n",
      "827:\tlearn: 878.0178418\ttotal: 1.46s\tremaining: 303ms\n",
      "828:\tlearn: 877.7800655\ttotal: 1.46s\tremaining: 301ms\n",
      "829:\tlearn: 877.5984255\ttotal: 1.46s\tremaining: 299ms\n",
      "830:\tlearn: 877.3866542\ttotal: 1.46s\tremaining: 298ms\n",
      "831:\tlearn: 877.1531049\ttotal: 1.46s\tremaining: 296ms\n",
      "832:\tlearn: 876.9835867\ttotal: 1.47s\tremaining: 294ms\n",
      "833:\tlearn: 876.7363384\ttotal: 1.47s\tremaining: 292ms\n",
      "834:\tlearn: 876.5921508\ttotal: 1.47s\tremaining: 290ms\n",
      "835:\tlearn: 876.3394137\ttotal: 1.47s\tremaining: 289ms\n",
      "836:\tlearn: 876.1182116\ttotal: 1.47s\tremaining: 287ms\n",
      "837:\tlearn: 875.8864941\ttotal: 1.48s\tremaining: 285ms\n",
      "838:\tlearn: 875.7453684\ttotal: 1.48s\tremaining: 283ms\n",
      "839:\tlearn: 875.5696506\ttotal: 1.48s\tremaining: 282ms\n",
      "840:\tlearn: 875.2567865\ttotal: 1.48s\tremaining: 280ms\n",
      "841:\tlearn: 875.1188389\ttotal: 1.48s\tremaining: 278ms\n",
      "842:\tlearn: 874.8857647\ttotal: 1.48s\tremaining: 276ms\n",
      "843:\tlearn: 874.7739755\ttotal: 1.49s\tremaining: 275ms\n",
      "844:\tlearn: 874.5850465\ttotal: 1.49s\tremaining: 273ms\n",
      "845:\tlearn: 874.3736453\ttotal: 1.49s\tremaining: 271ms\n",
      "846:\tlearn: 874.2247363\ttotal: 1.49s\tremaining: 269ms\n",
      "847:\tlearn: 874.0051765\ttotal: 1.49s\tremaining: 268ms\n",
      "848:\tlearn: 873.7639089\ttotal: 1.49s\tremaining: 266ms\n",
      "849:\tlearn: 873.6494081\ttotal: 1.5s\tremaining: 264ms\n",
      "850:\tlearn: 873.4067478\ttotal: 1.5s\tremaining: 262ms\n",
      "851:\tlearn: 873.3618861\ttotal: 1.5s\tremaining: 260ms\n",
      "852:\tlearn: 873.2185108\ttotal: 1.5s\tremaining: 259ms\n",
      "853:\tlearn: 873.0842787\ttotal: 1.5s\tremaining: 257ms\n",
      "854:\tlearn: 872.9244740\ttotal: 1.5s\tremaining: 255ms\n",
      "855:\tlearn: 872.8570142\ttotal: 1.51s\tremaining: 253ms\n",
      "856:\tlearn: 872.6143191\ttotal: 1.51s\tremaining: 252ms\n",
      "857:\tlearn: 872.4391845\ttotal: 1.51s\tremaining: 250ms\n",
      "858:\tlearn: 872.2369409\ttotal: 1.51s\tremaining: 248ms\n",
      "859:\tlearn: 872.0788594\ttotal: 1.51s\tremaining: 246ms\n",
      "860:\tlearn: 871.8042266\ttotal: 1.51s\tremaining: 245ms\n",
      "861:\tlearn: 871.5695075\ttotal: 1.52s\tremaining: 243ms\n",
      "862:\tlearn: 871.4032437\ttotal: 1.52s\tremaining: 241ms\n",
      "863:\tlearn: 871.2048488\ttotal: 1.52s\tremaining: 239ms\n",
      "864:\tlearn: 870.9716676\ttotal: 1.52s\tremaining: 237ms\n",
      "865:\tlearn: 870.9059831\ttotal: 1.52s\tremaining: 236ms\n",
      "866:\tlearn: 870.7428261\ttotal: 1.52s\tremaining: 234ms\n",
      "867:\tlearn: 870.5913134\ttotal: 1.53s\tremaining: 232ms\n",
      "868:\tlearn: 870.3349398\ttotal: 1.53s\tremaining: 230ms\n",
      "869:\tlearn: 870.2421161\ttotal: 1.53s\tremaining: 229ms\n",
      "870:\tlearn: 870.1509728\ttotal: 1.53s\tremaining: 227ms\n",
      "871:\tlearn: 870.0031529\ttotal: 1.53s\tremaining: 225ms\n",
      "872:\tlearn: 869.8340757\ttotal: 1.53s\tremaining: 223ms\n",
      "873:\tlearn: 869.7061467\ttotal: 1.54s\tremaining: 222ms\n",
      "874:\tlearn: 869.5449407\ttotal: 1.54s\tremaining: 220ms\n",
      "875:\tlearn: 869.4070401\ttotal: 1.54s\tremaining: 218ms\n",
      "876:\tlearn: 869.2955457\ttotal: 1.54s\tremaining: 216ms\n",
      "877:\tlearn: 869.1885345\ttotal: 1.54s\tremaining: 215ms\n",
      "878:\tlearn: 868.9942232\ttotal: 1.54s\tremaining: 213ms\n",
      "879:\tlearn: 868.8116642\ttotal: 1.55s\tremaining: 211ms\n",
      "880:\tlearn: 868.6476567\ttotal: 1.55s\tremaining: 209ms\n",
      "881:\tlearn: 868.5617902\ttotal: 1.55s\tremaining: 207ms\n",
      "882:\tlearn: 868.4465484\ttotal: 1.55s\tremaining: 206ms\n",
      "883:\tlearn: 868.3032890\ttotal: 1.55s\tremaining: 204ms\n",
      "884:\tlearn: 868.1327952\ttotal: 1.56s\tremaining: 202ms\n",
      "885:\tlearn: 868.0576709\ttotal: 1.56s\tremaining: 200ms\n",
      "886:\tlearn: 867.8594050\ttotal: 1.56s\tremaining: 199ms\n",
      "887:\tlearn: 867.6399297\ttotal: 1.56s\tremaining: 197ms\n",
      "888:\tlearn: 867.3695327\ttotal: 1.56s\tremaining: 195ms\n",
      "889:\tlearn: 867.1673436\ttotal: 1.56s\tremaining: 193ms\n",
      "890:\tlearn: 866.9125633\ttotal: 1.57s\tremaining: 192ms\n",
      "891:\tlearn: 866.7732420\ttotal: 1.57s\tremaining: 190ms\n",
      "892:\tlearn: 866.5692032\ttotal: 1.57s\tremaining: 188ms\n",
      "893:\tlearn: 866.4193290\ttotal: 1.57s\tremaining: 186ms\n",
      "894:\tlearn: 866.3219276\ttotal: 1.57s\tremaining: 185ms\n",
      "895:\tlearn: 866.1724875\ttotal: 1.57s\tremaining: 183ms\n",
      "896:\tlearn: 865.9663410\ttotal: 1.58s\tremaining: 181ms\n",
      "897:\tlearn: 865.6701318\ttotal: 1.58s\tremaining: 179ms\n",
      "898:\tlearn: 865.5736241\ttotal: 1.58s\tremaining: 178ms\n",
      "899:\tlearn: 865.3333144\ttotal: 1.58s\tremaining: 176ms\n",
      "900:\tlearn: 865.1781913\ttotal: 1.58s\tremaining: 174ms\n",
      "901:\tlearn: 865.1195562\ttotal: 1.58s\tremaining: 172ms\n",
      "902:\tlearn: 865.0116841\ttotal: 1.59s\tremaining: 170ms\n",
      "903:\tlearn: 864.7296616\ttotal: 1.59s\tremaining: 169ms\n",
      "904:\tlearn: 864.5560456\ttotal: 1.59s\tremaining: 167ms\n",
      "905:\tlearn: 864.3957629\ttotal: 1.59s\tremaining: 165ms\n",
      "906:\tlearn: 864.1464428\ttotal: 1.59s\tremaining: 163ms\n",
      "907:\tlearn: 863.9932251\ttotal: 1.59s\tremaining: 162ms\n",
      "908:\tlearn: 863.8547122\ttotal: 1.6s\tremaining: 160ms\n",
      "909:\tlearn: 863.6216192\ttotal: 1.6s\tremaining: 158ms\n",
      "910:\tlearn: 863.4440086\ttotal: 1.6s\tremaining: 156ms\n",
      "911:\tlearn: 863.2371726\ttotal: 1.6s\tremaining: 155ms\n",
      "912:\tlearn: 863.0180778\ttotal: 1.6s\tremaining: 153ms\n",
      "913:\tlearn: 862.8167225\ttotal: 1.61s\tremaining: 151ms\n",
      "914:\tlearn: 862.6173312\ttotal: 1.61s\tremaining: 149ms\n",
      "915:\tlearn: 862.4088745\ttotal: 1.61s\tremaining: 148ms\n",
      "916:\tlearn: 862.2556325\ttotal: 1.61s\tremaining: 146ms\n",
      "917:\tlearn: 862.1644325\ttotal: 1.61s\tremaining: 144ms\n",
      "918:\tlearn: 861.9458902\ttotal: 1.61s\tremaining: 142ms\n",
      "919:\tlearn: 861.7528869\ttotal: 1.62s\tremaining: 141ms\n",
      "920:\tlearn: 861.5394687\ttotal: 1.62s\tremaining: 139ms\n",
      "921:\tlearn: 861.4315711\ttotal: 1.62s\tremaining: 137ms\n",
      "922:\tlearn: 861.3156644\ttotal: 1.62s\tremaining: 135ms\n",
      "923:\tlearn: 861.2725539\ttotal: 1.62s\tremaining: 134ms\n",
      "924:\tlearn: 861.1940444\ttotal: 1.63s\tremaining: 132ms\n",
      "925:\tlearn: 860.9926748\ttotal: 1.63s\tremaining: 130ms\n",
      "926:\tlearn: 860.7843648\ttotal: 1.63s\tremaining: 128ms\n",
      "927:\tlearn: 860.6194384\ttotal: 1.63s\tremaining: 127ms\n",
      "928:\tlearn: 860.4656723\ttotal: 1.63s\tremaining: 125ms\n",
      "929:\tlearn: 860.2573756\ttotal: 1.63s\tremaining: 123ms\n",
      "930:\tlearn: 860.1384698\ttotal: 1.64s\tremaining: 121ms\n",
      "931:\tlearn: 859.9346063\ttotal: 1.64s\tremaining: 120ms\n",
      "932:\tlearn: 859.7108654\ttotal: 1.64s\tremaining: 118ms\n",
      "933:\tlearn: 859.5398328\ttotal: 1.64s\tremaining: 116ms\n",
      "934:\tlearn: 859.3846213\ttotal: 1.64s\tremaining: 114ms\n",
      "935:\tlearn: 859.1697262\ttotal: 1.65s\tremaining: 112ms\n",
      "936:\tlearn: 859.1049668\ttotal: 1.65s\tremaining: 111ms\n",
      "937:\tlearn: 859.0118431\ttotal: 1.65s\tremaining: 109ms\n",
      "938:\tlearn: 858.9573723\ttotal: 1.65s\tremaining: 107ms\n",
      "939:\tlearn: 858.8870310\ttotal: 1.65s\tremaining: 105ms\n",
      "940:\tlearn: 858.7192620\ttotal: 1.65s\tremaining: 104ms\n",
      "941:\tlearn: 858.5781505\ttotal: 1.66s\tremaining: 102ms\n",
      "942:\tlearn: 858.5352057\ttotal: 1.66s\tremaining: 100ms\n",
      "943:\tlearn: 858.2917161\ttotal: 1.66s\tremaining: 98.4ms\n",
      "944:\tlearn: 858.2429552\ttotal: 1.66s\tremaining: 96.6ms\n",
      "945:\tlearn: 857.9950685\ttotal: 1.66s\tremaining: 94.9ms\n",
      "946:\tlearn: 857.9128783\ttotal: 1.66s\tremaining: 93.1ms\n",
      "947:\tlearn: 857.7756550\ttotal: 1.67s\tremaining: 91.4ms\n",
      "948:\tlearn: 857.5475443\ttotal: 1.67s\tremaining: 89.6ms\n",
      "949:\tlearn: 857.2979991\ttotal: 1.67s\tremaining: 87.8ms\n",
      "950:\tlearn: 857.2521698\ttotal: 1.67s\tremaining: 86.1ms\n",
      "951:\tlearn: 857.0995788\ttotal: 1.67s\tremaining: 84.3ms\n",
      "952:\tlearn: 856.7451560\ttotal: 1.67s\tremaining: 82.6ms\n",
      "953:\tlearn: 856.6223905\ttotal: 1.68s\tremaining: 80.8ms\n",
      "954:\tlearn: 856.4692253\ttotal: 1.68s\tremaining: 79ms\n",
      "955:\tlearn: 856.3387225\ttotal: 1.68s\tremaining: 77.3ms\n",
      "956:\tlearn: 856.0440644\ttotal: 1.68s\tremaining: 75.5ms\n",
      "957:\tlearn: 855.8770557\ttotal: 1.68s\tremaining: 73.8ms\n",
      "958:\tlearn: 855.6831141\ttotal: 1.68s\tremaining: 72ms\n",
      "959:\tlearn: 855.5553923\ttotal: 1.69s\tremaining: 70.3ms\n",
      "960:\tlearn: 855.3791937\ttotal: 1.69s\tremaining: 68.5ms\n",
      "961:\tlearn: 855.3357481\ttotal: 1.69s\tremaining: 66.7ms\n",
      "962:\tlearn: 855.1965934\ttotal: 1.69s\tremaining: 65ms\n",
      "963:\tlearn: 855.1038515\ttotal: 1.69s\tremaining: 63.2ms\n",
      "964:\tlearn: 854.9232221\ttotal: 1.69s\tremaining: 61.5ms\n",
      "965:\tlearn: 854.8188947\ttotal: 1.7s\tremaining: 59.7ms\n",
      "966:\tlearn: 854.7128149\ttotal: 1.7s\tremaining: 58ms\n",
      "967:\tlearn: 854.5623205\ttotal: 1.7s\tremaining: 56.2ms\n",
      "968:\tlearn: 854.3673948\ttotal: 1.7s\tremaining: 54.4ms\n",
      "969:\tlearn: 854.1718777\ttotal: 1.7s\tremaining: 52.7ms\n",
      "970:\tlearn: 854.0419799\ttotal: 1.71s\tremaining: 50.9ms\n",
      "971:\tlearn: 853.8809903\ttotal: 1.71s\tremaining: 49.2ms\n",
      "972:\tlearn: 853.6201903\ttotal: 1.71s\tremaining: 47.4ms\n",
      "973:\tlearn: 853.5373119\ttotal: 1.71s\tremaining: 45.7ms\n",
      "974:\tlearn: 853.4242242\ttotal: 1.71s\tremaining: 43.9ms\n",
      "975:\tlearn: 853.3173135\ttotal: 1.71s\tremaining: 42.1ms\n",
      "976:\tlearn: 853.1591437\ttotal: 1.72s\tremaining: 40.4ms\n",
      "977:\tlearn: 853.0867524\ttotal: 1.72s\tremaining: 38.6ms\n",
      "978:\tlearn: 852.9543228\ttotal: 1.72s\tremaining: 36.9ms\n",
      "979:\tlearn: 852.8715761\ttotal: 1.72s\tremaining: 35.1ms\n",
      "980:\tlearn: 852.7023107\ttotal: 1.72s\tremaining: 33.4ms\n",
      "981:\tlearn: 852.5481244\ttotal: 1.72s\tremaining: 31.6ms\n",
      "982:\tlearn: 852.3818489\ttotal: 1.73s\tremaining: 29.9ms\n",
      "983:\tlearn: 852.2135200\ttotal: 1.73s\tremaining: 28.1ms\n",
      "984:\tlearn: 852.0811383\ttotal: 1.73s\tremaining: 26.3ms\n",
      "985:\tlearn: 851.8593385\ttotal: 1.73s\tremaining: 24.6ms\n",
      "986:\tlearn: 851.6881286\ttotal: 1.73s\tremaining: 22.8ms\n",
      "987:\tlearn: 851.4785838\ttotal: 1.74s\tremaining: 21.1ms\n",
      "988:\tlearn: 851.3381262\ttotal: 1.74s\tremaining: 19.3ms\n",
      "989:\tlearn: 851.1654074\ttotal: 1.74s\tremaining: 17.6ms\n",
      "990:\tlearn: 851.0621243\ttotal: 1.74s\tremaining: 15.8ms\n",
      "991:\tlearn: 850.8669877\ttotal: 1.74s\tremaining: 14ms\n",
      "992:\tlearn: 850.7487768\ttotal: 1.74s\tremaining: 12.3ms\n",
      "993:\tlearn: 850.5025125\ttotal: 1.75s\tremaining: 10.5ms\n",
      "994:\tlearn: 850.3654731\ttotal: 1.75s\tremaining: 8.78ms\n",
      "995:\tlearn: 850.2352139\ttotal: 1.75s\tremaining: 7.02ms\n",
      "996:\tlearn: 850.0703096\ttotal: 1.75s\tremaining: 5.27ms\n",
      "997:\tlearn: 849.9745761\ttotal: 1.75s\tremaining: 3.51ms\n",
      "998:\tlearn: 849.7376429\ttotal: 1.75s\tremaining: 1.76ms\n",
      "999:\tlearn: 849.5083881\ttotal: 1.76s\tremaining: 0us\n"
     ]
    },
    {
     "name": "stdout",
     "output_type": "stream",
     "text": [
      "For test data\n",
      "RMSE Error: 1036.6949036050435\n",
      "For train data\n",
      "RMSE Error: 865.3907613072963\n"
     ]
    }
   ],
   "source": [
    "model.fit(X_train, y_train)\n",
    "# Get predictions\n",
    "y_pred = model.predict(X_test)\n",
    "y_hat=model.predict(X_train)\n",
    "print(\"For test data\")\n",
    "RMSE(y_test, y_pred)\n",
    "print(\"For train data\")\n",
    "RMSE(y_train, y_hat)"
   ]
  },
  {
   "cell_type": "code",
   "execution_count": 267,
   "id": "2246f064",
   "metadata": {},
   "outputs": [],
   "source": [
    "y_pres_test_vot=model.predict(test)"
   ]
  },
  {
   "cell_type": "code",
   "execution_count": 268,
   "id": "e5b557c5",
   "metadata": {},
   "outputs": [],
   "source": [
    "data={\"Item_Identifier\":df[\"Item_Identifier\"],\"Outlet_Identifier\":df[\"Outlet_Identifier\"],\"Item_Outlet_Sales\":y_pres_test_vot}"
   ]
  },
  {
   "cell_type": "code",
   "execution_count": 269,
   "id": "b9be0012",
   "metadata": {},
   "outputs": [
    {
     "data": {
      "text/plain": [
       "(6818, 11)"
      ]
     },
     "execution_count": 269,
     "metadata": {},
     "output_type": "execute_result"
    }
   ],
   "source": [
    "X_train.shape"
   ]
  },
  {
   "cell_type": "code",
   "execution_count": 270,
   "id": "ac1cb9ee",
   "metadata": {},
   "outputs": [],
   "source": [
    "gbr=pd.DataFrame(data)\n",
    "gbr.to_csv('vot4.csv')"
   ]
  },
  {
   "cell_type": "code",
   "execution_count": null,
   "id": "df37abc7",
   "metadata": {},
   "outputs": [],
   "source": []
  },
  {
   "cell_type": "code",
   "execution_count": null,
   "id": "a561a6cb",
   "metadata": {},
   "outputs": [],
   "source": []
  },
  {
   "cell_type": "code",
   "execution_count": null,
   "id": "21712bcf",
   "metadata": {},
   "outputs": [],
   "source": []
  },
  {
   "cell_type": "code",
   "execution_count": null,
   "id": "38cc3fe2",
   "metadata": {},
   "outputs": [],
   "source": []
  },
  {
   "cell_type": "code",
   "execution_count": null,
   "id": "2fcce33d",
   "metadata": {},
   "outputs": [],
   "source": []
  },
  {
   "cell_type": "code",
   "execution_count": null,
   "id": "9a748cc1",
   "metadata": {},
   "outputs": [],
   "source": []
  },
  {
   "cell_type": "code",
   "execution_count": null,
   "id": "3d8cd430",
   "metadata": {},
   "outputs": [],
   "source": []
  },
  {
   "cell_type": "code",
   "execution_count": null,
   "id": "6b692c7a",
   "metadata": {},
   "outputs": [],
   "source": []
  },
  {
   "cell_type": "code",
   "execution_count": null,
   "id": "6db6f2cf",
   "metadata": {},
   "outputs": [],
   "source": []
  },
  {
   "cell_type": "code",
   "execution_count": null,
   "id": "86e924b4",
   "metadata": {},
   "outputs": [],
   "source": []
  },
  {
   "cell_type": "code",
   "execution_count": null,
   "id": "afc7d864",
   "metadata": {},
   "outputs": [],
   "source": []
  },
  {
   "cell_type": "code",
   "execution_count": null,
   "id": "e6cd3fd0",
   "metadata": {},
   "outputs": [],
   "source": []
  },
  {
   "cell_type": "markdown",
   "id": "161ec15e",
   "metadata": {},
   "source": [
    "# using boosting algorithms"
   ]
  },
  {
   "cell_type": "code",
   "execution_count": 138,
   "id": "b6442175",
   "metadata": {
    "scrolled": true
   },
   "outputs": [
    {
     "name": "stderr",
     "output_type": "stream",
     "text": [
      "C:\\Users\\abhishek bablani\\anaconda3\\lib\\site-packages\\sklearn\\model_selection\\_search.py:918: UserWarning: One or more of the test scores are non-finite: [ 2.12857964e-002  4.15675372e-002  6.00696925e-002  7.69624894e-002\n",
      "  9.30251527e-002  1.63297425e-001  4.87794686e-002  9.38589503e-002\n",
      "  1.34998454e-001  1.72162349e-001  2.06131929e-001  3.37247911e-001\n",
      "  5.57167329e-002  1.07023483e-001  1.53334570e-001  1.95163573e-001\n",
      "  2.33007256e-001  3.75055835e-001  5.61697219e-002  1.07703879e-001\n",
      "  1.54011948e-001  1.95721217e-001  2.33387983e-001  3.73646689e-001\n",
      "  5.59107321e-002  1.07024155e-001  1.53121105e-001  1.94636160e-001\n",
      "  2.31981815e-001  3.69940964e-001  1.63854346e-001  2.64967556e-001\n",
      "  3.34734981e-001  3.86905109e-001  4.26205285e-001  5.18838267e-001\n",
      "  3.38295628e-001  4.79885046e-001  5.42699499e-001  5.71811975e-001\n",
      "  5.84480326e-001  5.94787917e-001  3.76038465e-001  5.14014169e-001\n",
      "  5.64328253e-001  5.83185820e-001  5.89527853e-001  5.87982254e-001\n",
      "  3.74641643e-001  5.08338946e-001  5.55072534e-001  5.71396281e-001\n",
      "  5.75970126e-001  5.67901530e-001  3.70628831e-001  4.99177517e-001\n",
      "  5.42587442e-001  5.56293921e-001  5.58432995e-001  5.44352368e-001\n",
      "  5.22646861e-001  5.51325742e-001  5.54979199e-001  5.55691183e-001\n",
      "  5.56019740e-001  5.56200091e-001  5.94829686e-001  5.90349796e-001\n",
      "  5.85811037e-001  5.80664512e-001  5.74717649e-001  5.51286150e-001\n",
      "  5.86114980e-001  5.67966322e-001  5.54156082e-001  5.43517342e-001\n",
      "  5.35117160e-001  5.03607669e-001  5.60492357e-001  5.38073935e-001\n",
      "  5.21545537e-001  5.11389651e-001  5.04634249e-001  4.78922220e-001\n",
      "  5.41883522e-001  5.18309534e-001  5.04961082e-001  4.95379194e-001\n",
      "  4.90663766e-001  4.78411481e-001  5.53357920e-001  5.51944180e-001\n",
      "  5.49331628e-001  5.47797040e-001  5.46732490e-001  5.41235830e-001\n",
      "  4.71522652e-001  3.96457834e-001  3.48175051e-001  3.08826891e-001\n",
      "  2.89929662e-001  2.15558604e-001  2.66312343e-001  1.91279389e-001\n",
      "  1.59078068e-001  1.55784612e-001  1.50611067e-001  1.38672230e-001\n",
      "  1.94584012e-001  1.72699482e-001  1.73509042e-001  1.69202177e-001\n",
      "  1.73454889e-001  1.73366864e-001  1.85602473e-001  1.80360545e-001\n",
      "  1.99557975e-001  1.77873455e-001  1.83445025e-001  1.77107457e-001\n",
      " -6.33103390e+094 -1.68161117e+190 -4.46659450e+285             -inf\n",
      "             -inf              nan -1.39105787e+095 -3.69484431e+190\n",
      " -9.81402334e+285             -inf             -inf              nan\n",
      " -1.61424916e+095 -4.28766647e+190 -1.13887522e+286             -inf\n",
      "             -inf              nan -1.70621940e+095 -4.54977255e+190\n",
      " -1.20410540e+286             -inf             -inf              nan\n",
      " -1.75834730e+095 -4.71287963e+190 -1.25763436e+286             -inf\n",
      "             -inf              nan]\n",
      "  warnings.warn(\n",
      "C:\\Users\\abhishek bablani\\anaconda3\\lib\\site-packages\\sklearn\\model_selection\\_search.py:925: RuntimeWarning: invalid value encountered in subtract\n",
      "  array_stds = np.sqrt(np.average((array -\n",
      "C:\\Users\\abhishek bablani\\anaconda3\\lib\\site-packages\\sklearn\\model_selection\\_search.py:925: RuntimeWarning: overflow encountered in square\n",
      "  array_stds = np.sqrt(np.average((array -\n",
      "C:\\Users\\abhishek bablani\\anaconda3\\lib\\site-packages\\sklearn\\utils\\validation.py:63: DataConversionWarning: A column-vector y was passed when a 1d array was expected. Please change the shape of y to (n_samples, ), for example using ravel().\n",
      "  return f(*args, **kwargs)\n"
     ]
    },
    {
     "name": "stdout",
     "output_type": "stream",
     "text": [
      "GradientBoostingRegressor(n_estimators=50)\n",
      "{'learning_rate': 0.1, 'max_depth': 3, 'n_estimators': 50}\n"
     ]
    }
   ],
   "source": [
    "from sklearn.ensemble import GradientBoostingRegressor\n",
    "from sklearn.metrics import mean_squared_error\n",
    "from sklearn.model_selection import GridSearchCV\n",
    "gbr=GradientBoostingRegressor()\n",
    "parameters = {\n",
    "    \"n_estimators\":[50,100,150,200,250,500],\n",
    "    \"max_depth\":[1,3,5,7,9],\n",
    "    \"learning_rate\":[0.001,0.01,0.1,1,10]\n",
    "}\n",
    "cv = GridSearchCV(gbr,parameters,cv=3,n_jobs=-1)\n",
    "cv.fit(X_train,y_train)\n",
    "print(cv.best_estimator_)\n",
    "print(cv.best_params_)"
   ]
  },
  {
   "cell_type": "code",
   "execution_count": 161,
   "id": "245e9ec9",
   "metadata": {
    "scrolled": true
   },
   "outputs": [
    {
     "name": "stderr",
     "output_type": "stream",
     "text": [
      "C:\\Users\\abhishek bablani\\anaconda3\\lib\\site-packages\\sklearn\\utils\\validation.py:63: DataConversionWarning: A column-vector y was passed when a 1d array was expected. Please change the shape of y to (n_samples, ), for example using ravel().\n",
      "  return f(*args, **kwargs)\n"
     ]
    },
    {
     "name": "stdout",
     "output_type": "stream",
     "text": [
      "For test data\n",
      "RMSE Error: 1028.039553903137\n",
      "For train data\n",
      "RMSE Error: 1068.3170259501705\n"
     ]
    }
   ],
   "source": [
    "model = GradientBoostingRegressor(learning_rate=0.01, n_estimators=500, max_depth=3)\n",
    "model.fit(X_train, y_train)\n",
    "y_pred = model.predict(X_test)\n",
    "y_hat=model.predict(X_train)\n",
    "print(\"For test data\")\n",
    "RMSE(y_test, y_pred)\n",
    "print(\"For train data\")\n",
    "RMSE(y_train, y_hat)"
   ]
  },
  {
   "cell_type": "code",
   "execution_count": 162,
   "id": "31301614",
   "metadata": {},
   "outputs": [],
   "source": [
    "y_pres_test=model.predict(test)"
   ]
  },
  {
   "cell_type": "code",
   "execution_count": null,
   "id": "5e3ff328",
   "metadata": {},
   "outputs": [],
   "source": [
    "y"
   ]
  },
  {
   "cell_type": "code",
   "execution_count": 177,
   "id": "74613367",
   "metadata": {},
   "outputs": [],
   "source": [
    "df=pd.read_csv(\"test.csv\")"
   ]
  },
  {
   "cell_type": "code",
   "execution_count": 164,
   "id": "0e819a2c",
   "metadata": {},
   "outputs": [
    {
     "data": {
      "text/html": [
       "<div>\n",
       "<style scoped>\n",
       "    .dataframe tbody tr th:only-of-type {\n",
       "        vertical-align: middle;\n",
       "    }\n",
       "\n",
       "    .dataframe tbody tr th {\n",
       "        vertical-align: top;\n",
       "    }\n",
       "\n",
       "    .dataframe thead th {\n",
       "        text-align: right;\n",
       "    }\n",
       "</style>\n",
       "<table border=\"1\" class=\"dataframe\">\n",
       "  <thead>\n",
       "    <tr style=\"text-align: right;\">\n",
       "      <th></th>\n",
       "      <th>Item_Identifier</th>\n",
       "      <th>Item_Weight</th>\n",
       "      <th>Item_Fat_Content</th>\n",
       "      <th>Item_Visibility</th>\n",
       "      <th>Item_Type</th>\n",
       "      <th>Item_MRP</th>\n",
       "      <th>Outlet_Identifier</th>\n",
       "      <th>Outlet_Establishment_Year</th>\n",
       "      <th>Outlet_Size</th>\n",
       "      <th>Outlet_Location_Type</th>\n",
       "      <th>Outlet_Type</th>\n",
       "    </tr>\n",
       "  </thead>\n",
       "  <tbody>\n",
       "    <tr>\n",
       "      <th>0</th>\n",
       "      <td>FDW58</td>\n",
       "      <td>20.750</td>\n",
       "      <td>Low Fat</td>\n",
       "      <td>0.007565</td>\n",
       "      <td>Snack Foods</td>\n",
       "      <td>107.8622</td>\n",
       "      <td>OUT049</td>\n",
       "      <td>1999</td>\n",
       "      <td>Medium</td>\n",
       "      <td>Tier 1</td>\n",
       "      <td>Supermarket Type1</td>\n",
       "    </tr>\n",
       "    <tr>\n",
       "      <th>1</th>\n",
       "      <td>FDW14</td>\n",
       "      <td>8.300</td>\n",
       "      <td>reg</td>\n",
       "      <td>0.038428</td>\n",
       "      <td>Dairy</td>\n",
       "      <td>87.3198</td>\n",
       "      <td>OUT017</td>\n",
       "      <td>2007</td>\n",
       "      <td>NaN</td>\n",
       "      <td>Tier 2</td>\n",
       "      <td>Supermarket Type1</td>\n",
       "    </tr>\n",
       "    <tr>\n",
       "      <th>2</th>\n",
       "      <td>NCN55</td>\n",
       "      <td>14.600</td>\n",
       "      <td>Low Fat</td>\n",
       "      <td>0.099575</td>\n",
       "      <td>Others</td>\n",
       "      <td>241.7538</td>\n",
       "      <td>OUT010</td>\n",
       "      <td>1998</td>\n",
       "      <td>NaN</td>\n",
       "      <td>Tier 3</td>\n",
       "      <td>Grocery Store</td>\n",
       "    </tr>\n",
       "    <tr>\n",
       "      <th>3</th>\n",
       "      <td>FDQ58</td>\n",
       "      <td>7.315</td>\n",
       "      <td>Low Fat</td>\n",
       "      <td>0.015388</td>\n",
       "      <td>Snack Foods</td>\n",
       "      <td>155.0340</td>\n",
       "      <td>OUT017</td>\n",
       "      <td>2007</td>\n",
       "      <td>NaN</td>\n",
       "      <td>Tier 2</td>\n",
       "      <td>Supermarket Type1</td>\n",
       "    </tr>\n",
       "    <tr>\n",
       "      <th>4</th>\n",
       "      <td>FDY38</td>\n",
       "      <td>NaN</td>\n",
       "      <td>Regular</td>\n",
       "      <td>0.118599</td>\n",
       "      <td>Dairy</td>\n",
       "      <td>234.2300</td>\n",
       "      <td>OUT027</td>\n",
       "      <td>1985</td>\n",
       "      <td>Medium</td>\n",
       "      <td>Tier 3</td>\n",
       "      <td>Supermarket Type3</td>\n",
       "    </tr>\n",
       "  </tbody>\n",
       "</table>\n",
       "</div>"
      ],
      "text/plain": [
       "  Item_Identifier  Item_Weight Item_Fat_Content  Item_Visibility    Item_Type  \\\n",
       "0           FDW58       20.750          Low Fat         0.007565  Snack Foods   \n",
       "1           FDW14        8.300              reg         0.038428        Dairy   \n",
       "2           NCN55       14.600          Low Fat         0.099575       Others   \n",
       "3           FDQ58        7.315          Low Fat         0.015388  Snack Foods   \n",
       "4           FDY38          NaN          Regular         0.118599        Dairy   \n",
       "\n",
       "   Item_MRP Outlet_Identifier  Outlet_Establishment_Year Outlet_Size  \\\n",
       "0  107.8622            OUT049                       1999      Medium   \n",
       "1   87.3198            OUT017                       2007         NaN   \n",
       "2  241.7538            OUT010                       1998         NaN   \n",
       "3  155.0340            OUT017                       2007         NaN   \n",
       "4  234.2300            OUT027                       1985      Medium   \n",
       "\n",
       "  Outlet_Location_Type        Outlet_Type  \n",
       "0               Tier 1  Supermarket Type1  \n",
       "1               Tier 2  Supermarket Type1  \n",
       "2               Tier 3      Grocery Store  \n",
       "3               Tier 2  Supermarket Type1  \n",
       "4               Tier 3  Supermarket Type3  "
      ]
     },
     "execution_count": 164,
     "metadata": {},
     "output_type": "execute_result"
    }
   ],
   "source": [
    "df.head()"
   ]
  },
  {
   "cell_type": "code",
   "execution_count": null,
   "id": "e527d24d",
   "metadata": {},
   "outputs": [],
   "source": []
  },
  {
   "cell_type": "code",
   "execution_count": 165,
   "id": "89d2bfc6",
   "metadata": {},
   "outputs": [],
   "source": [
    "data={\"Item_Identifier\":df[\"Item_Identifier\"],\"Outlet_Identifier\":df[\"Outlet_Identifier\"],\"Item_Outlet_Sales\":y_pres_test}"
   ]
  },
  {
   "cell_type": "code",
   "execution_count": 167,
   "id": "3fe2a029",
   "metadata": {},
   "outputs": [],
   "source": [
    "gbr=pd.DataFrame(data)\n",
    "gbr.to_csv('gbr2.csv')"
   ]
  },
  {
   "cell_type": "markdown",
   "id": "810e99f3",
   "metadata": {},
   "source": [
    "# Adaboost"
   ]
  },
  {
   "cell_type": "code",
   "execution_count": 168,
   "id": "186ad386",
   "metadata": {},
   "outputs": [
    {
     "name": "stderr",
     "output_type": "stream",
     "text": [
      "C:\\Users\\abhishek bablani\\anaconda3\\lib\\site-packages\\sklearn\\utils\\validation.py:63: DataConversionWarning: A column-vector y was passed when a 1d array was expected. Please change the shape of y to (n_samples, ), for example using ravel().\n",
      "  return f(*args, **kwargs)\n"
     ]
    },
    {
     "data": {
      "text/plain": [
       "RandomizedSearchCV(cv=3, estimator=AdaBoostRegressor(), n_jobs=-1,\n",
       "                   param_distributions={'learning_rate': [0.01, 0.05, 0.1, 0.3,\n",
       "                                                          1],\n",
       "                                        'loss': ['linear', 'square',\n",
       "                                                 'exponential'],\n",
       "                                        'n_estimators': [50, 100, 150, 200, 250,\n",
       "                                                         300, 350]})"
      ]
     },
     "execution_count": 168,
     "metadata": {},
     "output_type": "execute_result"
    }
   ],
   "source": [
    "from sklearn.ensemble import AdaBoostRegressor #For Regression\n",
    "from sklearn.model_selection import RandomizedSearchCV\n",
    "param_dist = {\n",
    " 'n_estimators': [50, 100,150,200,250,300,350],\n",
    " 'learning_rate' : [0.01,0.05,0.1,0.3,1],\n",
    " 'loss' : ['linear', 'square', 'exponential']\n",
    " }\n",
    "pre_gs_inst = RandomizedSearchCV(AdaBoostRegressor(),\n",
    " param_distributions = param_dist,\n",
    " cv=3,\n",
    " n_iter = 10,\n",
    " n_jobs=-1)\n",
    "pre_gs_inst.fit(X_train, y_train)"
   ]
  },
  {
   "cell_type": "code",
   "execution_count": 170,
   "id": "c8919232",
   "metadata": {},
   "outputs": [
    {
     "data": {
      "text/plain": [
       "{'n_estimators': 150, 'loss': 'linear', 'learning_rate': 0.05}"
      ]
     },
     "execution_count": 170,
     "metadata": {},
     "output_type": "execute_result"
    }
   ],
   "source": [
    "pre_gs_inst.best_params_\n"
   ]
  },
  {
   "cell_type": "code",
   "execution_count": 171,
   "id": "80858f12",
   "metadata": {},
   "outputs": [
    {
     "data": {
      "text/plain": [
       "AdaBoostRegressor(learning_rate=0.05, n_estimators=150)"
      ]
     },
     "execution_count": 171,
     "metadata": {},
     "output_type": "execute_result"
    }
   ],
   "source": [
    "pre_gs_inst.best_estimator_"
   ]
  },
  {
   "cell_type": "code",
   "execution_count": 177,
   "id": "3ad54e6d",
   "metadata": {},
   "outputs": [
    {
     "name": "stderr",
     "output_type": "stream",
     "text": [
      "C:\\Users\\abhishek bablani\\anaconda3\\lib\\site-packages\\sklearn\\utils\\validation.py:63: DataConversionWarning: A column-vector y was passed when a 1d array was expected. Please change the shape of y to (n_samples, ), for example using ravel().\n",
      "  return f(*args, **kwargs)\n"
     ]
    },
    {
     "name": "stdout",
     "output_type": "stream",
     "text": [
      "For test data\n",
      "RMSE Error: 1167.3748187626777\n",
      "For train data\n",
      "RMSE Error: 1208.2238751009\n"
     ]
    }
   ],
   "source": [
    "ada = AdaBoostRegressor(learning_rate=0.05, loss='linear', n_estimators=150)\n",
    "# fit the model on the whole dataset\n",
    "ada.fit(X_train, y_train)\n",
    "y_pred_ada = ada.predict(X_test)\n",
    "y_hat_ada=ada.predict(X_train)\n",
    "print(\"For test data\")\n",
    "RMSE(y_test, y_pred_ada)\n",
    "print(\"For train data\")\n",
    "RMSE(y_train, y_hat_ada)"
   ]
  },
  {
   "cell_type": "code",
   "execution_count": 178,
   "id": "e6454392",
   "metadata": {},
   "outputs": [],
   "source": [
    "y_pres_test=ada.predict(test)"
   ]
  },
  {
   "cell_type": "code",
   "execution_count": 179,
   "id": "8763d202",
   "metadata": {},
   "outputs": [],
   "source": [
    "data={\"Item_Identifier\":df[\"Item_Identifier\"],\"Outlet_Identifier\":df[\"Outlet_Identifier\"],\"Item_Outlet_Sales\":y_pres_test}\n",
    "ada=pd.DataFrame(data)\n",
    "ada.to_csv('ada.csv')"
   ]
  },
  {
   "cell_type": "markdown",
   "id": "d25baff9",
   "metadata": {},
   "source": [
    "# XGBOOST"
   ]
  },
  {
   "cell_type": "code",
   "execution_count": 191,
   "id": "19ac87d6",
   "metadata": {},
   "outputs": [
    {
     "name": "stdout",
     "output_type": "stream",
     "text": [
      "Fitting 3 folds for each of 20 candidates, totalling 60 fits\n",
      "XGBRegressor(base_score=0.5, booster='gbtree', colsample_bylevel=1,\n",
      "             colsample_bynode=1, colsample_bytree=1, gamma=0, gpu_id=-1,\n",
      "             importance_type='gain', interaction_constraints='',\n",
      "             learning_rate=0.05, max_delta_step=0, max_depth=5,\n",
      "             min_child_weight=1, missing=nan, monotone_constraints='()',\n",
      "             n_estimators=120, n_jobs=12, num_parallel_tree=1, random_state=0,\n",
      "             reg_alpha=0, reg_lambda=1, scale_pos_weight=1, subsample=1,\n",
      "             tree_method='exact', validate_parameters=1, verbosity=None)\n",
      "{'n_estimators': 120, 'max_depth': 5, 'learning_rate': 0.05}\n"
     ]
    }
   ],
   "source": [
    "from xgboost.sklearn import XGBRegressor\n",
    "parameters = {\n",
    "    'max_depth': range (1, 10, 1),\n",
    "    'n_estimators': range(20, 220, 100),\n",
    "    'learning_rate': [0.001,0.1, 0.01,0.03, 0.05]\n",
    "}\n",
    "rfr_random = RandomizedSearchCV(estimator= XGBRegressor(),param_distributions=parameters, n_iter = 20, cv = 3, verbose=2, random_state=42, n_jobs=-1)\n",
    "rfr_random.fit(X_train,y_train)\n",
    "print(rfr_random.best_estimator_)\n",
    "print(rfr_random.best_params_)"
   ]
  },
  {
   "cell_type": "code",
   "execution_count": 192,
   "id": "2a16e07a",
   "metadata": {},
   "outputs": [],
   "source": [
    "xgb=XGBRegressor(base_score=0.5, booster='gbtree', colsample_bylevel=1,\n",
    "             colsample_bynode=1, colsample_bytree=1, gamma=0, gpu_id=-1,\n",
    "             importance_type='gain', interaction_constraints='',\n",
    "             learning_rate=0.05, max_delta_step=0, max_depth=5,\n",
    "             min_child_weight=1, monotone_constraints='()',\n",
    "             n_estimators=120, n_jobs=12, num_parallel_tree=1, random_state=0,\n",
    "             reg_alpha=0, reg_lambda=1, scale_pos_weight=1, subsample=1,\n",
    "             tree_method='exact', validate_parameters=1, verbosity=None)"
   ]
  },
  {
   "cell_type": "code",
   "execution_count": 193,
   "id": "07551ae9",
   "metadata": {},
   "outputs": [
    {
     "name": "stdout",
     "output_type": "stream",
     "text": [
      "For test data\n",
      "RMSE Error: 1043.2103595111391\n",
      "For train data\n",
      "RMSE Error: 986.6708957726554\n"
     ]
    }
   ],
   "source": [
    "# fit the model on the whole dataset\n",
    "xgb.fit(X_train, y_train)\n",
    "y_pred_xgb = xgb.predict(X_test)\n",
    "y_hat_xgb=xgb.predict(X_train)\n",
    "print(\"For test data\")\n",
    "RMSE(y_test, y_pred_xgb)\n",
    "print(\"For train data\")\n",
    "RMSE(y_train, y_hat_xgb)"
   ]
  },
  {
   "cell_type": "code",
   "execution_count": 194,
   "id": "13623636",
   "metadata": {},
   "outputs": [],
   "source": [
    "y_pres_test=xgb.predict(test)\n",
    "data={\"Item_Identifier\":df[\"Item_Identifier\"],\"Outlet_Identifier\":df[\"Outlet_Identifier\"],\"Item_Outlet_Sales\":y_pres_test}\n",
    "xgb=pd.DataFrame(data)\n",
    "xgb.to_csv('xgb.csv')"
   ]
  },
  {
   "cell_type": "code",
   "execution_count": null,
   "id": "dd0418a7",
   "metadata": {},
   "outputs": [],
   "source": []
  }
 ],
 "metadata": {
  "kernelspec": {
   "display_name": "Python 3",
   "language": "python",
   "name": "python3"
  },
  "language_info": {
   "codemirror_mode": {
    "name": "ipython",
    "version": 3
   },
   "file_extension": ".py",
   "mimetype": "text/x-python",
   "name": "python",
   "nbconvert_exporter": "python",
   "pygments_lexer": "ipython3",
   "version": "3.8.8"
  }
 },
 "nbformat": 4,
 "nbformat_minor": 5
}
