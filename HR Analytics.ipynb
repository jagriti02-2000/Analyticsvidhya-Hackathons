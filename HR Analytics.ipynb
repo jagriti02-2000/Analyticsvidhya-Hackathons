{
 "cells": [
  {
   "cell_type": "code",
   "execution_count": 1,
   "id": "89e67482",
   "metadata": {},
   "outputs": [],
   "source": [
    "import numpy as np\n",
    "import matplotlib.pyplot as plt\n",
    "import seaborn as sns\n",
    "import pandas as pd"
   ]
  },
  {
   "cell_type": "code",
   "execution_count": 2,
   "id": "f3e9116f",
   "metadata": {},
   "outputs": [],
   "source": [
    "df = pd.read_csv(\"hr_train.csv\")"
   ]
  },
  {
   "cell_type": "code",
   "execution_count": 3,
   "id": "e120ac71",
   "metadata": {},
   "outputs": [
    {
     "data": {
      "text/html": [
       "<div>\n",
       "<style scoped>\n",
       "    .dataframe tbody tr th:only-of-type {\n",
       "        vertical-align: middle;\n",
       "    }\n",
       "\n",
       "    .dataframe tbody tr th {\n",
       "        vertical-align: top;\n",
       "    }\n",
       "\n",
       "    .dataframe thead th {\n",
       "        text-align: right;\n",
       "    }\n",
       "</style>\n",
       "<table border=\"1\" class=\"dataframe\">\n",
       "  <thead>\n",
       "    <tr style=\"text-align: right;\">\n",
       "      <th></th>\n",
       "      <th>employee_id</th>\n",
       "      <th>department</th>\n",
       "      <th>region</th>\n",
       "      <th>education</th>\n",
       "      <th>gender</th>\n",
       "      <th>recruitment_channel</th>\n",
       "      <th>no_of_trainings</th>\n",
       "      <th>age</th>\n",
       "      <th>previous_year_rating</th>\n",
       "      <th>length_of_service</th>\n",
       "      <th>KPIs_met &gt;80%</th>\n",
       "      <th>awards_won?</th>\n",
       "      <th>avg_training_score</th>\n",
       "      <th>is_promoted</th>\n",
       "    </tr>\n",
       "  </thead>\n",
       "  <tbody>\n",
       "    <tr>\n",
       "      <th>0</th>\n",
       "      <td>65438</td>\n",
       "      <td>Sales &amp; Marketing</td>\n",
       "      <td>region_7</td>\n",
       "      <td>Master's &amp; above</td>\n",
       "      <td>f</td>\n",
       "      <td>sourcing</td>\n",
       "      <td>1</td>\n",
       "      <td>35</td>\n",
       "      <td>5.0</td>\n",
       "      <td>8</td>\n",
       "      <td>1</td>\n",
       "      <td>0</td>\n",
       "      <td>49</td>\n",
       "      <td>0</td>\n",
       "    </tr>\n",
       "    <tr>\n",
       "      <th>1</th>\n",
       "      <td>65141</td>\n",
       "      <td>Operations</td>\n",
       "      <td>region_22</td>\n",
       "      <td>Bachelor's</td>\n",
       "      <td>m</td>\n",
       "      <td>other</td>\n",
       "      <td>1</td>\n",
       "      <td>30</td>\n",
       "      <td>5.0</td>\n",
       "      <td>4</td>\n",
       "      <td>0</td>\n",
       "      <td>0</td>\n",
       "      <td>60</td>\n",
       "      <td>0</td>\n",
       "    </tr>\n",
       "    <tr>\n",
       "      <th>2</th>\n",
       "      <td>7513</td>\n",
       "      <td>Sales &amp; Marketing</td>\n",
       "      <td>region_19</td>\n",
       "      <td>Bachelor's</td>\n",
       "      <td>m</td>\n",
       "      <td>sourcing</td>\n",
       "      <td>1</td>\n",
       "      <td>34</td>\n",
       "      <td>3.0</td>\n",
       "      <td>7</td>\n",
       "      <td>0</td>\n",
       "      <td>0</td>\n",
       "      <td>50</td>\n",
       "      <td>0</td>\n",
       "    </tr>\n",
       "    <tr>\n",
       "      <th>3</th>\n",
       "      <td>2542</td>\n",
       "      <td>Sales &amp; Marketing</td>\n",
       "      <td>region_23</td>\n",
       "      <td>Bachelor's</td>\n",
       "      <td>m</td>\n",
       "      <td>other</td>\n",
       "      <td>2</td>\n",
       "      <td>39</td>\n",
       "      <td>1.0</td>\n",
       "      <td>10</td>\n",
       "      <td>0</td>\n",
       "      <td>0</td>\n",
       "      <td>50</td>\n",
       "      <td>0</td>\n",
       "    </tr>\n",
       "    <tr>\n",
       "      <th>4</th>\n",
       "      <td>48945</td>\n",
       "      <td>Technology</td>\n",
       "      <td>region_26</td>\n",
       "      <td>Bachelor's</td>\n",
       "      <td>m</td>\n",
       "      <td>other</td>\n",
       "      <td>1</td>\n",
       "      <td>45</td>\n",
       "      <td>3.0</td>\n",
       "      <td>2</td>\n",
       "      <td>0</td>\n",
       "      <td>0</td>\n",
       "      <td>73</td>\n",
       "      <td>0</td>\n",
       "    </tr>\n",
       "    <tr>\n",
       "      <th>...</th>\n",
       "      <td>...</td>\n",
       "      <td>...</td>\n",
       "      <td>...</td>\n",
       "      <td>...</td>\n",
       "      <td>...</td>\n",
       "      <td>...</td>\n",
       "      <td>...</td>\n",
       "      <td>...</td>\n",
       "      <td>...</td>\n",
       "      <td>...</td>\n",
       "      <td>...</td>\n",
       "      <td>...</td>\n",
       "      <td>...</td>\n",
       "      <td>...</td>\n",
       "    </tr>\n",
       "    <tr>\n",
       "      <th>54803</th>\n",
       "      <td>3030</td>\n",
       "      <td>Technology</td>\n",
       "      <td>region_14</td>\n",
       "      <td>Bachelor's</td>\n",
       "      <td>m</td>\n",
       "      <td>sourcing</td>\n",
       "      <td>1</td>\n",
       "      <td>48</td>\n",
       "      <td>3.0</td>\n",
       "      <td>17</td>\n",
       "      <td>0</td>\n",
       "      <td>0</td>\n",
       "      <td>78</td>\n",
       "      <td>0</td>\n",
       "    </tr>\n",
       "    <tr>\n",
       "      <th>54804</th>\n",
       "      <td>74592</td>\n",
       "      <td>Operations</td>\n",
       "      <td>region_27</td>\n",
       "      <td>Master's &amp; above</td>\n",
       "      <td>f</td>\n",
       "      <td>other</td>\n",
       "      <td>1</td>\n",
       "      <td>37</td>\n",
       "      <td>2.0</td>\n",
       "      <td>6</td>\n",
       "      <td>0</td>\n",
       "      <td>0</td>\n",
       "      <td>56</td>\n",
       "      <td>0</td>\n",
       "    </tr>\n",
       "    <tr>\n",
       "      <th>54805</th>\n",
       "      <td>13918</td>\n",
       "      <td>Analytics</td>\n",
       "      <td>region_1</td>\n",
       "      <td>Bachelor's</td>\n",
       "      <td>m</td>\n",
       "      <td>other</td>\n",
       "      <td>1</td>\n",
       "      <td>27</td>\n",
       "      <td>5.0</td>\n",
       "      <td>3</td>\n",
       "      <td>1</td>\n",
       "      <td>0</td>\n",
       "      <td>79</td>\n",
       "      <td>0</td>\n",
       "    </tr>\n",
       "    <tr>\n",
       "      <th>54806</th>\n",
       "      <td>13614</td>\n",
       "      <td>Sales &amp; Marketing</td>\n",
       "      <td>region_9</td>\n",
       "      <td>NaN</td>\n",
       "      <td>m</td>\n",
       "      <td>sourcing</td>\n",
       "      <td>1</td>\n",
       "      <td>29</td>\n",
       "      <td>1.0</td>\n",
       "      <td>2</td>\n",
       "      <td>0</td>\n",
       "      <td>0</td>\n",
       "      <td>45</td>\n",
       "      <td>0</td>\n",
       "    </tr>\n",
       "    <tr>\n",
       "      <th>54807</th>\n",
       "      <td>51526</td>\n",
       "      <td>HR</td>\n",
       "      <td>region_22</td>\n",
       "      <td>Bachelor's</td>\n",
       "      <td>m</td>\n",
       "      <td>other</td>\n",
       "      <td>1</td>\n",
       "      <td>27</td>\n",
       "      <td>1.0</td>\n",
       "      <td>5</td>\n",
       "      <td>0</td>\n",
       "      <td>0</td>\n",
       "      <td>49</td>\n",
       "      <td>0</td>\n",
       "    </tr>\n",
       "  </tbody>\n",
       "</table>\n",
       "<p>54808 rows × 14 columns</p>\n",
       "</div>"
      ],
      "text/plain": [
       "       employee_id         department     region         education gender  \\\n",
       "0            65438  Sales & Marketing   region_7  Master's & above      f   \n",
       "1            65141         Operations  region_22        Bachelor's      m   \n",
       "2             7513  Sales & Marketing  region_19        Bachelor's      m   \n",
       "3             2542  Sales & Marketing  region_23        Bachelor's      m   \n",
       "4            48945         Technology  region_26        Bachelor's      m   \n",
       "...            ...                ...        ...               ...    ...   \n",
       "54803         3030         Technology  region_14        Bachelor's      m   \n",
       "54804        74592         Operations  region_27  Master's & above      f   \n",
       "54805        13918          Analytics   region_1        Bachelor's      m   \n",
       "54806        13614  Sales & Marketing   region_9               NaN      m   \n",
       "54807        51526                 HR  region_22        Bachelor's      m   \n",
       "\n",
       "      recruitment_channel  no_of_trainings  age  previous_year_rating  \\\n",
       "0                sourcing                1   35                   5.0   \n",
       "1                   other                1   30                   5.0   \n",
       "2                sourcing                1   34                   3.0   \n",
       "3                   other                2   39                   1.0   \n",
       "4                   other                1   45                   3.0   \n",
       "...                   ...              ...  ...                   ...   \n",
       "54803            sourcing                1   48                   3.0   \n",
       "54804               other                1   37                   2.0   \n",
       "54805               other                1   27                   5.0   \n",
       "54806            sourcing                1   29                   1.0   \n",
       "54807               other                1   27                   1.0   \n",
       "\n",
       "       length_of_service  KPIs_met >80%  awards_won?  avg_training_score  \\\n",
       "0                      8              1            0                  49   \n",
       "1                      4              0            0                  60   \n",
       "2                      7              0            0                  50   \n",
       "3                     10              0            0                  50   \n",
       "4                      2              0            0                  73   \n",
       "...                  ...            ...          ...                 ...   \n",
       "54803                 17              0            0                  78   \n",
       "54804                  6              0            0                  56   \n",
       "54805                  3              1            0                  79   \n",
       "54806                  2              0            0                  45   \n",
       "54807                  5              0            0                  49   \n",
       "\n",
       "       is_promoted  \n",
       "0                0  \n",
       "1                0  \n",
       "2                0  \n",
       "3                0  \n",
       "4                0  \n",
       "...            ...  \n",
       "54803            0  \n",
       "54804            0  \n",
       "54805            0  \n",
       "54806            0  \n",
       "54807            0  \n",
       "\n",
       "[54808 rows x 14 columns]"
      ]
     },
     "execution_count": 3,
     "metadata": {},
     "output_type": "execute_result"
    }
   ],
   "source": [
    "df"
   ]
  },
  {
   "cell_type": "code",
   "execution_count": 4,
   "id": "57f057ae",
   "metadata": {},
   "outputs": [
    {
     "data": {
      "text/plain": [
       "<AxesSubplot:ylabel='is_promoted'>"
      ]
     },
     "execution_count": 4,
     "metadata": {},
     "output_type": "execute_result"
    },
    {
     "data": {
      "image/png": "[encoded data removed]",
      "text/plain": [
       "<Figure size 432x288 with 1 Axes>"
      ]
     },
     "metadata": {},
     "output_type": "display_data"
    }
   ],
   "source": [
    "colour=['#60C2AC',\"#9A0EEA\"]\n",
    "df[\"is_promoted\"].value_counts().plot.pie(explode=[0,.50], autopct='%1.2f%%',colors=colour)"
   ]
  },
  {
   "cell_type": "code",
   "execution_count": 5,
   "id": "92f6e7b4",
   "metadata": {},
   "outputs": [
    {
     "data": {
      "text/plain": [
       "<AxesSubplot:>"
      ]
     },
     "execution_count": 5,
     "metadata": {},
     "output_type": "execute_result"
    },
    {
     "data": {
      "image/png": "[encoded data removed]",
      "text/plain": [
       "<Figure size 432x288 with 1 Axes>"
      ]
     },
     "metadata": {
      "needs_background": "light"
     },
     "output_type": "display_data"
    }
   ],
   "source": [
    "colour=['#60C2AC',\"#9A0EEA\"]\n",
    "df[\"is_promoted\"].value_counts().plot(kind='barh')"
   ]
  },
  {
   "cell_type": "code",
   "execution_count": 6,
   "id": "4f7af767",
   "metadata": {},
   "outputs": [
    {
     "name": "stderr",
     "output_type": "stream",
     "text": [
      "C:\\Users\\abhishek bablani\\anaconda3\\lib\\site-packages\\seaborn\\_decorators.py:36: FutureWarning: Pass the following variables as keyword args: x, y. From version 0.12, the only valid positional argument will be `data`, and passing other arguments without an explicit keyword will result in an error or misinterpretation.\n",
      "  warnings.warn(\n"
     ]
    },
    {
     "data": {
      "image/png": "[encoded data removed]",
      "text/plain": [
       "<Figure size 432x288 with 1 Axes>"
      ]
     },
     "metadata": {
      "needs_background": "light"
     },
     "output_type": "display_data"
    }
   ],
   "source": [
    "box=sns.boxplot(\"is_promoted\",\"age\",data=df)\n"
   ]
  },
  {
   "cell_type": "code",
   "execution_count": 7,
   "id": "cb25544d",
   "metadata": {},
   "outputs": [
    {
     "data": {
      "image/png": "[encoded data removed]",
      "text/plain": [
       "<Figure size 432x288 with 1 Axes>"
      ]
     },
     "metadata": {
      "needs_background": "light"
     },
     "output_type": "display_data"
    }
   ],
   "source": [
    "total_p=df.groupby(\"is_promoted\")[\"no_of_trainings\"].sum().plot(kind='barh')"
   ]
  },
  {
   "cell_type": "code",
   "execution_count": null,
   "id": "4126338a",
   "metadata": {},
   "outputs": [],
   "source": []
  },
  {
   "cell_type": "code",
   "execution_count": 225,
   "id": "6c42e8b9",
   "metadata": {},
   "outputs": [],
   "source": [
    "df[[\"previous_year_rating\",\"awards_won?\"]]=df[[\"previous_year_rating\",\"awards_won?\"]].astype(object)"
   ]
  },
  {
   "cell_type": "code",
   "execution_count": 226,
   "id": "d6667a15",
   "metadata": {},
   "outputs": [],
   "source": [
    "df[\"education\"].fillna(df[\"education\"].mode()[0],inplace=True)\n",
    "df[\"previous_year_rating\"].fillna(df[\"previous_year_rating\"].mode()[0],inplace=True)"
   ]
  },
  {
   "cell_type": "code",
   "execution_count": 227,
   "id": "a072cab6",
   "metadata": {},
   "outputs": [
    {
     "data": {
      "text/plain": [
       "employee_id             0\n",
       "department              0\n",
       "region                  0\n",
       "education               0\n",
       "gender                  0\n",
       "recruitment_channel     0\n",
       "no_of_trainings         0\n",
       "age                     0\n",
       "previous_year_rating    0\n",
       "length_of_service       0\n",
       "KPIs_met >80%           0\n",
       "awards_won?             0\n",
       "avg_training_score      0\n",
       "is_promoted             0\n",
       "dtype: int64"
      ]
     },
     "execution_count": 227,
     "metadata": {},
     "output_type": "execute_result"
    }
   ],
   "source": [
    "df.isna().sum()"
   ]
  },
  {
   "cell_type": "code",
   "execution_count": 228,
   "id": "f7165e2d",
   "metadata": {},
   "outputs": [],
   "source": [
    "X=df.drop([\"is_promoted\"],axis=1)\n",
    "y=df[[\"is_promoted\"]]"
   ]
  },
  {
   "cell_type": "code",
   "execution_count": 229,
   "id": "8ca35d60",
   "metadata": {},
   "outputs": [
    {
     "data": {
      "text/html": [
       "<div>\n",
       "<style scoped>\n",
       "    .dataframe tbody tr th:only-of-type {\n",
       "        vertical-align: middle;\n",
       "    }\n",
       "\n",
       "    .dataframe tbody tr th {\n",
       "        vertical-align: top;\n",
       "    }\n",
       "\n",
       "    .dataframe thead th {\n",
       "        text-align: right;\n",
       "    }\n",
       "</style>\n",
       "<table border=\"1\" class=\"dataframe\">\n",
       "  <thead>\n",
       "    <tr style=\"text-align: right;\">\n",
       "      <th></th>\n",
       "      <th>employee_id</th>\n",
       "      <th>department</th>\n",
       "      <th>region</th>\n",
       "      <th>education</th>\n",
       "      <th>gender</th>\n",
       "      <th>recruitment_channel</th>\n",
       "      <th>no_of_trainings</th>\n",
       "      <th>age</th>\n",
       "      <th>previous_year_rating</th>\n",
       "      <th>length_of_service</th>\n",
       "      <th>KPIs_met &gt;80%</th>\n",
       "      <th>awards_won?</th>\n",
       "      <th>avg_training_score</th>\n",
       "    </tr>\n",
       "  </thead>\n",
       "  <tbody>\n",
       "    <tr>\n",
       "      <th>0</th>\n",
       "      <td>65438</td>\n",
       "      <td>Sales &amp; Marketing</td>\n",
       "      <td>region_7</td>\n",
       "      <td>Master's &amp; above</td>\n",
       "      <td>f</td>\n",
       "      <td>sourcing</td>\n",
       "      <td>1</td>\n",
       "      <td>35</td>\n",
       "      <td>5.0</td>\n",
       "      <td>8</td>\n",
       "      <td>1</td>\n",
       "      <td>0</td>\n",
       "      <td>49</td>\n",
       "    </tr>\n",
       "    <tr>\n",
       "      <th>1</th>\n",
       "      <td>65141</td>\n",
       "      <td>Operations</td>\n",
       "      <td>region_22</td>\n",
       "      <td>Bachelor's</td>\n",
       "      <td>m</td>\n",
       "      <td>other</td>\n",
       "      <td>1</td>\n",
       "      <td>30</td>\n",
       "      <td>5.0</td>\n",
       "      <td>4</td>\n",
       "      <td>0</td>\n",
       "      <td>0</td>\n",
       "      <td>60</td>\n",
       "    </tr>\n",
       "    <tr>\n",
       "      <th>2</th>\n",
       "      <td>7513</td>\n",
       "      <td>Sales &amp; Marketing</td>\n",
       "      <td>region_19</td>\n",
       "      <td>Bachelor's</td>\n",
       "      <td>m</td>\n",
       "      <td>sourcing</td>\n",
       "      <td>1</td>\n",
       "      <td>34</td>\n",
       "      <td>3.0</td>\n",
       "      <td>7</td>\n",
       "      <td>0</td>\n",
       "      <td>0</td>\n",
       "      <td>50</td>\n",
       "    </tr>\n",
       "    <tr>\n",
       "      <th>3</th>\n",
       "      <td>2542</td>\n",
       "      <td>Sales &amp; Marketing</td>\n",
       "      <td>region_23</td>\n",
       "      <td>Bachelor's</td>\n",
       "      <td>m</td>\n",
       "      <td>other</td>\n",
       "      <td>2</td>\n",
       "      <td>39</td>\n",
       "      <td>1.0</td>\n",
       "      <td>10</td>\n",
       "      <td>0</td>\n",
       "      <td>0</td>\n",
       "      <td>50</td>\n",
       "    </tr>\n",
       "    <tr>\n",
       "      <th>4</th>\n",
       "      <td>48945</td>\n",
       "      <td>Technology</td>\n",
       "      <td>region_26</td>\n",
       "      <td>Bachelor's</td>\n",
       "      <td>m</td>\n",
       "      <td>other</td>\n",
       "      <td>1</td>\n",
       "      <td>45</td>\n",
       "      <td>3.0</td>\n",
       "      <td>2</td>\n",
       "      <td>0</td>\n",
       "      <td>0</td>\n",
       "      <td>73</td>\n",
       "    </tr>\n",
       "  </tbody>\n",
       "</table>\n",
       "</div>"
      ],
      "text/plain": [
       "   employee_id         department     region         education gender  \\\n",
       "0        65438  Sales & Marketing   region_7  Master's & above      f   \n",
       "1        65141         Operations  region_22        Bachelor's      m   \n",
       "2         7513  Sales & Marketing  region_19        Bachelor's      m   \n",
       "3         2542  Sales & Marketing  region_23        Bachelor's      m   \n",
       "4        48945         Technology  region_26        Bachelor's      m   \n",
       "\n",
       "  recruitment_channel  no_of_trainings  age  previous_year_rating  \\\n",
       "0            sourcing                1   35                   5.0   \n",
       "1               other                1   30                   5.0   \n",
       "2            sourcing                1   34                   3.0   \n",
       "3               other                2   39                   1.0   \n",
       "4               other                1   45                   3.0   \n",
       "\n",
       "   length_of_service  KPIs_met >80% awards_won?  avg_training_score  \n",
       "0                  8              1           0                  49  \n",
       "1                  4              0           0                  60  \n",
       "2                  7              0           0                  50  \n",
       "3                 10              0           0                  50  \n",
       "4                  2              0           0                  73  "
      ]
     },
     "execution_count": 229,
     "metadata": {},
     "output_type": "execute_result"
    }
   ],
   "source": [
    "X.head()"
   ]
  },
  {
   "cell_type": "code",
   "execution_count": 230,
   "id": "778ae943",
   "metadata": {},
   "outputs": [],
   "source": [
    "from sklearn.preprocessing import LabelEncoder"
   ]
  },
  {
   "cell_type": "code",
   "execution_count": 231,
   "id": "9a07fec9",
   "metadata": {},
   "outputs": [],
   "source": [
    "le = LabelEncoder()\n",
    "  \n",
    "X['gender']= le.fit_transform(X['gender'])"
   ]
  },
  {
   "cell_type": "code",
   "execution_count": 232,
   "id": "cfea7314",
   "metadata": {},
   "outputs": [
    {
     "data": {
      "text/html": [
       "<div>\n",
       "<style scoped>\n",
       "    .dataframe tbody tr th:only-of-type {\n",
       "        vertical-align: middle;\n",
       "    }\n",
       "\n",
       "    .dataframe tbody tr th {\n",
       "        vertical-align: top;\n",
       "    }\n",
       "\n",
       "    .dataframe thead th {\n",
       "        text-align: right;\n",
       "    }\n",
       "</style>\n",
       "<table border=\"1\" class=\"dataframe\">\n",
       "  <thead>\n",
       "    <tr style=\"text-align: right;\">\n",
       "      <th></th>\n",
       "      <th>employee_id</th>\n",
       "      <th>department</th>\n",
       "      <th>region</th>\n",
       "      <th>education</th>\n",
       "      <th>gender</th>\n",
       "      <th>recruitment_channel</th>\n",
       "      <th>no_of_trainings</th>\n",
       "      <th>age</th>\n",
       "      <th>previous_year_rating</th>\n",
       "      <th>length_of_service</th>\n",
       "      <th>KPIs_met &gt;80%</th>\n",
       "      <th>awards_won?</th>\n",
       "      <th>avg_training_score</th>\n",
       "    </tr>\n",
       "  </thead>\n",
       "  <tbody>\n",
       "    <tr>\n",
       "      <th>0</th>\n",
       "      <td>65438</td>\n",
       "      <td>Sales &amp; Marketing</td>\n",
       "      <td>region_7</td>\n",
       "      <td>Master's &amp; above</td>\n",
       "      <td>0</td>\n",
       "      <td>sourcing</td>\n",
       "      <td>1</td>\n",
       "      <td>35</td>\n",
       "      <td>5.0</td>\n",
       "      <td>8</td>\n",
       "      <td>1</td>\n",
       "      <td>0</td>\n",
       "      <td>49</td>\n",
       "    </tr>\n",
       "    <tr>\n",
       "      <th>1</th>\n",
       "      <td>65141</td>\n",
       "      <td>Operations</td>\n",
       "      <td>region_22</td>\n",
       "      <td>Bachelor's</td>\n",
       "      <td>1</td>\n",
       "      <td>other</td>\n",
       "      <td>1</td>\n",
       "      <td>30</td>\n",
       "      <td>5.0</td>\n",
       "      <td>4</td>\n",
       "      <td>0</td>\n",
       "      <td>0</td>\n",
       "      <td>60</td>\n",
       "    </tr>\n",
       "    <tr>\n",
       "      <th>2</th>\n",
       "      <td>7513</td>\n",
       "      <td>Sales &amp; Marketing</td>\n",
       "      <td>region_19</td>\n",
       "      <td>Bachelor's</td>\n",
       "      <td>1</td>\n",
       "      <td>sourcing</td>\n",
       "      <td>1</td>\n",
       "      <td>34</td>\n",
       "      <td>3.0</td>\n",
       "      <td>7</td>\n",
       "      <td>0</td>\n",
       "      <td>0</td>\n",
       "      <td>50</td>\n",
       "    </tr>\n",
       "    <tr>\n",
       "      <th>3</th>\n",
       "      <td>2542</td>\n",
       "      <td>Sales &amp; Marketing</td>\n",
       "      <td>region_23</td>\n",
       "      <td>Bachelor's</td>\n",
       "      <td>1</td>\n",
       "      <td>other</td>\n",
       "      <td>2</td>\n",
       "      <td>39</td>\n",
       "      <td>1.0</td>\n",
       "      <td>10</td>\n",
       "      <td>0</td>\n",
       "      <td>0</td>\n",
       "      <td>50</td>\n",
       "    </tr>\n",
       "    <tr>\n",
       "      <th>4</th>\n",
       "      <td>48945</td>\n",
       "      <td>Technology</td>\n",
       "      <td>region_26</td>\n",
       "      <td>Bachelor's</td>\n",
       "      <td>1</td>\n",
       "      <td>other</td>\n",
       "      <td>1</td>\n",
       "      <td>45</td>\n",
       "      <td>3.0</td>\n",
       "      <td>2</td>\n",
       "      <td>0</td>\n",
       "      <td>0</td>\n",
       "      <td>73</td>\n",
       "    </tr>\n",
       "  </tbody>\n",
       "</table>\n",
       "</div>"
      ],
      "text/plain": [
       "   employee_id         department     region         education  gender  \\\n",
       "0        65438  Sales & Marketing   region_7  Master's & above       0   \n",
       "1        65141         Operations  region_22        Bachelor's       1   \n",
       "2         7513  Sales & Marketing  region_19        Bachelor's       1   \n",
       "3         2542  Sales & Marketing  region_23        Bachelor's       1   \n",
       "4        48945         Technology  region_26        Bachelor's       1   \n",
       "\n",
       "  recruitment_channel  no_of_trainings  age  previous_year_rating  \\\n",
       "0            sourcing                1   35                   5.0   \n",
       "1               other                1   30                   5.0   \n",
       "2            sourcing                1   34                   3.0   \n",
       "3               other                2   39                   1.0   \n",
       "4               other                1   45                   3.0   \n",
       "\n",
       "   length_of_service  KPIs_met >80% awards_won?  avg_training_score  \n",
       "0                  8              1           0                  49  \n",
       "1                  4              0           0                  60  \n",
       "2                  7              0           0                  50  \n",
       "3                 10              0           0                  50  \n",
       "4                  2              0           0                  73  "
      ]
     },
     "execution_count": 232,
     "metadata": {},
     "output_type": "execute_result"
    }
   ],
   "source": [
    "X.head()"
   ]
  },
  {
   "cell_type": "code",
   "execution_count": 233,
   "id": "d1e756eb",
   "metadata": {},
   "outputs": [
    {
     "data": {
      "text/plain": [
       "Bachelor's          39078\n",
       "Master's & above    14925\n",
       "Below Secondary       805\n",
       "Name: education, dtype: int64"
      ]
     },
     "execution_count": 233,
     "metadata": {},
     "output_type": "execute_result"
    }
   ],
   "source": [
    "X[\"education\"].value_counts()"
   ]
  },
  {
   "cell_type": "code",
   "execution_count": 234,
   "id": "767a7651",
   "metadata": {},
   "outputs": [],
   "source": [
    "edu_dict={\"Below Secondary\":0,\"Bachelor's\":1,\"Master's & above\":2}"
   ]
  },
  {
   "cell_type": "code",
   "execution_count": 235,
   "id": "d9c03389",
   "metadata": {},
   "outputs": [],
   "source": [
    "\n",
    "X[\"education\"]=X[\"education\"].map(edu_dict)"
   ]
  },
  {
   "cell_type": "code",
   "execution_count": 236,
   "id": "047d44e8",
   "metadata": {},
   "outputs": [
    {
     "data": {
      "text/html": [
       "<div>\n",
       "<style scoped>\n",
       "    .dataframe tbody tr th:only-of-type {\n",
       "        vertical-align: middle;\n",
       "    }\n",
       "\n",
       "    .dataframe tbody tr th {\n",
       "        vertical-align: top;\n",
       "    }\n",
       "\n",
       "    .dataframe thead th {\n",
       "        text-align: right;\n",
       "    }\n",
       "</style>\n",
       "<table border=\"1\" class=\"dataframe\">\n",
       "  <thead>\n",
       "    <tr style=\"text-align: right;\">\n",
       "      <th></th>\n",
       "      <th>employee_id</th>\n",
       "      <th>department</th>\n",
       "      <th>region</th>\n",
       "      <th>education</th>\n",
       "      <th>gender</th>\n",
       "      <th>recruitment_channel</th>\n",
       "      <th>no_of_trainings</th>\n",
       "      <th>age</th>\n",
       "      <th>previous_year_rating</th>\n",
       "      <th>length_of_service</th>\n",
       "      <th>KPIs_met &gt;80%</th>\n",
       "      <th>awards_won?</th>\n",
       "      <th>avg_training_score</th>\n",
       "    </tr>\n",
       "  </thead>\n",
       "  <tbody>\n",
       "    <tr>\n",
       "      <th>0</th>\n",
       "      <td>65438</td>\n",
       "      <td>Sales &amp; Marketing</td>\n",
       "      <td>region_7</td>\n",
       "      <td>2</td>\n",
       "      <td>0</td>\n",
       "      <td>sourcing</td>\n",
       "      <td>1</td>\n",
       "      <td>35</td>\n",
       "      <td>5.0</td>\n",
       "      <td>8</td>\n",
       "      <td>1</td>\n",
       "      <td>0</td>\n",
       "      <td>49</td>\n",
       "    </tr>\n",
       "    <tr>\n",
       "      <th>1</th>\n",
       "      <td>65141</td>\n",
       "      <td>Operations</td>\n",
       "      <td>region_22</td>\n",
       "      <td>1</td>\n",
       "      <td>1</td>\n",
       "      <td>other</td>\n",
       "      <td>1</td>\n",
       "      <td>30</td>\n",
       "      <td>5.0</td>\n",
       "      <td>4</td>\n",
       "      <td>0</td>\n",
       "      <td>0</td>\n",
       "      <td>60</td>\n",
       "    </tr>\n",
       "    <tr>\n",
       "      <th>2</th>\n",
       "      <td>7513</td>\n",
       "      <td>Sales &amp; Marketing</td>\n",
       "      <td>region_19</td>\n",
       "      <td>1</td>\n",
       "      <td>1</td>\n",
       "      <td>sourcing</td>\n",
       "      <td>1</td>\n",
       "      <td>34</td>\n",
       "      <td>3.0</td>\n",
       "      <td>7</td>\n",
       "      <td>0</td>\n",
       "      <td>0</td>\n",
       "      <td>50</td>\n",
       "    </tr>\n",
       "    <tr>\n",
       "      <th>3</th>\n",
       "      <td>2542</td>\n",
       "      <td>Sales &amp; Marketing</td>\n",
       "      <td>region_23</td>\n",
       "      <td>1</td>\n",
       "      <td>1</td>\n",
       "      <td>other</td>\n",
       "      <td>2</td>\n",
       "      <td>39</td>\n",
       "      <td>1.0</td>\n",
       "      <td>10</td>\n",
       "      <td>0</td>\n",
       "      <td>0</td>\n",
       "      <td>50</td>\n",
       "    </tr>\n",
       "    <tr>\n",
       "      <th>4</th>\n",
       "      <td>48945</td>\n",
       "      <td>Technology</td>\n",
       "      <td>region_26</td>\n",
       "      <td>1</td>\n",
       "      <td>1</td>\n",
       "      <td>other</td>\n",
       "      <td>1</td>\n",
       "      <td>45</td>\n",
       "      <td>3.0</td>\n",
       "      <td>2</td>\n",
       "      <td>0</td>\n",
       "      <td>0</td>\n",
       "      <td>73</td>\n",
       "    </tr>\n",
       "  </tbody>\n",
       "</table>\n",
       "</div>"
      ],
      "text/plain": [
       "   employee_id         department     region  education  gender  \\\n",
       "0        65438  Sales & Marketing   region_7          2       0   \n",
       "1        65141         Operations  region_22          1       1   \n",
       "2         7513  Sales & Marketing  region_19          1       1   \n",
       "3         2542  Sales & Marketing  region_23          1       1   \n",
       "4        48945         Technology  region_26          1       1   \n",
       "\n",
       "  recruitment_channel  no_of_trainings  age  previous_year_rating  \\\n",
       "0            sourcing                1   35                   5.0   \n",
       "1               other                1   30                   5.0   \n",
       "2            sourcing                1   34                   3.0   \n",
       "3               other                2   39                   1.0   \n",
       "4               other                1   45                   3.0   \n",
       "\n",
       "   length_of_service  KPIs_met >80% awards_won?  avg_training_score  \n",
       "0                  8              1           0                  49  \n",
       "1                  4              0           0                  60  \n",
       "2                  7              0           0                  50  \n",
       "3                 10              0           0                  50  \n",
       "4                  2              0           0                  73  "
      ]
     },
     "execution_count": 236,
     "metadata": {},
     "output_type": "execute_result"
    }
   ],
   "source": [
    "X.head()"
   ]
  },
  {
   "cell_type": "code",
   "execution_count": 237,
   "id": "5bb4166f",
   "metadata": {},
   "outputs": [],
   "source": [
    "X=pd.get_dummies(X)"
   ]
  },
  {
   "cell_type": "code",
   "execution_count": 238,
   "id": "5cf16358",
   "metadata": {},
   "outputs": [],
   "source": [
    "X.drop([\"employee_id\"],axis=1,inplace=True)"
   ]
  },
  {
   "cell_type": "code",
   "execution_count": null,
   "id": "eb74ed45",
   "metadata": {},
   "outputs": [],
   "source": []
  },
  {
   "cell_type": "code",
   "execution_count": 239,
   "id": "543eec44",
   "metadata": {},
   "outputs": [
    {
     "data": {
      "text/html": [
       "<div>\n",
       "<style scoped>\n",
       "    .dataframe tbody tr th:only-of-type {\n",
       "        vertical-align: middle;\n",
       "    }\n",
       "\n",
       "    .dataframe tbody tr th {\n",
       "        vertical-align: top;\n",
       "    }\n",
       "\n",
       "    .dataframe thead th {\n",
       "        text-align: right;\n",
       "    }\n",
       "</style>\n",
       "<table border=\"1\" class=\"dataframe\">\n",
       "  <thead>\n",
       "    <tr style=\"text-align: right;\">\n",
       "      <th></th>\n",
       "      <th>education</th>\n",
       "      <th>gender</th>\n",
       "      <th>no_of_trainings</th>\n",
       "      <th>age</th>\n",
       "      <th>previous_year_rating</th>\n",
       "      <th>length_of_service</th>\n",
       "      <th>KPIs_met &gt;80%</th>\n",
       "      <th>avg_training_score</th>\n",
       "      <th>department_Analytics</th>\n",
       "      <th>department_Finance</th>\n",
       "      <th>...</th>\n",
       "      <th>region_region_5</th>\n",
       "      <th>region_region_6</th>\n",
       "      <th>region_region_7</th>\n",
       "      <th>region_region_8</th>\n",
       "      <th>region_region_9</th>\n",
       "      <th>recruitment_channel_other</th>\n",
       "      <th>recruitment_channel_referred</th>\n",
       "      <th>recruitment_channel_sourcing</th>\n",
       "      <th>awards_won?_0</th>\n",
       "      <th>awards_won?_1</th>\n",
       "    </tr>\n",
       "  </thead>\n",
       "  <tbody>\n",
       "    <tr>\n",
       "      <th>0</th>\n",
       "      <td>2</td>\n",
       "      <td>0</td>\n",
       "      <td>1</td>\n",
       "      <td>35</td>\n",
       "      <td>5.0</td>\n",
       "      <td>8</td>\n",
       "      <td>1</td>\n",
       "      <td>49</td>\n",
       "      <td>0</td>\n",
       "      <td>0</td>\n",
       "      <td>...</td>\n",
       "      <td>0</td>\n",
       "      <td>0</td>\n",
       "      <td>1</td>\n",
       "      <td>0</td>\n",
       "      <td>0</td>\n",
       "      <td>0</td>\n",
       "      <td>0</td>\n",
       "      <td>1</td>\n",
       "      <td>1</td>\n",
       "      <td>0</td>\n",
       "    </tr>\n",
       "    <tr>\n",
       "      <th>1</th>\n",
       "      <td>1</td>\n",
       "      <td>1</td>\n",
       "      <td>1</td>\n",
       "      <td>30</td>\n",
       "      <td>5.0</td>\n",
       "      <td>4</td>\n",
       "      <td>0</td>\n",
       "      <td>60</td>\n",
       "      <td>0</td>\n",
       "      <td>0</td>\n",
       "      <td>...</td>\n",
       "      <td>0</td>\n",
       "      <td>0</td>\n",
       "      <td>0</td>\n",
       "      <td>0</td>\n",
       "      <td>0</td>\n",
       "      <td>1</td>\n",
       "      <td>0</td>\n",
       "      <td>0</td>\n",
       "      <td>1</td>\n",
       "      <td>0</td>\n",
       "    </tr>\n",
       "    <tr>\n",
       "      <th>2</th>\n",
       "      <td>1</td>\n",
       "      <td>1</td>\n",
       "      <td>1</td>\n",
       "      <td>34</td>\n",
       "      <td>3.0</td>\n",
       "      <td>7</td>\n",
       "      <td>0</td>\n",
       "      <td>50</td>\n",
       "      <td>0</td>\n",
       "      <td>0</td>\n",
       "      <td>...</td>\n",
       "      <td>0</td>\n",
       "      <td>0</td>\n",
       "      <td>0</td>\n",
       "      <td>0</td>\n",
       "      <td>0</td>\n",
       "      <td>0</td>\n",
       "      <td>0</td>\n",
       "      <td>1</td>\n",
       "      <td>1</td>\n",
       "      <td>0</td>\n",
       "    </tr>\n",
       "    <tr>\n",
       "      <th>3</th>\n",
       "      <td>1</td>\n",
       "      <td>1</td>\n",
       "      <td>2</td>\n",
       "      <td>39</td>\n",
       "      <td>1.0</td>\n",
       "      <td>10</td>\n",
       "      <td>0</td>\n",
       "      <td>50</td>\n",
       "      <td>0</td>\n",
       "      <td>0</td>\n",
       "      <td>...</td>\n",
       "      <td>0</td>\n",
       "      <td>0</td>\n",
       "      <td>0</td>\n",
       "      <td>0</td>\n",
       "      <td>0</td>\n",
       "      <td>1</td>\n",
       "      <td>0</td>\n",
       "      <td>0</td>\n",
       "      <td>1</td>\n",
       "      <td>0</td>\n",
       "    </tr>\n",
       "    <tr>\n",
       "      <th>4</th>\n",
       "      <td>1</td>\n",
       "      <td>1</td>\n",
       "      <td>1</td>\n",
       "      <td>45</td>\n",
       "      <td>3.0</td>\n",
       "      <td>2</td>\n",
       "      <td>0</td>\n",
       "      <td>73</td>\n",
       "      <td>0</td>\n",
       "      <td>0</td>\n",
       "      <td>...</td>\n",
       "      <td>0</td>\n",
       "      <td>0</td>\n",
       "      <td>0</td>\n",
       "      <td>0</td>\n",
       "      <td>0</td>\n",
       "      <td>1</td>\n",
       "      <td>0</td>\n",
       "      <td>0</td>\n",
       "      <td>1</td>\n",
       "      <td>0</td>\n",
       "    </tr>\n",
       "  </tbody>\n",
       "</table>\n",
       "<p>5 rows × 56 columns</p>\n",
       "</div>"
      ],
      "text/plain": [
       "   education  gender  no_of_trainings  age  previous_year_rating  \\\n",
       "0          2       0                1   35                   5.0   \n",
       "1          1       1                1   30                   5.0   \n",
       "2          1       1                1   34                   3.0   \n",
       "3          1       1                2   39                   1.0   \n",
       "4          1       1                1   45                   3.0   \n",
       "\n",
       "   length_of_service  KPIs_met >80%  avg_training_score  department_Analytics  \\\n",
       "0                  8              1                  49                     0   \n",
       "1                  4              0                  60                     0   \n",
       "2                  7              0                  50                     0   \n",
       "3                 10              0                  50                     0   \n",
       "4                  2              0                  73                     0   \n",
       "\n",
       "   department_Finance  ...  region_region_5  region_region_6  region_region_7  \\\n",
       "0                   0  ...                0                0                1   \n",
       "1                   0  ...                0                0                0   \n",
       "2                   0  ...                0                0                0   \n",
       "3                   0  ...                0                0                0   \n",
       "4                   0  ...                0                0                0   \n",
       "\n",
       "   region_region_8  region_region_9  recruitment_channel_other  \\\n",
       "0                0                0                          0   \n",
       "1                0                0                          1   \n",
       "2                0                0                          0   \n",
       "3                0                0                          1   \n",
       "4                0                0                          1   \n",
       "\n",
       "   recruitment_channel_referred  recruitment_channel_sourcing  awards_won?_0  \\\n",
       "0                             0                             1              1   \n",
       "1                             0                             0              1   \n",
       "2                             0                             1              1   \n",
       "3                             0                             0              1   \n",
       "4                             0                             0              1   \n",
       "\n",
       "   awards_won?_1  \n",
       "0              0  \n",
       "1              0  \n",
       "2              0  \n",
       "3              0  \n",
       "4              0  \n",
       "\n",
       "[5 rows x 56 columns]"
      ]
     },
     "execution_count": 239,
     "metadata": {},
     "output_type": "execute_result"
    }
   ],
   "source": [
    "X.head()"
   ]
  },
  {
   "cell_type": "code",
   "execution_count": 240,
   "id": "2950c310",
   "metadata": {},
   "outputs": [],
   "source": [
    "X.drop([\"recruitment_channel_sourcing\",\"region_region_9\",\"awards_won?_1\"],axis=1,inplace=True)"
   ]
  },
  {
   "cell_type": "code",
   "execution_count": 241,
   "id": "64589c9d",
   "metadata": {},
   "outputs": [
    {
     "data": {
      "text/plain": [
       "(54808, 53)"
      ]
     },
     "execution_count": 241,
     "metadata": {},
     "output_type": "execute_result"
    }
   ],
   "source": [
    "X.shape"
   ]
  },
  {
   "cell_type": "code",
   "execution_count": null,
   "id": "fe83a4dc",
   "metadata": {},
   "outputs": [],
   "source": []
  },
  {
   "cell_type": "code",
   "execution_count": 242,
   "id": "67c2982d",
   "metadata": {},
   "outputs": [
    {
     "data": {
      "text/html": [
       "<div>\n",
       "<style scoped>\n",
       "    .dataframe tbody tr th:only-of-type {\n",
       "        vertical-align: middle;\n",
       "    }\n",
       "\n",
       "    .dataframe tbody tr th {\n",
       "        vertical-align: top;\n",
       "    }\n",
       "\n",
       "    .dataframe thead th {\n",
       "        text-align: right;\n",
       "    }\n",
       "</style>\n",
       "<table border=\"1\" class=\"dataframe\">\n",
       "  <thead>\n",
       "    <tr style=\"text-align: right;\">\n",
       "      <th></th>\n",
       "      <th>education</th>\n",
       "      <th>gender</th>\n",
       "      <th>no_of_trainings</th>\n",
       "      <th>age</th>\n",
       "      <th>previous_year_rating</th>\n",
       "      <th>length_of_service</th>\n",
       "      <th>KPIs_met &gt;80%</th>\n",
       "      <th>avg_training_score</th>\n",
       "      <th>department_Analytics</th>\n",
       "      <th>department_Finance</th>\n",
       "      <th>...</th>\n",
       "      <th>region_region_33</th>\n",
       "      <th>region_region_34</th>\n",
       "      <th>region_region_4</th>\n",
       "      <th>region_region_5</th>\n",
       "      <th>region_region_6</th>\n",
       "      <th>region_region_7</th>\n",
       "      <th>region_region_8</th>\n",
       "      <th>recruitment_channel_other</th>\n",
       "      <th>recruitment_channel_referred</th>\n",
       "      <th>awards_won?_0</th>\n",
       "    </tr>\n",
       "  </thead>\n",
       "  <tbody>\n",
       "    <tr>\n",
       "      <th>0</th>\n",
       "      <td>2</td>\n",
       "      <td>0</td>\n",
       "      <td>1</td>\n",
       "      <td>35</td>\n",
       "      <td>5.0</td>\n",
       "      <td>8</td>\n",
       "      <td>1</td>\n",
       "      <td>49</td>\n",
       "      <td>0</td>\n",
       "      <td>0</td>\n",
       "      <td>...</td>\n",
       "      <td>0</td>\n",
       "      <td>0</td>\n",
       "      <td>0</td>\n",
       "      <td>0</td>\n",
       "      <td>0</td>\n",
       "      <td>1</td>\n",
       "      <td>0</td>\n",
       "      <td>0</td>\n",
       "      <td>0</td>\n",
       "      <td>1</td>\n",
       "    </tr>\n",
       "    <tr>\n",
       "      <th>1</th>\n",
       "      <td>1</td>\n",
       "      <td>1</td>\n",
       "      <td>1</td>\n",
       "      <td>30</td>\n",
       "      <td>5.0</td>\n",
       "      <td>4</td>\n",
       "      <td>0</td>\n",
       "      <td>60</td>\n",
       "      <td>0</td>\n",
       "      <td>0</td>\n",
       "      <td>...</td>\n",
       "      <td>0</td>\n",
       "      <td>0</td>\n",
       "      <td>0</td>\n",
       "      <td>0</td>\n",
       "      <td>0</td>\n",
       "      <td>0</td>\n",
       "      <td>0</td>\n",
       "      <td>1</td>\n",
       "      <td>0</td>\n",
       "      <td>1</td>\n",
       "    </tr>\n",
       "    <tr>\n",
       "      <th>2</th>\n",
       "      <td>1</td>\n",
       "      <td>1</td>\n",
       "      <td>1</td>\n",
       "      <td>34</td>\n",
       "      <td>3.0</td>\n",
       "      <td>7</td>\n",
       "      <td>0</td>\n",
       "      <td>50</td>\n",
       "      <td>0</td>\n",
       "      <td>0</td>\n",
       "      <td>...</td>\n",
       "      <td>0</td>\n",
       "      <td>0</td>\n",
       "      <td>0</td>\n",
       "      <td>0</td>\n",
       "      <td>0</td>\n",
       "      <td>0</td>\n",
       "      <td>0</td>\n",
       "      <td>0</td>\n",
       "      <td>0</td>\n",
       "      <td>1</td>\n",
       "    </tr>\n",
       "    <tr>\n",
       "      <th>3</th>\n",
       "      <td>1</td>\n",
       "      <td>1</td>\n",
       "      <td>2</td>\n",
       "      <td>39</td>\n",
       "      <td>1.0</td>\n",
       "      <td>10</td>\n",
       "      <td>0</td>\n",
       "      <td>50</td>\n",
       "      <td>0</td>\n",
       "      <td>0</td>\n",
       "      <td>...</td>\n",
       "      <td>0</td>\n",
       "      <td>0</td>\n",
       "      <td>0</td>\n",
       "      <td>0</td>\n",
       "      <td>0</td>\n",
       "      <td>0</td>\n",
       "      <td>0</td>\n",
       "      <td>1</td>\n",
       "      <td>0</td>\n",
       "      <td>1</td>\n",
       "    </tr>\n",
       "    <tr>\n",
       "      <th>4</th>\n",
       "      <td>1</td>\n",
       "      <td>1</td>\n",
       "      <td>1</td>\n",
       "      <td>45</td>\n",
       "      <td>3.0</td>\n",
       "      <td>2</td>\n",
       "      <td>0</td>\n",
       "      <td>73</td>\n",
       "      <td>0</td>\n",
       "      <td>0</td>\n",
       "      <td>...</td>\n",
       "      <td>0</td>\n",
       "      <td>0</td>\n",
       "      <td>0</td>\n",
       "      <td>0</td>\n",
       "      <td>0</td>\n",
       "      <td>0</td>\n",
       "      <td>0</td>\n",
       "      <td>1</td>\n",
       "      <td>0</td>\n",
       "      <td>1</td>\n",
       "    </tr>\n",
       "  </tbody>\n",
       "</table>\n",
       "<p>5 rows × 53 columns</p>\n",
       "</div>"
      ],
      "text/plain": [
       "   education  gender  no_of_trainings  age  previous_year_rating  \\\n",
       "0          2       0                1   35                   5.0   \n",
       "1          1       1                1   30                   5.0   \n",
       "2          1       1                1   34                   3.0   \n",
       "3          1       1                2   39                   1.0   \n",
       "4          1       1                1   45                   3.0   \n",
       "\n",
       "   length_of_service  KPIs_met >80%  avg_training_score  department_Analytics  \\\n",
       "0                  8              1                  49                     0   \n",
       "1                  4              0                  60                     0   \n",
       "2                  7              0                  50                     0   \n",
       "3                 10              0                  50                     0   \n",
       "4                  2              0                  73                     0   \n",
       "\n",
       "   department_Finance  ...  region_region_33  region_region_34  \\\n",
       "0                   0  ...                 0                 0   \n",
       "1                   0  ...                 0                 0   \n",
       "2                   0  ...                 0                 0   \n",
       "3                   0  ...                 0                 0   \n",
       "4                   0  ...                 0                 0   \n",
       "\n",
       "   region_region_4  region_region_5  region_region_6  region_region_7  \\\n",
       "0                0                0                0                1   \n",
       "1                0                0                0                0   \n",
       "2                0                0                0                0   \n",
       "3                0                0                0                0   \n",
       "4                0                0                0                0   \n",
       "\n",
       "   region_region_8  recruitment_channel_other  recruitment_channel_referred  \\\n",
       "0                0                          0                             0   \n",
       "1                0                          1                             0   \n",
       "2                0                          0                             0   \n",
       "3                0                          1                             0   \n",
       "4                0                          1                             0   \n",
       "\n",
       "   awards_won?_0  \n",
       "0              1  \n",
       "1              1  \n",
       "2              1  \n",
       "3              1  \n",
       "4              1  \n",
       "\n",
       "[5 rows x 53 columns]"
      ]
     },
     "execution_count": 242,
     "metadata": {},
     "output_type": "execute_result"
    }
   ],
   "source": [
    "X.head()"
   ]
  },
  {
   "cell_type": "code",
   "execution_count": 243,
   "id": "f120c566",
   "metadata": {},
   "outputs": [
    {
     "data": {
      "text/html": [
       "<div>\n",
       "<style scoped>\n",
       "    .dataframe tbody tr th:only-of-type {\n",
       "        vertical-align: middle;\n",
       "    }\n",
       "\n",
       "    .dataframe tbody tr th {\n",
       "        vertical-align: top;\n",
       "    }\n",
       "\n",
       "    .dataframe thead th {\n",
       "        text-align: right;\n",
       "    }\n",
       "</style>\n",
       "<table border=\"1\" class=\"dataframe\">\n",
       "  <thead>\n",
       "    <tr style=\"text-align: right;\">\n",
       "      <th></th>\n",
       "      <th>is_promoted</th>\n",
       "    </tr>\n",
       "  </thead>\n",
       "  <tbody>\n",
       "    <tr>\n",
       "      <th>0</th>\n",
       "      <td>0</td>\n",
       "    </tr>\n",
       "    <tr>\n",
       "      <th>1</th>\n",
       "      <td>0</td>\n",
       "    </tr>\n",
       "    <tr>\n",
       "      <th>2</th>\n",
       "      <td>0</td>\n",
       "    </tr>\n",
       "    <tr>\n",
       "      <th>3</th>\n",
       "      <td>0</td>\n",
       "    </tr>\n",
       "    <tr>\n",
       "      <th>4</th>\n",
       "      <td>0</td>\n",
       "    </tr>\n",
       "  </tbody>\n",
       "</table>\n",
       "</div>"
      ],
      "text/plain": [
       "   is_promoted\n",
       "0            0\n",
       "1            0\n",
       "2            0\n",
       "3            0\n",
       "4            0"
      ]
     },
     "execution_count": 243,
     "metadata": {},
     "output_type": "execute_result"
    }
   ],
   "source": [
    "y.head()"
   ]
  },
  {
   "cell_type": "code",
   "execution_count": 267,
   "id": "1afa8152",
   "metadata": {},
   "outputs": [],
   "source": [
    "test=pd.read_csv(\"hr_test.csv\")"
   ]
  },
  {
   "cell_type": "code",
   "execution_count": 268,
   "id": "851fcbea",
   "metadata": {},
   "outputs": [
    {
     "data": {
      "text/html": [
       "<div>\n",
       "<style scoped>\n",
       "    .dataframe tbody tr th:only-of-type {\n",
       "        vertical-align: middle;\n",
       "    }\n",
       "\n",
       "    .dataframe tbody tr th {\n",
       "        vertical-align: top;\n",
       "    }\n",
       "\n",
       "    .dataframe thead th {\n",
       "        text-align: right;\n",
       "    }\n",
       "</style>\n",
       "<table border=\"1\" class=\"dataframe\">\n",
       "  <thead>\n",
       "    <tr style=\"text-align: right;\">\n",
       "      <th></th>\n",
       "      <th>employee_id</th>\n",
       "      <th>department</th>\n",
       "      <th>region</th>\n",
       "      <th>education</th>\n",
       "      <th>gender</th>\n",
       "      <th>recruitment_channel</th>\n",
       "      <th>no_of_trainings</th>\n",
       "      <th>age</th>\n",
       "      <th>previous_year_rating</th>\n",
       "      <th>length_of_service</th>\n",
       "      <th>KPIs_met &gt;80%</th>\n",
       "      <th>awards_won?</th>\n",
       "      <th>avg_training_score</th>\n",
       "    </tr>\n",
       "  </thead>\n",
       "  <tbody>\n",
       "    <tr>\n",
       "      <th>0</th>\n",
       "      <td>8724</td>\n",
       "      <td>Technology</td>\n",
       "      <td>region_26</td>\n",
       "      <td>Bachelor's</td>\n",
       "      <td>m</td>\n",
       "      <td>sourcing</td>\n",
       "      <td>1</td>\n",
       "      <td>24</td>\n",
       "      <td>NaN</td>\n",
       "      <td>1</td>\n",
       "      <td>1</td>\n",
       "      <td>0</td>\n",
       "      <td>77</td>\n",
       "    </tr>\n",
       "    <tr>\n",
       "      <th>1</th>\n",
       "      <td>74430</td>\n",
       "      <td>HR</td>\n",
       "      <td>region_4</td>\n",
       "      <td>Bachelor's</td>\n",
       "      <td>f</td>\n",
       "      <td>other</td>\n",
       "      <td>1</td>\n",
       "      <td>31</td>\n",
       "      <td>3.0</td>\n",
       "      <td>5</td>\n",
       "      <td>0</td>\n",
       "      <td>0</td>\n",
       "      <td>51</td>\n",
       "    </tr>\n",
       "    <tr>\n",
       "      <th>2</th>\n",
       "      <td>72255</td>\n",
       "      <td>Sales &amp; Marketing</td>\n",
       "      <td>region_13</td>\n",
       "      <td>Bachelor's</td>\n",
       "      <td>m</td>\n",
       "      <td>other</td>\n",
       "      <td>1</td>\n",
       "      <td>31</td>\n",
       "      <td>1.0</td>\n",
       "      <td>4</td>\n",
       "      <td>0</td>\n",
       "      <td>0</td>\n",
       "      <td>47</td>\n",
       "    </tr>\n",
       "    <tr>\n",
       "      <th>3</th>\n",
       "      <td>38562</td>\n",
       "      <td>Procurement</td>\n",
       "      <td>region_2</td>\n",
       "      <td>Bachelor's</td>\n",
       "      <td>f</td>\n",
       "      <td>other</td>\n",
       "      <td>3</td>\n",
       "      <td>31</td>\n",
       "      <td>2.0</td>\n",
       "      <td>9</td>\n",
       "      <td>0</td>\n",
       "      <td>0</td>\n",
       "      <td>65</td>\n",
       "    </tr>\n",
       "    <tr>\n",
       "      <th>4</th>\n",
       "      <td>64486</td>\n",
       "      <td>Finance</td>\n",
       "      <td>region_29</td>\n",
       "      <td>Bachelor's</td>\n",
       "      <td>m</td>\n",
       "      <td>sourcing</td>\n",
       "      <td>1</td>\n",
       "      <td>30</td>\n",
       "      <td>4.0</td>\n",
       "      <td>7</td>\n",
       "      <td>0</td>\n",
       "      <td>0</td>\n",
       "      <td>61</td>\n",
       "    </tr>\n",
       "  </tbody>\n",
       "</table>\n",
       "</div>"
      ],
      "text/plain": [
       "   employee_id         department     region   education gender  \\\n",
       "0         8724         Technology  region_26  Bachelor's      m   \n",
       "1        74430                 HR   region_4  Bachelor's      f   \n",
       "2        72255  Sales & Marketing  region_13  Bachelor's      m   \n",
       "3        38562        Procurement   region_2  Bachelor's      f   \n",
       "4        64486            Finance  region_29  Bachelor's      m   \n",
       "\n",
       "  recruitment_channel  no_of_trainings  age  previous_year_rating  \\\n",
       "0            sourcing                1   24                   NaN   \n",
       "1               other                1   31                   3.0   \n",
       "2               other                1   31                   1.0   \n",
       "3               other                3   31                   2.0   \n",
       "4            sourcing                1   30                   4.0   \n",
       "\n",
       "   length_of_service  KPIs_met >80%  awards_won?  avg_training_score  \n",
       "0                  1              1            0                  77  \n",
       "1                  5              0            0                  51  \n",
       "2                  4              0            0                  47  \n",
       "3                  9              0            0                  65  \n",
       "4                  7              0            0                  61  "
      ]
     },
     "execution_count": 268,
     "metadata": {},
     "output_type": "execute_result"
    }
   ],
   "source": [
    "test.head()"
   ]
  },
  {
   "cell_type": "code",
   "execution_count": 269,
   "id": "b83ee770",
   "metadata": {},
   "outputs": [],
   "source": [
    "test[[\"previous_year_rating\",\"awards_won?\"]]=test[[\"previous_year_rating\",\"awards_won?\"]].astype(object)"
   ]
  },
  {
   "cell_type": "code",
   "execution_count": 270,
   "id": "2456821c",
   "metadata": {},
   "outputs": [],
   "source": [
    "test[\"education\"].fillna(df[\"education\"].mode()[0],inplace=True)\n",
    "test[\"previous_year_rating\"].fillna(df[\"previous_year_rating\"].mode()[0],inplace=True)"
   ]
  },
  {
   "cell_type": "code",
   "execution_count": 271,
   "id": "7bed3caf",
   "metadata": {},
   "outputs": [],
   "source": [
    "test['gender']= le.fit_transform(test['gender'])"
   ]
  },
  {
   "cell_type": "code",
   "execution_count": 272,
   "id": "dc5774bb",
   "metadata": {},
   "outputs": [],
   "source": [
    "\n",
    "test[\"education\"]=test[\"education\"].map(edu_dict)"
   ]
  },
  {
   "cell_type": "code",
   "execution_count": 273,
   "id": "234f0b04",
   "metadata": {},
   "outputs": [],
   "source": [
    "test=pd.get_dummies(test)"
   ]
  },
  {
   "cell_type": "code",
   "execution_count": 274,
   "id": "f265fd28",
   "metadata": {},
   "outputs": [
    {
     "data": {
      "text/plain": [
       "(23490, 57)"
      ]
     },
     "execution_count": 274,
     "metadata": {},
     "output_type": "execute_result"
    }
   ],
   "source": [
    "test.shape"
   ]
  },
  {
   "cell_type": "code",
   "execution_count": 275,
   "id": "e16bac9a",
   "metadata": {},
   "outputs": [
    {
     "data": {
      "text/html": [
       "<div>\n",
       "<style scoped>\n",
       "    .dataframe tbody tr th:only-of-type {\n",
       "        vertical-align: middle;\n",
       "    }\n",
       "\n",
       "    .dataframe tbody tr th {\n",
       "        vertical-align: top;\n",
       "    }\n",
       "\n",
       "    .dataframe thead th {\n",
       "        text-align: right;\n",
       "    }\n",
       "</style>\n",
       "<table border=\"1\" class=\"dataframe\">\n",
       "  <thead>\n",
       "    <tr style=\"text-align: right;\">\n",
       "      <th></th>\n",
       "      <th>employee_id</th>\n",
       "      <th>education</th>\n",
       "      <th>gender</th>\n",
       "      <th>no_of_trainings</th>\n",
       "      <th>age</th>\n",
       "      <th>previous_year_rating</th>\n",
       "      <th>length_of_service</th>\n",
       "      <th>KPIs_met &gt;80%</th>\n",
       "      <th>avg_training_score</th>\n",
       "      <th>department_Analytics</th>\n",
       "      <th>...</th>\n",
       "      <th>region_region_5</th>\n",
       "      <th>region_region_6</th>\n",
       "      <th>region_region_7</th>\n",
       "      <th>region_region_8</th>\n",
       "      <th>region_region_9</th>\n",
       "      <th>recruitment_channel_other</th>\n",
       "      <th>recruitment_channel_referred</th>\n",
       "      <th>recruitment_channel_sourcing</th>\n",
       "      <th>awards_won?_0</th>\n",
       "      <th>awards_won?_1</th>\n",
       "    </tr>\n",
       "  </thead>\n",
       "  <tbody>\n",
       "    <tr>\n",
       "      <th>0</th>\n",
       "      <td>8724</td>\n",
       "      <td>1</td>\n",
       "      <td>1</td>\n",
       "      <td>1</td>\n",
       "      <td>24</td>\n",
       "      <td>3.0</td>\n",
       "      <td>1</td>\n",
       "      <td>1</td>\n",
       "      <td>77</td>\n",
       "      <td>0</td>\n",
       "      <td>...</td>\n",
       "      <td>0</td>\n",
       "      <td>0</td>\n",
       "      <td>0</td>\n",
       "      <td>0</td>\n",
       "      <td>0</td>\n",
       "      <td>0</td>\n",
       "      <td>0</td>\n",
       "      <td>1</td>\n",
       "      <td>1</td>\n",
       "      <td>0</td>\n",
       "    </tr>\n",
       "    <tr>\n",
       "      <th>1</th>\n",
       "      <td>74430</td>\n",
       "      <td>1</td>\n",
       "      <td>0</td>\n",
       "      <td>1</td>\n",
       "      <td>31</td>\n",
       "      <td>3.0</td>\n",
       "      <td>5</td>\n",
       "      <td>0</td>\n",
       "      <td>51</td>\n",
       "      <td>0</td>\n",
       "      <td>...</td>\n",
       "      <td>0</td>\n",
       "      <td>0</td>\n",
       "      <td>0</td>\n",
       "      <td>0</td>\n",
       "      <td>0</td>\n",
       "      <td>1</td>\n",
       "      <td>0</td>\n",
       "      <td>0</td>\n",
       "      <td>1</td>\n",
       "      <td>0</td>\n",
       "    </tr>\n",
       "    <tr>\n",
       "      <th>2</th>\n",
       "      <td>72255</td>\n",
       "      <td>1</td>\n",
       "      <td>1</td>\n",
       "      <td>1</td>\n",
       "      <td>31</td>\n",
       "      <td>1.0</td>\n",
       "      <td>4</td>\n",
       "      <td>0</td>\n",
       "      <td>47</td>\n",
       "      <td>0</td>\n",
       "      <td>...</td>\n",
       "      <td>0</td>\n",
       "      <td>0</td>\n",
       "      <td>0</td>\n",
       "      <td>0</td>\n",
       "      <td>0</td>\n",
       "      <td>1</td>\n",
       "      <td>0</td>\n",
       "      <td>0</td>\n",
       "      <td>1</td>\n",
       "      <td>0</td>\n",
       "    </tr>\n",
       "    <tr>\n",
       "      <th>3</th>\n",
       "      <td>38562</td>\n",
       "      <td>1</td>\n",
       "      <td>0</td>\n",
       "      <td>3</td>\n",
       "      <td>31</td>\n",
       "      <td>2.0</td>\n",
       "      <td>9</td>\n",
       "      <td>0</td>\n",
       "      <td>65</td>\n",
       "      <td>0</td>\n",
       "      <td>...</td>\n",
       "      <td>0</td>\n",
       "      <td>0</td>\n",
       "      <td>0</td>\n",
       "      <td>0</td>\n",
       "      <td>0</td>\n",
       "      <td>1</td>\n",
       "      <td>0</td>\n",
       "      <td>0</td>\n",
       "      <td>1</td>\n",
       "      <td>0</td>\n",
       "    </tr>\n",
       "    <tr>\n",
       "      <th>4</th>\n",
       "      <td>64486</td>\n",
       "      <td>1</td>\n",
       "      <td>1</td>\n",
       "      <td>1</td>\n",
       "      <td>30</td>\n",
       "      <td>4.0</td>\n",
       "      <td>7</td>\n",
       "      <td>0</td>\n",
       "      <td>61</td>\n",
       "      <td>0</td>\n",
       "      <td>...</td>\n",
       "      <td>0</td>\n",
       "      <td>0</td>\n",
       "      <td>0</td>\n",
       "      <td>0</td>\n",
       "      <td>0</td>\n",
       "      <td>0</td>\n",
       "      <td>0</td>\n",
       "      <td>1</td>\n",
       "      <td>1</td>\n",
       "      <td>0</td>\n",
       "    </tr>\n",
       "  </tbody>\n",
       "</table>\n",
       "<p>5 rows × 57 columns</p>\n",
       "</div>"
      ],
      "text/plain": [
       "   employee_id  education  gender  no_of_trainings  age  previous_year_rating  \\\n",
       "0         8724          1       1                1   24                   3.0   \n",
       "1        74430          1       0                1   31                   3.0   \n",
       "2        72255          1       1                1   31                   1.0   \n",
       "3        38562          1       0                3   31                   2.0   \n",
       "4        64486          1       1                1   30                   4.0   \n",
       "\n",
       "   length_of_service  KPIs_met >80%  avg_training_score  department_Analytics  \\\n",
       "0                  1              1                  77                     0   \n",
       "1                  5              0                  51                     0   \n",
       "2                  4              0                  47                     0   \n",
       "3                  9              0                  65                     0   \n",
       "4                  7              0                  61                     0   \n",
       "\n",
       "   ...  region_region_5  region_region_6  region_region_7  region_region_8  \\\n",
       "0  ...                0                0                0                0   \n",
       "1  ...                0                0                0                0   \n",
       "2  ...                0                0                0                0   \n",
       "3  ...                0                0                0                0   \n",
       "4  ...                0                0                0                0   \n",
       "\n",
       "   region_region_9  recruitment_channel_other  recruitment_channel_referred  \\\n",
       "0                0                          0                             0   \n",
       "1                0                          1                             0   \n",
       "2                0                          1                             0   \n",
       "3                0                          1                             0   \n",
       "4                0                          0                             0   \n",
       "\n",
       "   recruitment_channel_sourcing  awards_won?_0  awards_won?_1  \n",
       "0                             1              1              0  \n",
       "1                             0              1              0  \n",
       "2                             0              1              0  \n",
       "3                             0              1              0  \n",
       "4                             1              1              0  \n",
       "\n",
       "[5 rows x 57 columns]"
      ]
     },
     "execution_count": 275,
     "metadata": {},
     "output_type": "execute_result"
    }
   ],
   "source": [
    "test.head()"
   ]
  },
  {
   "cell_type": "code",
   "execution_count": 276,
   "id": "d3e63997",
   "metadata": {},
   "outputs": [],
   "source": [
    "test.drop([\"recruitment_channel_sourcing\",\"region_region_9\",\"awards_won?_1\"],axis=1,inplace=True)"
   ]
  },
  {
   "cell_type": "code",
   "execution_count": 277,
   "id": "4962c87e",
   "metadata": {},
   "outputs": [
    {
     "data": {
      "text/plain": [
       "(23490, 54)"
      ]
     },
     "execution_count": 277,
     "metadata": {},
     "output_type": "execute_result"
    }
   ],
   "source": [
    "test.shape"
   ]
  },
  {
   "cell_type": "code",
   "execution_count": 279,
   "id": "ae73af47",
   "metadata": {},
   "outputs": [],
   "source": [
    "test=pd.merge(test,sample)"
   ]
  },
  {
   "cell_type": "code",
   "execution_count": 280,
   "id": "0adc13b2",
   "metadata": {},
   "outputs": [
    {
     "data": {
      "text/html": [
       "<div>\n",
       "<style scoped>\n",
       "    .dataframe tbody tr th:only-of-type {\n",
       "        vertical-align: middle;\n",
       "    }\n",
       "\n",
       "    .dataframe tbody tr th {\n",
       "        vertical-align: top;\n",
       "    }\n",
       "\n",
       "    .dataframe thead th {\n",
       "        text-align: right;\n",
       "    }\n",
       "</style>\n",
       "<table border=\"1\" class=\"dataframe\">\n",
       "  <thead>\n",
       "    <tr style=\"text-align: right;\">\n",
       "      <th></th>\n",
       "      <th>employee_id</th>\n",
       "      <th>education</th>\n",
       "      <th>gender</th>\n",
       "      <th>no_of_trainings</th>\n",
       "      <th>age</th>\n",
       "      <th>previous_year_rating</th>\n",
       "      <th>length_of_service</th>\n",
       "      <th>KPIs_met &gt;80%</th>\n",
       "      <th>avg_training_score</th>\n",
       "      <th>department_Analytics</th>\n",
       "      <th>...</th>\n",
       "      <th>region_region_34</th>\n",
       "      <th>region_region_4</th>\n",
       "      <th>region_region_5</th>\n",
       "      <th>region_region_6</th>\n",
       "      <th>region_region_7</th>\n",
       "      <th>region_region_8</th>\n",
       "      <th>recruitment_channel_other</th>\n",
       "      <th>recruitment_channel_referred</th>\n",
       "      <th>awards_won?_0</th>\n",
       "      <th>is_promoted</th>\n",
       "    </tr>\n",
       "  </thead>\n",
       "  <tbody>\n",
       "    <tr>\n",
       "      <th>0</th>\n",
       "      <td>8724</td>\n",
       "      <td>1</td>\n",
       "      <td>1</td>\n",
       "      <td>1</td>\n",
       "      <td>24</td>\n",
       "      <td>3.0</td>\n",
       "      <td>1</td>\n",
       "      <td>1</td>\n",
       "      <td>77</td>\n",
       "      <td>0</td>\n",
       "      <td>...</td>\n",
       "      <td>0</td>\n",
       "      <td>0</td>\n",
       "      <td>0</td>\n",
       "      <td>0</td>\n",
       "      <td>0</td>\n",
       "      <td>0</td>\n",
       "      <td>0</td>\n",
       "      <td>0</td>\n",
       "      <td>1</td>\n",
       "      <td>0</td>\n",
       "    </tr>\n",
       "    <tr>\n",
       "      <th>1</th>\n",
       "      <td>74430</td>\n",
       "      <td>1</td>\n",
       "      <td>0</td>\n",
       "      <td>1</td>\n",
       "      <td>31</td>\n",
       "      <td>3.0</td>\n",
       "      <td>5</td>\n",
       "      <td>0</td>\n",
       "      <td>51</td>\n",
       "      <td>0</td>\n",
       "      <td>...</td>\n",
       "      <td>0</td>\n",
       "      <td>1</td>\n",
       "      <td>0</td>\n",
       "      <td>0</td>\n",
       "      <td>0</td>\n",
       "      <td>0</td>\n",
       "      <td>1</td>\n",
       "      <td>0</td>\n",
       "      <td>1</td>\n",
       "      <td>0</td>\n",
       "    </tr>\n",
       "    <tr>\n",
       "      <th>2</th>\n",
       "      <td>72255</td>\n",
       "      <td>1</td>\n",
       "      <td>1</td>\n",
       "      <td>1</td>\n",
       "      <td>31</td>\n",
       "      <td>1.0</td>\n",
       "      <td>4</td>\n",
       "      <td>0</td>\n",
       "      <td>47</td>\n",
       "      <td>0</td>\n",
       "      <td>...</td>\n",
       "      <td>0</td>\n",
       "      <td>0</td>\n",
       "      <td>0</td>\n",
       "      <td>0</td>\n",
       "      <td>0</td>\n",
       "      <td>0</td>\n",
       "      <td>1</td>\n",
       "      <td>0</td>\n",
       "      <td>1</td>\n",
       "      <td>0</td>\n",
       "    </tr>\n",
       "    <tr>\n",
       "      <th>3</th>\n",
       "      <td>38562</td>\n",
       "      <td>1</td>\n",
       "      <td>0</td>\n",
       "      <td>3</td>\n",
       "      <td>31</td>\n",
       "      <td>2.0</td>\n",
       "      <td>9</td>\n",
       "      <td>0</td>\n",
       "      <td>65</td>\n",
       "      <td>0</td>\n",
       "      <td>...</td>\n",
       "      <td>0</td>\n",
       "      <td>0</td>\n",
       "      <td>0</td>\n",
       "      <td>0</td>\n",
       "      <td>0</td>\n",
       "      <td>0</td>\n",
       "      <td>1</td>\n",
       "      <td>0</td>\n",
       "      <td>1</td>\n",
       "      <td>0</td>\n",
       "    </tr>\n",
       "    <tr>\n",
       "      <th>4</th>\n",
       "      <td>64486</td>\n",
       "      <td>1</td>\n",
       "      <td>1</td>\n",
       "      <td>1</td>\n",
       "      <td>30</td>\n",
       "      <td>4.0</td>\n",
       "      <td>7</td>\n",
       "      <td>0</td>\n",
       "      <td>61</td>\n",
       "      <td>0</td>\n",
       "      <td>...</td>\n",
       "      <td>0</td>\n",
       "      <td>0</td>\n",
       "      <td>0</td>\n",
       "      <td>0</td>\n",
       "      <td>0</td>\n",
       "      <td>0</td>\n",
       "      <td>0</td>\n",
       "      <td>0</td>\n",
       "      <td>1</td>\n",
       "      <td>0</td>\n",
       "    </tr>\n",
       "    <tr>\n",
       "      <th>...</th>\n",
       "      <td>...</td>\n",
       "      <td>...</td>\n",
       "      <td>...</td>\n",
       "      <td>...</td>\n",
       "      <td>...</td>\n",
       "      <td>...</td>\n",
       "      <td>...</td>\n",
       "      <td>...</td>\n",
       "      <td>...</td>\n",
       "      <td>...</td>\n",
       "      <td>...</td>\n",
       "      <td>...</td>\n",
       "      <td>...</td>\n",
       "      <td>...</td>\n",
       "      <td>...</td>\n",
       "      <td>...</td>\n",
       "      <td>...</td>\n",
       "      <td>...</td>\n",
       "      <td>...</td>\n",
       "      <td>...</td>\n",
       "      <td>...</td>\n",
       "    </tr>\n",
       "    <tr>\n",
       "      <th>23485</th>\n",
       "      <td>53478</td>\n",
       "      <td>0</td>\n",
       "      <td>1</td>\n",
       "      <td>1</td>\n",
       "      <td>24</td>\n",
       "      <td>3.0</td>\n",
       "      <td>1</td>\n",
       "      <td>0</td>\n",
       "      <td>61</td>\n",
       "      <td>0</td>\n",
       "      <td>...</td>\n",
       "      <td>0</td>\n",
       "      <td>0</td>\n",
       "      <td>0</td>\n",
       "      <td>0</td>\n",
       "      <td>0</td>\n",
       "      <td>0</td>\n",
       "      <td>0</td>\n",
       "      <td>0</td>\n",
       "      <td>1</td>\n",
       "      <td>0</td>\n",
       "    </tr>\n",
       "    <tr>\n",
       "      <th>23486</th>\n",
       "      <td>25600</td>\n",
       "      <td>1</td>\n",
       "      <td>1</td>\n",
       "      <td>1</td>\n",
       "      <td>31</td>\n",
       "      <td>3.0</td>\n",
       "      <td>7</td>\n",
       "      <td>0</td>\n",
       "      <td>74</td>\n",
       "      <td>0</td>\n",
       "      <td>...</td>\n",
       "      <td>0</td>\n",
       "      <td>0</td>\n",
       "      <td>0</td>\n",
       "      <td>0</td>\n",
       "      <td>0</td>\n",
       "      <td>0</td>\n",
       "      <td>0</td>\n",
       "      <td>0</td>\n",
       "      <td>1</td>\n",
       "      <td>0</td>\n",
       "    </tr>\n",
       "    <tr>\n",
       "      <th>23487</th>\n",
       "      <td>45409</td>\n",
       "      <td>1</td>\n",
       "      <td>0</td>\n",
       "      <td>1</td>\n",
       "      <td>26</td>\n",
       "      <td>4.0</td>\n",
       "      <td>4</td>\n",
       "      <td>0</td>\n",
       "      <td>50</td>\n",
       "      <td>0</td>\n",
       "      <td>...</td>\n",
       "      <td>0</td>\n",
       "      <td>0</td>\n",
       "      <td>0</td>\n",
       "      <td>0</td>\n",
       "      <td>0</td>\n",
       "      <td>0</td>\n",
       "      <td>0</td>\n",
       "      <td>0</td>\n",
       "      <td>1</td>\n",
       "      <td>0</td>\n",
       "    </tr>\n",
       "    <tr>\n",
       "      <th>23488</th>\n",
       "      <td>1186</td>\n",
       "      <td>1</td>\n",
       "      <td>1</td>\n",
       "      <td>3</td>\n",
       "      <td>27</td>\n",
       "      <td>3.0</td>\n",
       "      <td>1</td>\n",
       "      <td>0</td>\n",
       "      <td>70</td>\n",
       "      <td>0</td>\n",
       "      <td>...</td>\n",
       "      <td>0</td>\n",
       "      <td>0</td>\n",
       "      <td>0</td>\n",
       "      <td>0</td>\n",
       "      <td>0</td>\n",
       "      <td>0</td>\n",
       "      <td>0</td>\n",
       "      <td>0</td>\n",
       "      <td>1</td>\n",
       "      <td>0</td>\n",
       "    </tr>\n",
       "    <tr>\n",
       "      <th>23489</th>\n",
       "      <td>5973</td>\n",
       "      <td>2</td>\n",
       "      <td>1</td>\n",
       "      <td>3</td>\n",
       "      <td>40</td>\n",
       "      <td>5.0</td>\n",
       "      <td>5</td>\n",
       "      <td>1</td>\n",
       "      <td>89</td>\n",
       "      <td>0</td>\n",
       "      <td>...</td>\n",
       "      <td>0</td>\n",
       "      <td>0</td>\n",
       "      <td>0</td>\n",
       "      <td>0</td>\n",
       "      <td>0</td>\n",
       "      <td>0</td>\n",
       "      <td>1</td>\n",
       "      <td>0</td>\n",
       "      <td>1</td>\n",
       "      <td>0</td>\n",
       "    </tr>\n",
       "  </tbody>\n",
       "</table>\n",
       "<p>23490 rows × 55 columns</p>\n",
       "</div>"
      ],
      "text/plain": [
       "       employee_id  education  gender  no_of_trainings  age  \\\n",
       "0             8724          1       1                1   24   \n",
       "1            74430          1       0                1   31   \n",
       "2            72255          1       1                1   31   \n",
       "3            38562          1       0                3   31   \n",
       "4            64486          1       1                1   30   \n",
       "...            ...        ...     ...              ...  ...   \n",
       "23485        53478          0       1                1   24   \n",
       "23486        25600          1       1                1   31   \n",
       "23487        45409          1       0                1   26   \n",
       "23488         1186          1       1                3   27   \n",
       "23489         5973          2       1                3   40   \n",
       "\n",
       "       previous_year_rating  length_of_service  KPIs_met >80%  \\\n",
       "0                       3.0                  1              1   \n",
       "1                       3.0                  5              0   \n",
       "2                       1.0                  4              0   \n",
       "3                       2.0                  9              0   \n",
       "4                       4.0                  7              0   \n",
       "...                     ...                ...            ...   \n",
       "23485                   3.0                  1              0   \n",
       "23486                   3.0                  7              0   \n",
       "23487                   4.0                  4              0   \n",
       "23488                   3.0                  1              0   \n",
       "23489                   5.0                  5              1   \n",
       "\n",
       "       avg_training_score  department_Analytics  ...  region_region_34  \\\n",
       "0                      77                     0  ...                 0   \n",
       "1                      51                     0  ...                 0   \n",
       "2                      47                     0  ...                 0   \n",
       "3                      65                     0  ...                 0   \n",
       "4                      61                     0  ...                 0   \n",
       "...                   ...                   ...  ...               ...   \n",
       "23485                  61                     0  ...                 0   \n",
       "23486                  74                     0  ...                 0   \n",
       "23487                  50                     0  ...                 0   \n",
       "23488                  70                     0  ...                 0   \n",
       "23489                  89                     0  ...                 0   \n",
       "\n",
       "       region_region_4  region_region_5  region_region_6  region_region_7  \\\n",
       "0                    0                0                0                0   \n",
       "1                    1                0                0                0   \n",
       "2                    0                0                0                0   \n",
       "3                    0                0                0                0   \n",
       "4                    0                0                0                0   \n",
       "...                ...              ...              ...              ...   \n",
       "23485                0                0                0                0   \n",
       "23486                0                0                0                0   \n",
       "23487                0                0                0                0   \n",
       "23488                0                0                0                0   \n",
       "23489                0                0                0                0   \n",
       "\n",
       "       region_region_8  recruitment_channel_other  \\\n",
       "0                    0                          0   \n",
       "1                    0                          1   \n",
       "2                    0                          1   \n",
       "3                    0                          1   \n",
       "4                    0                          0   \n",
       "...                ...                        ...   \n",
       "23485                0                          0   \n",
       "23486                0                          0   \n",
       "23487                0                          0   \n",
       "23488                0                          0   \n",
       "23489                0                          1   \n",
       "\n",
       "       recruitment_channel_referred  awards_won?_0  is_promoted  \n",
       "0                                 0              1            0  \n",
       "1                                 0              1            0  \n",
       "2                                 0              1            0  \n",
       "3                                 0              1            0  \n",
       "4                                 0              1            0  \n",
       "...                             ...            ...          ...  \n",
       "23485                             0              1            0  \n",
       "23486                             0              1            0  \n",
       "23487                             0              1            0  \n",
       "23488                             0              1            0  \n",
       "23489                             0              1            0  \n",
       "\n",
       "[23490 rows x 55 columns]"
      ]
     },
     "execution_count": 280,
     "metadata": {},
     "output_type": "execute_result"
    }
   ],
   "source": [
    "test"
   ]
  },
  {
   "cell_type": "code",
   "execution_count": 321,
   "id": "c68128f4",
   "metadata": {},
   "outputs": [],
   "source": [
    "test_X=test.drop([\"is_promoted\",\"employee_id\"],axis=1)"
   ]
  },
  {
   "cell_type": "code",
   "execution_count": 322,
   "id": "251235b4",
   "metadata": {},
   "outputs": [
    {
     "data": {
      "text/plain": [
       "(23490, 53)"
      ]
     },
     "execution_count": 322,
     "metadata": {},
     "output_type": "execute_result"
    }
   ],
   "source": [
    "test_X.shape"
   ]
  },
  {
   "cell_type": "code",
   "execution_count": 287,
   "id": "f37bc14b",
   "metadata": {},
   "outputs": [],
   "source": [
    "test_y=test[[\"is_promoted\"]]"
   ]
  },
  {
   "cell_type": "code",
   "execution_count": 288,
   "id": "3cc436fb",
   "metadata": {},
   "outputs": [],
   "source": [
    "from sklearn.model_selection import train_test_split"
   ]
  },
  {
   "cell_type": "code",
   "execution_count": 289,
   "id": "2027cb2d",
   "metadata": {},
   "outputs": [],
   "source": [
    "X_train, X_test, y_train, y_test = train_test_split(X, y, test_size = 0.7,random_state=42)"
   ]
  },
  {
   "cell_type": "code",
   "execution_count": 290,
   "id": "8c7156ee",
   "metadata": {},
   "outputs": [],
   "source": [
    "from imblearn.combine import SMOTETomek"
   ]
  },
  {
   "cell_type": "code",
   "execution_count": 291,
   "id": "8dcbf46c",
   "metadata": {},
   "outputs": [],
   "source": [
    "os=SMOTETomek()"
   ]
  },
  {
   "cell_type": "code",
   "execution_count": 292,
   "id": "ae24d724",
   "metadata": {},
   "outputs": [],
   "source": [
    "X_res, y_res = os.fit_resample(X_train, y_train)"
   ]
  },
  {
   "cell_type": "code",
   "execution_count": 293,
   "id": "4a3a7bfa",
   "metadata": {},
   "outputs": [
    {
     "data": {
      "text/plain": [
       "pandas.core.frame.DataFrame"
      ]
     },
     "execution_count": 293,
     "metadata": {},
     "output_type": "execute_result"
    }
   ],
   "source": [
    "type(y_res)"
   ]
  },
  {
   "cell_type": "code",
   "execution_count": 294,
   "id": "70e893a5",
   "metadata": {},
   "outputs": [],
   "source": [
    "a=y_res.to_numpy()"
   ]
  },
  {
   "cell_type": "code",
   "execution_count": 295,
   "id": "5749581f",
   "metadata": {},
   "outputs": [
    {
     "data": {
      "text/plain": [
       "numpy.ndarray"
      ]
     },
     "execution_count": 295,
     "metadata": {},
     "output_type": "execute_result"
    }
   ],
   "source": [
    "type(a)"
   ]
  },
  {
   "cell_type": "code",
   "execution_count": 296,
   "id": "6cd6b30d",
   "metadata": {},
   "outputs": [
    {
     "data": {
      "text/plain": [
       "29942"
      ]
     },
     "execution_count": 296,
     "metadata": {},
     "output_type": "execute_result"
    }
   ],
   "source": [
    "len(y_res)"
   ]
  },
  {
   "cell_type": "code",
   "execution_count": 298,
   "id": "60f7e98a",
   "metadata": {},
   "outputs": [],
   "source": [
    "y_res=a.reshape(29942,)"
   ]
  },
  {
   "cell_type": "code",
   "execution_count": 299,
   "id": "266c1cab",
   "metadata": {},
   "outputs": [],
   "source": [
    "from sklearn.model_selection import RandomizedSearchCV"
   ]
  },
  {
   "cell_type": "code",
   "execution_count": 300,
   "id": "4df7d7f4",
   "metadata": {},
   "outputs": [],
   "source": [
    "from sklearn.linear_model import LogisticRegression"
   ]
  },
  {
   "cell_type": "code",
   "execution_count": 301,
   "id": "99f99e15",
   "metadata": {},
   "outputs": [],
   "source": [
    "lr=LogisticRegression()"
   ]
  },
  {
   "cell_type": "code",
   "execution_count": 302,
   "id": "762e5fa3",
   "metadata": {},
   "outputs": [],
   "source": [
    "param_grid = [    \n",
    "    {'penalty' : ['l1', 'l2', 'elasticnet', 'none'],\n",
    "    'C' : np.logspace(-4, 4, 20),\n",
    "    'solver' : ['lbfgs','newton-cg','liblinear','sag','saga'],\n",
    "    'max_iter' : [100, 1000,2500, 5000]\n",
    "    }\n",
    "]"
   ]
  },
  {
   "cell_type": "code",
   "execution_count": 303,
   "id": "5755fea8",
   "metadata": {},
   "outputs": [],
   "source": [
    "rfr_random = RandomizedSearchCV(estimator=lr, param_distributions=param_grid, n_iter = 20, cv = 3, verbose=2, random_state=42, n_jobs=-1)"
   ]
  },
  {
   "cell_type": "code",
   "execution_count": 304,
   "id": "dfa847a0",
   "metadata": {},
   "outputs": [
    {
     "name": "stdout",
     "output_type": "stream",
     "text": [
      "Fitting 3 folds for each of 20 candidates, totalling 60 fits\n"
     ]
    },
    {
     "name": "stderr",
     "output_type": "stream",
     "text": [
      "C:\\Users\\abhishek bablani\\anaconda3\\lib\\site-packages\\sklearn\\model_selection\\_search.py:918: UserWarning: One or more of the test scores are non-finite: [0.87803179        nan 0.74607608 0.90762252        nan 0.90632004\n",
      "        nan        nan 0.9077561         nan        nan        nan\n",
      " 0.88290793 0.90745553 0.90094293 0.65970886        nan 0.90625325\n",
      " 0.82472843        nan]\n",
      "  warnings.warn(\n",
      "C:\\Users\\abhishek bablani\\anaconda3\\lib\\site-packages\\sklearn\\linear_model\\_logistic.py:1322: UserWarning: Setting penalty='none' will ignore the C and l1_ratio parameters\n",
      "  warnings.warn(\n"
     ]
    },
    {
     "data": {
      "text/plain": [
       "RandomizedSearchCV(cv=3, estimator=LogisticRegression(), n_iter=20, n_jobs=-1,\n",
       "                   param_distributions=[{'C': array([1.00000000e-04, 2.63665090e-04, 6.95192796e-04, 1.83298071e-03,\n",
       "       4.83293024e-03, 1.27427499e-02, 3.35981829e-02, 8.85866790e-02,\n",
       "       2.33572147e-01, 6.15848211e-01, 1.62377674e+00, 4.28133240e+00,\n",
       "       1.12883789e+01, 2.97635144e+01, 7.84759970e+01, 2.06913808e+02,\n",
       "       5.45559478e+02, 1.43844989e+03, 3.79269019e+03, 1.00000000e+04]),\n",
       "                                         'max_iter': [100, 1000, 2500, 5000],\n",
       "                                         'penalty': ['l1', 'l2', 'elasticnet',\n",
       "                                                     'none'],\n",
       "                                         'solver': ['lbfgs', 'newton-cg',\n",
       "                                                    'liblinear', 'sag',\n",
       "                                                    'saga']}],\n",
       "                   random_state=42, verbose=2)"
      ]
     },
     "execution_count": 304,
     "metadata": {},
     "output_type": "execute_result"
    }
   ],
   "source": [
    "rfr_random.fit(X_res,y_res)"
   ]
  },
  {
   "cell_type": "code",
   "execution_count": 305,
   "id": "1b0d617e",
   "metadata": {},
   "outputs": [
    {
     "data": {
      "text/plain": [
       "LogisticRegression(C=0.012742749857031334, max_iter=5000, penalty='none',\n",
       "                   solver='sag')"
      ]
     },
     "execution_count": 305,
     "metadata": {},
     "output_type": "execute_result"
    }
   ],
   "source": [
    "rfr_random.best_estimator_"
   ]
  },
  {
   "cell_type": "code",
   "execution_count": 306,
   "id": "9c84516a",
   "metadata": {},
   "outputs": [
    {
     "data": {
      "text/plain": [
       "0.9077560959677764"
      ]
     },
     "execution_count": 306,
     "metadata": {},
     "output_type": "execute_result"
    }
   ],
   "source": [
    "rfr_random.best_score_"
   ]
  },
  {
   "cell_type": "code",
   "execution_count": 307,
   "id": "9dde826a",
   "metadata": {},
   "outputs": [],
   "source": [
    "lr=LogisticRegression(C=0.012742749857031334, max_iter=5000, penalty='none',\n",
    "                   solver='sag')"
   ]
  },
  {
   "cell_type": "code",
   "execution_count": 308,
   "id": "fb5c5ed3",
   "metadata": {},
   "outputs": [
    {
     "name": "stderr",
     "output_type": "stream",
     "text": [
      "C:\\Users\\abhishek bablani\\anaconda3\\lib\\site-packages\\sklearn\\linear_model\\_logistic.py:1322: UserWarning: Setting penalty='none' will ignore the C and l1_ratio parameters\n",
      "  warnings.warn(\n"
     ]
    }
   ],
   "source": [
    "# Train logistic Classifer\n",
    "lr = lr.fit(X_res,y_res)\n",
    "#Predict the response for train dataset\n",
    "y_pred_train = lr.predict(X_res)\n",
    "#Predict the response for test dataset\n",
    "y_pred = lr.predict(X_test)"
   ]
  },
  {
   "cell_type": "code",
   "execution_count": 309,
   "id": "dd13417b",
   "metadata": {},
   "outputs": [],
   "source": [
    "from sklearn.metrics import classification_report"
   ]
  },
  {
   "cell_type": "code",
   "execution_count": 310,
   "id": "24b24b60",
   "metadata": {},
   "outputs": [
    {
     "name": "stdout",
     "output_type": "stream",
     "text": [
      "              precision    recall  f1-score   support\n",
      "\n",
      "           0       0.89      0.95      0.92     14971\n",
      "           1       0.95      0.88      0.91     14971\n",
      "\n",
      "    accuracy                           0.92     29942\n",
      "   macro avg       0.92      0.92      0.92     29942\n",
      "weighted avg       0.92      0.92      0.92     29942\n",
      "\n"
     ]
    }
   ],
   "source": [
    "print(classification_report(y_res, y_pred_train))#train data"
   ]
  },
  {
   "cell_type": "code",
   "execution_count": 312,
   "id": "d893e33e",
   "metadata": {},
   "outputs": [
    {
     "name": "stdout",
     "output_type": "stream",
     "text": [
      "              precision    recall  f1-score   support\n",
      "\n",
      "           0       0.94      0.95      0.95     35152\n",
      "           1       0.41      0.36      0.38      3214\n",
      "\n",
      "    accuracy                           0.90     38366\n",
      "   macro avg       0.67      0.65      0.66     38366\n",
      "weighted avg       0.90      0.90      0.90     38366\n",
      "\n"
     ]
    }
   ],
   "source": [
    "print(classification_report(y_test, y_pred))# test data"
   ]
  },
  {
   "cell_type": "code",
   "execution_count": 324,
   "id": "e4e48054",
   "metadata": {},
   "outputs": [
    {
     "name": "stdout",
     "output_type": "stream",
     "text": [
      "              precision    recall  f1-score   support\n",
      "\n",
      "           0       1.00      0.93      0.96     23490\n",
      "           1       0.00      0.00      0.00         0\n",
      "\n",
      "    accuracy                           0.93     23490\n",
      "   macro avg       0.50      0.46      0.48     23490\n",
      "weighted avg       1.00      0.93      0.96     23490\n",
      "\n"
     ]
    },
    {
     "name": "stderr",
     "output_type": "stream",
     "text": [
      "C:\\Users\\abhishek bablani\\anaconda3\\lib\\site-packages\\sklearn\\metrics\\_classification.py:1245: UndefinedMetricWarning: Recall and F-score are ill-defined and being set to 0.0 in labels with no true samples. Use `zero_division` parameter to control this behavior.\n",
      "  _warn_prf(average, modifier, msg_start, len(result))\n",
      "C:\\Users\\abhishek bablani\\anaconda3\\lib\\site-packages\\sklearn\\metrics\\_classification.py:1245: UndefinedMetricWarning: Recall and F-score are ill-defined and being set to 0.0 in labels with no true samples. Use `zero_division` parameter to control this behavior.\n",
      "  _warn_prf(average, modifier, msg_start, len(result))\n",
      "C:\\Users\\abhishek bablani\\anaconda3\\lib\\site-packages\\sklearn\\metrics\\_classification.py:1245: UndefinedMetricWarning: Recall and F-score are ill-defined and being set to 0.0 in labels with no true samples. Use `zero_division` parameter to control this behavior.\n",
      "  _warn_prf(average, modifier, msg_start, len(result))\n"
     ]
    }
   ],
   "source": [
    "test_ypred = lr.predict(test_X)\n",
    "print(classification_report(test_y, test_ypred))# test data"
   ]
  },
  {
   "cell_type": "code",
   "execution_count": 327,
   "id": "e658b0bc",
   "metadata": {},
   "outputs": [],
   "source": [
    "d=pd.DataFrame({\"y\":test_ypred})"
   ]
  },
  {
   "cell_type": "code",
   "execution_count": 330,
   "id": "fea461de",
   "metadata": {},
   "outputs": [
    {
     "data": {
      "text/plain": [
       "0    21734\n",
       "1     1756\n",
       "Name: y, dtype: int64"
      ]
     },
     "execution_count": 330,
     "metadata": {},
     "output_type": "execute_result"
    }
   ],
   "source": [
    "d[\"y\"].value_counts()"
   ]
  },
  {
   "cell_type": "code",
   "execution_count": null,
   "id": "f1ba2a51",
   "metadata": {},
   "outputs": [],
   "source": []
  },
  {
   "cell_type": "code",
   "execution_count": 331,
   "id": "db1ac33e",
   "metadata": {},
   "outputs": [],
   "source": [
    "from sklearn.ensemble import RandomForestClassifier"
   ]
  },
  {
   "cell_type": "code",
   "execution_count": 332,
   "id": "74769bfc",
   "metadata": {},
   "outputs": [],
   "source": [
    "rf=RandomForestClassifier()"
   ]
  },
  {
   "cell_type": "code",
   "execution_count": 333,
   "id": "ebad7aec",
   "metadata": {},
   "outputs": [],
   "source": [
    "# Number of trees in random forest\n",
    "n_estimators = [int(x) for x in np.linspace(start = 200, stop = 2000, num = 10)]\n",
    "# Number of features to consider at every split\n",
    "max_features = ['auto', 'sqrt']\n",
    "# Maximum number of levels in tree\n",
    "max_depth = [int(x) for x in np.linspace(10, 110, num = 11)]\n",
    "max_depth.append(None)\n",
    "# Minimum number of samples required to split a node\n",
    "min_samples_split = [2, 5, 10]\n",
    "# Minimum number of samples required at each leaf node\n",
    "min_samples_leaf = [1, 2, 4]\n",
    "# Method of selecting samples for training each tree\n",
    "bootstrap = [True, False]"
   ]
  },
  {
   "cell_type": "code",
   "execution_count": 335,
   "id": "970257ad",
   "metadata": {},
   "outputs": [],
   "source": [
    "rfr_random = RandomizedSearchCV(estimator=rf, param_distributions=random_grid, n_iter = 20, cv = 3, verbose=2, random_state=42, n_jobs=-1)"
   ]
  },
  {
   "cell_type": "code",
   "execution_count": 336,
   "id": "cd44b1b8",
   "metadata": {},
   "outputs": [
    {
     "name": "stdout",
     "output_type": "stream",
     "text": [
      "Fitting 3 folds for each of 20 candidates, totalling 60 fits\n"
     ]
    },
    {
     "data": {
      "text/plain": [
       "RandomizedSearchCV(cv=3, estimator=RandomForestClassifier(), n_iter=20,\n",
       "                   n_jobs=-1,\n",
       "                   param_distributions={'bootstrap': [True, False],\n",
       "                                        'max_depth': [10, 20, 30, 40, 50, 60,\n",
       "                                                      70, 80, 90, 100, 110,\n",
       "                                                      None],\n",
       "                                        'max_features': ['auto', 'sqrt'],\n",
       "                                        'min_samples_leaf': [1, 2, 4],\n",
       "                                        'min_samples_split': [2, 5, 10],\n",
       "                                        'n_estimators': [200, 400, 600, 800,\n",
       "                                                         1000, 1200, 1400, 1600,\n",
       "                                                         1800, 2000]},\n",
       "                   random_state=42, verbose=2)"
      ]
     },
     "execution_count": 336,
     "metadata": {},
     "output_type": "execute_result"
    }
   ],
   "source": [
    "rfr_random.fit(X_res,y_res)"
   ]
  },
  {
   "cell_type": "code",
   "execution_count": 338,
   "id": "f3393c98",
   "metadata": {},
   "outputs": [
    {
     "data": {
      "text/plain": [
       "RandomForestClassifier(bootstrap=False, max_depth=80, min_samples_split=10,\n",
       "                       n_estimators=1000)"
      ]
     },
     "execution_count": 338,
     "metadata": {},
     "output_type": "execute_result"
    }
   ],
   "source": [
    "rfr_random.best_estimator_"
   ]
  },
  {
   "cell_type": "code",
   "execution_count": 339,
   "id": "f67968bd",
   "metadata": {},
   "outputs": [
    {
     "data": {
      "text/plain": [
       "0.9497370722475577"
      ]
     },
     "execution_count": 339,
     "metadata": {},
     "output_type": "execute_result"
    }
   ],
   "source": [
    "rfr_random.best_score_"
   ]
  },
  {
   "cell_type": "code",
   "execution_count": 340,
   "id": "5b851bfc",
   "metadata": {},
   "outputs": [],
   "source": [
    "rf=RandomForestClassifier(bootstrap=False, max_depth=80, min_samples_split=10,\n",
    "                       n_estimators=1000)"
   ]
  },
  {
   "cell_type": "code",
   "execution_count": 341,
   "id": "653efd02",
   "metadata": {},
   "outputs": [],
   "source": [
    "# Train RandomForestClassifier Classifer\n",
    "rf = rf.fit(X_res,y_res)\n",
    "#Predict the response for train dataset\n",
    "y_pred_train = rf.predict(X_res)\n",
    "#Predict the response for test dataset\n",
    "y_pred = rf.predict(X_test)"
   ]
  },
  {
   "cell_type": "code",
   "execution_count": 342,
   "id": "96d3f89d",
   "metadata": {},
   "outputs": [
    {
     "name": "stdout",
     "output_type": "stream",
     "text": [
      "              precision    recall  f1-score   support\n",
      "\n",
      "           0       0.98      1.00      0.99     14971\n",
      "           1       1.00      0.98      0.99     14971\n",
      "\n",
      "    accuracy                           0.99     29942\n",
      "   macro avg       0.99      0.99      0.99     29942\n",
      "weighted avg       0.99      0.99      0.99     29942\n",
      "\n"
     ]
    }
   ],
   "source": [
    "print(classification_report(y_res, y_pred_train))# train data"
   ]
  },
  {
   "cell_type": "code",
   "execution_count": 343,
   "id": "563dd807",
   "metadata": {},
   "outputs": [
    {
     "name": "stdout",
     "output_type": "stream",
     "text": [
      "              precision    recall  f1-score   support\n",
      "\n",
      "           0       0.94      0.98      0.96     35152\n",
      "           1       0.58      0.33      0.42      3214\n",
      "\n",
      "    accuracy                           0.92     38366\n",
      "   macro avg       0.76      0.65      0.69     38366\n",
      "weighted avg       0.91      0.92      0.91     38366\n",
      "\n"
     ]
    }
   ],
   "source": [
    "print(classification_report(y_test, y_pred))# test data"
   ]
  },
  {
   "cell_type": "code",
   "execution_count": 345,
   "id": "d8f52181",
   "metadata": {},
   "outputs": [
    {
     "name": "stdout",
     "output_type": "stream",
     "text": [
      "              precision    recall  f1-score   support\n",
      "\n",
      "           0       0.94      0.98      0.96     35152\n",
      "           1       0.58      0.33      0.42      3214\n",
      "\n",
      "    accuracy                           0.92     38366\n",
      "   macro avg       0.76      0.65      0.69     38366\n",
      "weighted avg       0.91      0.92      0.91     38366\n",
      "\n"
     ]
    }
   ],
   "source": [
    "test_ypred=rf.predict(test_X)\n",
    "print(classification_report(y_test, y_pred))# test data"
   ]
  },
  {
   "cell_type": "code",
   "execution_count": 346,
   "id": "b8daf06f",
   "metadata": {},
   "outputs": [],
   "source": [
    "from xgboost import XGBClassifier"
   ]
  },
  {
   "cell_type": "code",
   "execution_count": 347,
   "id": "f0b54e82",
   "metadata": {},
   "outputs": [],
   "source": [
    "xgb=XGBClassifier()"
   ]
  },
  {
   "cell_type": "code",
   "execution_count": 348,
   "id": "f5dcc285",
   "metadata": {},
   "outputs": [],
   "source": [
    "parameters = {\n",
    "    'max_depth': range (2, 10, 1),\n",
    "    'n_estimators': range(60, 220, 40),\n",
    "    'learning_rate': [0.1, 0.01, 0.05]\n",
    "}"
   ]
  },
  {
   "cell_type": "code",
   "execution_count": 349,
   "id": "9c7a63a4",
   "metadata": {},
   "outputs": [],
   "source": [
    "rfr_random = RandomizedSearchCV(estimator=xgb, param_distributions=parameters, n_iter = 20, cv = 3, verbose=2, random_state=42, n_jobs=-1)"
   ]
  },
  {
   "cell_type": "code",
   "execution_count": 350,
   "id": "507e9d79",
   "metadata": {},
   "outputs": [
    {
     "name": "stdout",
     "output_type": "stream",
     "text": [
      "Fitting 3 folds for each of 20 candidates, totalling 60 fits\n"
     ]
    },
    {
     "name": "stderr",
     "output_type": "stream",
     "text": [
      "C:\\Users\\abhishek bablani\\anaconda3\\lib\\site-packages\\xgboost\\sklearn.py:1146: UserWarning: The use of label encoder in XGBClassifier is deprecated and will be removed in a future release. To remove this warning, do the following: 1) Pass option use_label_encoder=False when constructing XGBClassifier object; and 2) Encode your labels (y) as integers starting with 0, i.e. 0, 1, 2, ..., [num_class - 1].\n",
      "  warnings.warn(label_encoder_deprecation_msg, UserWarning)\n"
     ]
    },
    {
     "name": "stdout",
     "output_type": "stream",
     "text": [
      "[15:30:42] WARNING: C:/Users/Administrator/workspace/xgboost-win64_release_1.4.0/src/learner.cc:1095: Starting in XGBoost 1.3.0, the default evaluation metric used with the objective 'binary:logistic' was changed from 'error' to 'logloss'. Explicitly set eval_metric if you'd like to restore the old behavior.\n"
     ]
    },
    {
     "data": {
      "text/plain": [
       "RandomizedSearchCV(cv=3,\n",
       "                   estimator=XGBClassifier(base_score=None, booster=None,\n",
       "                                           colsample_bylevel=None,\n",
       "                                           colsample_bynode=None,\n",
       "                                           colsample_bytree=None, gamma=None,\n",
       "                                           gpu_id=None, importance_type='gain',\n",
       "                                           interaction_constraints=None,\n",
       "                                           learning_rate=None,\n",
       "                                           max_delta_step=None, max_depth=None,\n",
       "                                           min_child_weight=None, missing=nan,\n",
       "                                           monotone_constraints=None,\n",
       "                                           n_estimators=100, n_jobs=None,\n",
       "                                           num_parallel_tree=None,\n",
       "                                           random_state=None, reg_alpha=None,\n",
       "                                           reg_lambda=None,\n",
       "                                           scale_pos_weight=None,\n",
       "                                           subsample=None, tree_method=None,\n",
       "                                           validate_parameters=None,\n",
       "                                           verbosity=None),\n",
       "                   n_iter=20, n_jobs=-1,\n",
       "                   param_distributions={'learning_rate': [0.1, 0.01, 0.05],\n",
       "                                        'max_depth': range(2, 10),\n",
       "                                        'n_estimators': range(60, 220, 40)},\n",
       "                   random_state=42, verbose=2)"
      ]
     },
     "execution_count": 350,
     "metadata": {},
     "output_type": "execute_result"
    }
   ],
   "source": [
    "rfr_random.fit(X_res,y_res)"
   ]
  },
  {
   "cell_type": "code",
   "execution_count": 351,
   "id": "de47885c",
   "metadata": {},
   "outputs": [
    {
     "data": {
      "text/plain": [
       "XGBClassifier(base_score=0.5, booster='gbtree', colsample_bylevel=1,\n",
       "              colsample_bynode=1, colsample_bytree=1, gamma=0, gpu_id=-1,\n",
       "              importance_type='gain', interaction_constraints='',\n",
       "              learning_rate=0.1, max_delta_step=0, max_depth=9,\n",
       "              min_child_weight=1, missing=nan, monotone_constraints='()',\n",
       "              n_estimators=180, n_jobs=12, num_parallel_tree=1, random_state=0,\n",
       "              reg_alpha=0, reg_lambda=1, scale_pos_weight=1, subsample=1,\n",
       "              tree_method='exact', validate_parameters=1, verbosity=None)"
      ]
     },
     "execution_count": 351,
     "metadata": {},
     "output_type": "execute_result"
    }
   ],
   "source": [
    "rfr_random.best_estimator_"
   ]
  },
  {
   "cell_type": "code",
   "execution_count": 352,
   "id": "6b73ad67",
   "metadata": {},
   "outputs": [
    {
     "data": {
      "text/plain": [
       "0.9460632683729012"
      ]
     },
     "execution_count": 352,
     "metadata": {},
     "output_type": "execute_result"
    }
   ],
   "source": [
    "rfr_random.best_score_"
   ]
  },
  {
   "cell_type": "code",
   "execution_count": 353,
   "id": "f9c9c7e5",
   "metadata": {},
   "outputs": [],
   "source": [
    "xgb=XGBClassifier(base_score=0.5, booster='gbtree', colsample_bylevel=1,\n",
    "              colsample_bynode=1, colsample_bytree=1, gamma=0, gpu_id=-1,\n",
    "              importance_type='gain', interaction_constraints='',\n",
    "              learning_rate=0.300000012, max_delta_step=0, max_depth=5,\n",
    "              min_child_weight=1, min_samples_leaf=2, min_samples_split=5,\n",
    "               monotone_constraints='()', n_estimators=100,\n",
    "              n_jobs=12, num_parallel_tree=1, random_state=0, reg_alpha=0,\n",
    "              reg_lambda=1, scale_pos_weight=1, subsample=1,\n",
    "              tree_method='exact', validate_parameters=1, verbosity=None)"
   ]
  },
  {
   "cell_type": "code",
   "execution_count": 354,
   "id": "41fd67f7",
   "metadata": {},
   "outputs": [
    {
     "name": "stdout",
     "output_type": "stream",
     "text": [
      "[15:30:45] WARNING: C:/Users/Administrator/workspace/xgboost-win64_release_1.4.0/src/learner.cc:573: \n",
      "Parameters: { \"min_samples_leaf\", \"min_samples_split\" } might not be used.\n",
      "\n",
      "  This may not be accurate due to some parameters are only used in language bindings but\n",
      "  passed down to XGBoost core.  Or some parameters are not used but slip through this\n",
      "  verification. Please open an issue if you find above cases.\n",
      "\n",
      "\n",
      "[15:30:45] WARNING: C:/Users/Administrator/workspace/xgboost-win64_release_1.4.0/src/learner.cc:1095: Starting in XGBoost 1.3.0, the default evaluation metric used with the objective 'binary:logistic' was changed from 'error' to 'logloss'. Explicitly set eval_metric if you'd like to restore the old behavior.\n"
     ]
    }
   ],
   "source": [
    "# Train XGBClassifier Classifer\n",
    "xgb = xgb.fit(X_res,y_res)\n",
    "#Predict the response for train dataset\n",
    "y_pred_train = xgb.predict(X_res)\n",
    "#Predict the response for test dataset\n",
    "y_pred = xgb.predict(X_test)"
   ]
  },
  {
   "cell_type": "code",
   "execution_count": 355,
   "id": "ab988e43",
   "metadata": {},
   "outputs": [
    {
     "name": "stdout",
     "output_type": "stream",
     "text": [
      "              precision    recall  f1-score   support\n",
      "\n",
      "           0       0.95      0.98      0.96     14971\n",
      "           1       0.98      0.95      0.96     14971\n",
      "\n",
      "    accuracy                           0.96     29942\n",
      "   macro avg       0.96      0.96      0.96     29942\n",
      "weighted avg       0.96      0.96      0.96     29942\n",
      "\n"
     ]
    }
   ],
   "source": [
    "print(classification_report(y_res, y_pred_train))# train data"
   ]
  },
  {
   "cell_type": "code",
   "execution_count": 356,
   "id": "260f690d",
   "metadata": {},
   "outputs": [
    {
     "name": "stdout",
     "output_type": "stream",
     "text": [
      "              precision    recall  f1-score   support\n",
      "\n",
      "           0       0.95      0.97      0.96     35152\n",
      "           1       0.54      0.41      0.47      3214\n",
      "\n",
      "    accuracy                           0.92     38366\n",
      "   macro avg       0.74      0.69      0.71     38366\n",
      "weighted avg       0.91      0.92      0.92     38366\n",
      "\n"
     ]
    }
   ],
   "source": [
    "print(classification_report(y_test, y_pred))# test data"
   ]
  },
  {
   "cell_type": "code",
   "execution_count": 357,
   "id": "c6564fd5",
   "metadata": {},
   "outputs": [
    {
     "name": "stdout",
     "output_type": "stream",
     "text": [
      "              precision    recall  f1-score   support\n",
      "\n",
      "           0       0.95      0.97      0.96     35152\n",
      "           1       0.54      0.41      0.47      3214\n",
      "\n",
      "    accuracy                           0.92     38366\n",
      "   macro avg       0.74      0.69      0.71     38366\n",
      "weighted avg       0.91      0.92      0.92     38366\n",
      "\n"
     ]
    }
   ],
   "source": [
    "test_ypred=xgb.predict(test_X)\n",
    "print(classification_report(y_test, y_pred))# test data"
   ]
  },
  {
   "cell_type": "code",
   "execution_count": null,
   "id": "135d0c83",
   "metadata": {},
   "outputs": [],
   "source": []
  },
  {
   "cell_type": "code",
   "execution_count": 359,
   "id": "5f1dce4e",
   "metadata": {},
   "outputs": [],
   "source": [
    "from catboost import CatBoostClassifier\n",
    "from sklearn.model_selection import GridSearchCV"
   ]
  },
  {
   "cell_type": "code",
   "execution_count": 360,
   "id": "97aef425",
   "metadata": {},
   "outputs": [],
   "source": [
    "model = CatBoostClassifier(iterations=100)"
   ]
  },
  {
   "cell_type": "code",
   "execution_count": 361,
   "id": "6417cfa1",
   "metadata": {},
   "outputs": [
    {
     "name": "stdout",
     "output_type": "stream",
     "text": [
      "Learning rate set to 0.363334\n",
      "0:\tlearn: 0.5137799\ttotal: 11.9ms\tremaining: 1.18s\n",
      "1:\tlearn: 0.4286250\ttotal: 21ms\tremaining: 1.03s\n",
      "2:\tlearn: 0.3790304\ttotal: 29.8ms\tremaining: 962ms\n",
      "3:\tlearn: 0.3396297\ttotal: 38.3ms\tremaining: 920ms\n",
      "4:\tlearn: 0.3263301\ttotal: 46.6ms\tremaining: 886ms\n",
      "5:\tlearn: 0.3130348\ttotal: 54.4ms\tremaining: 852ms\n",
      "6:\tlearn: 0.3010819\ttotal: 62.2ms\tremaining: 826ms\n",
      "7:\tlearn: 0.2920513\ttotal: 69.8ms\tremaining: 803ms\n",
      "8:\tlearn: 0.2773975\ttotal: 77.4ms\tremaining: 783ms\n",
      "9:\tlearn: 0.2695325\ttotal: 85.1ms\tremaining: 766ms\n",
      "10:\tlearn: 0.2635915\ttotal: 92.8ms\tremaining: 751ms\n",
      "11:\tlearn: 0.2562303\ttotal: 100ms\tremaining: 735ms\n",
      "12:\tlearn: 0.2505062\ttotal: 108ms\tremaining: 721ms\n",
      "13:\tlearn: 0.2435193\ttotal: 115ms\tremaining: 708ms\n",
      "14:\tlearn: 0.2376184\ttotal: 123ms\tremaining: 694ms\n",
      "15:\tlearn: 0.2331229\ttotal: 130ms\tremaining: 682ms\n",
      "16:\tlearn: 0.2295650\ttotal: 138ms\tremaining: 672ms\n",
      "17:\tlearn: 0.2259387\ttotal: 145ms\tremaining: 661ms\n",
      "18:\tlearn: 0.2223163\ttotal: 153ms\tremaining: 653ms\n",
      "19:\tlearn: 0.2176086\ttotal: 161ms\tremaining: 642ms\n",
      "20:\tlearn: 0.2146901\ttotal: 168ms\tremaining: 632ms\n",
      "21:\tlearn: 0.2122017\ttotal: 176ms\tremaining: 622ms\n",
      "22:\tlearn: 0.2088945\ttotal: 183ms\tremaining: 612ms\n",
      "23:\tlearn: 0.2053296\ttotal: 194ms\tremaining: 614ms\n",
      "24:\tlearn: 0.2018893\ttotal: 204ms\tremaining: 612ms\n",
      "25:\tlearn: 0.1997718\ttotal: 212ms\tremaining: 605ms\n",
      "26:\tlearn: 0.1974849\ttotal: 220ms\tremaining: 595ms\n",
      "27:\tlearn: 0.1949051\ttotal: 227ms\tremaining: 584ms\n",
      "28:\tlearn: 0.1918531\ttotal: 235ms\tremaining: 575ms\n",
      "29:\tlearn: 0.1892292\ttotal: 242ms\tremaining: 565ms\n",
      "30:\tlearn: 0.1872035\ttotal: 250ms\tremaining: 556ms\n",
      "31:\tlearn: 0.1837541\ttotal: 257ms\tremaining: 547ms\n",
      "32:\tlearn: 0.1819934\ttotal: 264ms\tremaining: 537ms\n",
      "33:\tlearn: 0.1789499\ttotal: 272ms\tremaining: 528ms\n",
      "34:\tlearn: 0.1771159\ttotal: 280ms\tremaining: 519ms\n",
      "35:\tlearn: 0.1746012\ttotal: 287ms\tremaining: 511ms\n",
      "36:\tlearn: 0.1725740\ttotal: 294ms\tremaining: 501ms\n",
      "37:\tlearn: 0.1710684\ttotal: 302ms\tremaining: 493ms\n",
      "38:\tlearn: 0.1691938\ttotal: 310ms\tremaining: 484ms\n",
      "39:\tlearn: 0.1673645\ttotal: 317ms\tremaining: 476ms\n",
      "40:\tlearn: 0.1654170\ttotal: 325ms\tremaining: 467ms\n",
      "41:\tlearn: 0.1640138\ttotal: 332ms\tremaining: 459ms\n",
      "42:\tlearn: 0.1627910\ttotal: 340ms\tremaining: 450ms\n",
      "43:\tlearn: 0.1615768\ttotal: 347ms\tremaining: 442ms\n",
      "44:\tlearn: 0.1590249\ttotal: 355ms\tremaining: 434ms\n",
      "45:\tlearn: 0.1578015\ttotal: 362ms\tremaining: 425ms\n",
      "46:\tlearn: 0.1565988\ttotal: 370ms\tremaining: 417ms\n",
      "47:\tlearn: 0.1555839\ttotal: 377ms\tremaining: 409ms\n",
      "48:\tlearn: 0.1528303\ttotal: 386ms\tremaining: 402ms\n",
      "49:\tlearn: 0.1517615\ttotal: 394ms\tremaining: 394ms\n",
      "50:\tlearn: 0.1501744\ttotal: 403ms\tremaining: 387ms\n",
      "51:\tlearn: 0.1484729\ttotal: 411ms\tremaining: 379ms\n",
      "52:\tlearn: 0.1474895\ttotal: 419ms\tremaining: 371ms\n",
      "53:\tlearn: 0.1457552\ttotal: 426ms\tremaining: 363ms\n",
      "54:\tlearn: 0.1446090\ttotal: 434ms\tremaining: 355ms\n",
      "55:\tlearn: 0.1437636\ttotal: 441ms\tremaining: 346ms\n",
      "56:\tlearn: 0.1429656\ttotal: 448ms\tremaining: 338ms\n",
      "57:\tlearn: 0.1421040\ttotal: 456ms\tremaining: 330ms\n",
      "58:\tlearn: 0.1414081\ttotal: 463ms\tremaining: 322ms\n",
      "59:\tlearn: 0.1398508\ttotal: 471ms\tremaining: 314ms\n",
      "60:\tlearn: 0.1384393\ttotal: 479ms\tremaining: 306ms\n",
      "61:\tlearn: 0.1374782\ttotal: 486ms\tremaining: 298ms\n",
      "62:\tlearn: 0.1366744\ttotal: 494ms\tremaining: 290ms\n",
      "63:\tlearn: 0.1360536\ttotal: 501ms\tremaining: 282ms\n",
      "64:\tlearn: 0.1346368\ttotal: 509ms\tremaining: 274ms\n",
      "65:\tlearn: 0.1336404\ttotal: 517ms\tremaining: 266ms\n",
      "66:\tlearn: 0.1329442\ttotal: 525ms\tremaining: 258ms\n",
      "67:\tlearn: 0.1322599\ttotal: 532ms\tremaining: 250ms\n",
      "68:\tlearn: 0.1314677\ttotal: 540ms\tremaining: 242ms\n",
      "69:\tlearn: 0.1306358\ttotal: 547ms\tremaining: 235ms\n",
      "70:\tlearn: 0.1300630\ttotal: 555ms\tremaining: 227ms\n",
      "71:\tlearn: 0.1290858\ttotal: 562ms\tremaining: 219ms\n",
      "72:\tlearn: 0.1285230\ttotal: 571ms\tremaining: 211ms\n",
      "73:\tlearn: 0.1276833\ttotal: 580ms\tremaining: 204ms\n",
      "74:\tlearn: 0.1267431\ttotal: 588ms\tremaining: 196ms\n",
      "75:\tlearn: 0.1257756\ttotal: 596ms\tremaining: 188ms\n",
      "76:\tlearn: 0.1251763\ttotal: 604ms\tremaining: 180ms\n",
      "77:\tlearn: 0.1245236\ttotal: 612ms\tremaining: 172ms\n",
      "78:\tlearn: 0.1239094\ttotal: 619ms\tremaining: 165ms\n",
      "79:\tlearn: 0.1234593\ttotal: 627ms\tremaining: 157ms\n",
      "80:\tlearn: 0.1228971\ttotal: 634ms\tremaining: 149ms\n",
      "81:\tlearn: 0.1223292\ttotal: 642ms\tremaining: 141ms\n",
      "82:\tlearn: 0.1214289\ttotal: 650ms\tremaining: 133ms\n",
      "83:\tlearn: 0.1201137\ttotal: 657ms\tremaining: 125ms\n",
      "84:\tlearn: 0.1194176\ttotal: 665ms\tremaining: 117ms\n",
      "85:\tlearn: 0.1189480\ttotal: 672ms\tremaining: 109ms\n",
      "86:\tlearn: 0.1183764\ttotal: 680ms\tremaining: 102ms\n",
      "87:\tlearn: 0.1179437\ttotal: 687ms\tremaining: 93.7ms\n",
      "88:\tlearn: 0.1172968\ttotal: 695ms\tremaining: 85.9ms\n",
      "89:\tlearn: 0.1168132\ttotal: 702ms\tremaining: 78ms\n",
      "90:\tlearn: 0.1155738\ttotal: 710ms\tremaining: 70.2ms\n",
      "91:\tlearn: 0.1150976\ttotal: 717ms\tremaining: 62.4ms\n",
      "92:\tlearn: 0.1146029\ttotal: 725ms\tremaining: 54.6ms\n",
      "93:\tlearn: 0.1140453\ttotal: 732ms\tremaining: 46.7ms\n",
      "94:\tlearn: 0.1133413\ttotal: 740ms\tremaining: 39ms\n",
      "95:\tlearn: 0.1129355\ttotal: 748ms\tremaining: 31.2ms\n",
      "96:\tlearn: 0.1124170\ttotal: 756ms\tremaining: 23.4ms\n",
      "97:\tlearn: 0.1118187\ttotal: 765ms\tremaining: 15.6ms\n",
      "98:\tlearn: 0.1113295\ttotal: 773ms\tremaining: 7.81ms\n",
      "99:\tlearn: 0.1109487\ttotal: 780ms\tremaining: 0us\n"
     ]
    },
    {
     "data": {
      "text/plain": [
       "<catboost.core.CatBoostClassifier at 0x1deb3272220>"
      ]
     },
     "execution_count": 361,
     "metadata": {},
     "output_type": "execute_result"
    }
   ],
   "source": [
    "\n",
    "\n",
    "# fit the model with the training data\n",
    "model.fit(X_res,y_res,plot=False)"
   ]
  },
  {
   "cell_type": "code",
   "execution_count": 362,
   "id": "6735ed61",
   "metadata": {},
   "outputs": [
    {
     "name": "stdout",
     "output_type": "stream",
     "text": [
      "              precision    recall  f1-score   support\n",
      "\n",
      "           0       0.95      0.98      0.96     14971\n",
      "           1       0.98      0.95      0.96     14971\n",
      "\n",
      "    accuracy                           0.96     29942\n",
      "   macro avg       0.96      0.96      0.96     29942\n",
      "weighted avg       0.96      0.96      0.96     29942\n",
      "\n"
     ]
    }
   ],
   "source": [
    "print(classification_report(y_res, y_pred_train))# train data"
   ]
  },
  {
   "cell_type": "code",
   "execution_count": 363,
   "id": "2e063440",
   "metadata": {},
   "outputs": [
    {
     "name": "stdout",
     "output_type": "stream",
     "text": [
      "              precision    recall  f1-score   support\n",
      "\n",
      "           0       0.95      0.97      0.96     35152\n",
      "           1       0.54      0.41      0.47      3214\n",
      "\n",
      "    accuracy                           0.92     38366\n",
      "   macro avg       0.74      0.69      0.71     38366\n",
      "weighted avg       0.91      0.92      0.92     38366\n",
      "\n"
     ]
    }
   ],
   "source": [
    "print(classification_report(y_test, y_pred))# test data"
   ]
  },
  {
   "cell_type": "code",
   "execution_count": 364,
   "id": "659a617b",
   "metadata": {},
   "outputs": [
    {
     "name": "stdout",
     "output_type": "stream",
     "text": [
      "              precision    recall  f1-score   support\n",
      "\n",
      "           0       0.95      0.97      0.96     35152\n",
      "           1       0.54      0.41      0.47      3214\n",
      "\n",
      "    accuracy                           0.92     38366\n",
      "   macro avg       0.74      0.69      0.71     38366\n",
      "weighted avg       0.91      0.92      0.92     38366\n",
      "\n"
     ]
    }
   ],
   "source": [
    "test_ypred=model.predict(test_X)\n",
    "print(classification_report(y_test, y_pred))# test data"
   ]
  },
  {
   "cell_type": "code",
   "execution_count": 365,
   "id": "7ac6dcf7",
   "metadata": {},
   "outputs": [],
   "source": [
    "from sklearn.ensemble import VotingClassifier"
   ]
  },
  {
   "cell_type": "code",
   "execution_count": 366,
   "id": "d9a3db4f",
   "metadata": {},
   "outputs": [],
   "source": [
    "LogReg_clf = LogisticRegression(C=0.012742749857031334, max_iter=5000, penalty='none',\n",
    "                   solver='sag')\n",
    "\n",
    "DTree_rf = RandomForestClassifier(bootstrap=False, max_depth=80, min_samples_split=10,\n",
    "                       n_estimators=1000)\n",
    "xgb=XGBClassifier(base_score=0.5, booster='gbtree', colsample_bylevel=1,\n",
    "              colsample_bynode=1, colsample_bytree=1, gamma=0, gpu_id=-1,\n",
    "              importance_type='gain', interaction_constraints='',\n",
    "              learning_rate=0.300000012, max_delta_step=0, max_depth=5,\n",
    "              min_child_weight=1, min_samples_leaf=2, min_samples_split=5,\n",
    "               monotone_constraints='()', n_estimators=100,\n",
    "              n_jobs=12, num_parallel_tree=1, random_state=0, reg_alpha=0,\n",
    "              reg_lambda=1, scale_pos_weight=1, subsample=1,\n",
    "              tree_method='exact', validate_parameters=1, verbosity=None)\n",
    "model = CatBoostClassifier(iterations=100)"
   ]
  },
  {
   "cell_type": "code",
   "execution_count": 367,
   "id": "9fda69bf",
   "metadata": {},
   "outputs": [
    {
     "data": {
      "text/plain": [
       "numpy.ndarray"
      ]
     },
     "execution_count": 367,
     "metadata": {},
     "output_type": "execute_result"
    }
   ],
   "source": [
    "type(y_res)"
   ]
  },
  {
   "cell_type": "code",
   "execution_count": 368,
   "id": "ab3e5229",
   "metadata": {},
   "outputs": [
    {
     "data": {
      "text/plain": [
       "(29942,)"
      ]
     },
     "execution_count": 368,
     "metadata": {},
     "output_type": "execute_result"
    }
   ],
   "source": [
    "y_res.shape"
   ]
  },
  {
   "cell_type": "code",
   "execution_count": 374,
   "id": "93ca8c0b",
   "metadata": {},
   "outputs": [],
   "source": [
    "voting_clf = VotingClassifier(estimators=[(\"xgb\",xgb),('LogReg', LogReg_clf),(\"DTree_rf\",DTree_rf) ,(\"model\",model)], voting='soft')\n"
   ]
  },
  {
   "cell_type": "code",
   "execution_count": 375,
   "id": "60c3af2a",
   "metadata": {},
   "outputs": [
    {
     "name": "stderr",
     "output_type": "stream",
     "text": [
      "C:\\Users\\abhishek bablani\\anaconda3\\lib\\site-packages\\xgboost\\sklearn.py:1146: UserWarning: The use of label encoder in XGBClassifier is deprecated and will be removed in a future release. To remove this warning, do the following: 1) Pass option use_label_encoder=False when constructing XGBClassifier object; and 2) Encode your labels (y) as integers starting with 0, i.e. 0, 1, 2, ..., [num_class - 1].\n",
      "  warnings.warn(label_encoder_deprecation_msg, UserWarning)\n"
     ]
    },
    {
     "name": "stdout",
     "output_type": "stream",
     "text": [
      "[15:36:33] WARNING: C:/Users/Administrator/workspace/xgboost-win64_release_1.4.0/src/learner.cc:573: \n",
      "Parameters: { \"min_samples_leaf\", \"min_samples_split\" } might not be used.\n",
      "\n",
      "  This may not be accurate due to some parameters are only used in language bindings but\n",
      "  passed down to XGBoost core.  Or some parameters are not used but slip through this\n",
      "  verification. Please open an issue if you find above cases.\n",
      "\n",
      "\n",
      "[15:36:33] WARNING: C:/Users/Administrator/workspace/xgboost-win64_release_1.4.0/src/learner.cc:1095: Starting in XGBoost 1.3.0, the default evaluation metric used with the objective 'binary:logistic' was changed from 'error' to 'logloss'. Explicitly set eval_metric if you'd like to restore the old behavior.\n"
     ]
    },
    {
     "name": "stderr",
     "output_type": "stream",
     "text": [
      "C:\\Users\\abhishek bablani\\anaconda3\\lib\\site-packages\\sklearn\\linear_model\\_logistic.py:1322: UserWarning: Setting penalty='none' will ignore the C and l1_ratio parameters\n",
      "  warnings.warn(\n"
     ]
    },
    {
     "name": "stdout",
     "output_type": "stream",
     "text": [
      "Learning rate set to 0.363334\n",
      "0:\tlearn: 0.5137799\ttotal: 8.68ms\tremaining: 860ms\n",
      "1:\tlearn: 0.4286250\ttotal: 16.9ms\tremaining: 829ms\n",
      "2:\tlearn: 0.3790304\ttotal: 25.3ms\tremaining: 819ms\n",
      "3:\tlearn: 0.3396297\ttotal: 33.6ms\tremaining: 806ms\n",
      "4:\tlearn: 0.3263301\ttotal: 41.7ms\tremaining: 792ms\n",
      "5:\tlearn: 0.3130348\ttotal: 49.9ms\tremaining: 782ms\n",
      "6:\tlearn: 0.3010819\ttotal: 57.6ms\tremaining: 766ms\n",
      "7:\tlearn: 0.2920513\ttotal: 65.6ms\tremaining: 754ms\n",
      "8:\tlearn: 0.2773975\ttotal: 73.5ms\tremaining: 743ms\n",
      "9:\tlearn: 0.2695325\ttotal: 81.5ms\tremaining: 733ms\n",
      "10:\tlearn: 0.2635915\ttotal: 89.5ms\tremaining: 724ms\n",
      "11:\tlearn: 0.2562303\ttotal: 97.3ms\tremaining: 713ms\n",
      "12:\tlearn: 0.2505062\ttotal: 105ms\tremaining: 701ms\n",
      "13:\tlearn: 0.2435193\ttotal: 112ms\tremaining: 689ms\n",
      "14:\tlearn: 0.2376184\ttotal: 120ms\tremaining: 677ms\n",
      "15:\tlearn: 0.2331229\ttotal: 127ms\tremaining: 666ms\n",
      "16:\tlearn: 0.2295650\ttotal: 134ms\tremaining: 656ms\n",
      "17:\tlearn: 0.2259387\ttotal: 142ms\tremaining: 646ms\n",
      "18:\tlearn: 0.2223163\ttotal: 149ms\tremaining: 637ms\n",
      "19:\tlearn: 0.2176086\ttotal: 157ms\tremaining: 627ms\n",
      "20:\tlearn: 0.2146901\ttotal: 164ms\tremaining: 619ms\n",
      "21:\tlearn: 0.2122017\ttotal: 172ms\tremaining: 610ms\n",
      "22:\tlearn: 0.2088945\ttotal: 179ms\tremaining: 600ms\n",
      "23:\tlearn: 0.2053296\ttotal: 187ms\tremaining: 593ms\n",
      "24:\tlearn: 0.2018893\ttotal: 197ms\tremaining: 590ms\n",
      "25:\tlearn: 0.1997718\ttotal: 207ms\tremaining: 588ms\n",
      "26:\tlearn: 0.1974849\ttotal: 216ms\tremaining: 585ms\n",
      "27:\tlearn: 0.1949051\ttotal: 225ms\tremaining: 578ms\n",
      "28:\tlearn: 0.1918531\ttotal: 233ms\tremaining: 572ms\n",
      "29:\tlearn: 0.1892292\ttotal: 242ms\tremaining: 564ms\n",
      "30:\tlearn: 0.1872035\ttotal: 250ms\tremaining: 556ms\n",
      "31:\tlearn: 0.1837541\ttotal: 259ms\tremaining: 550ms\n",
      "32:\tlearn: 0.1819934\ttotal: 267ms\tremaining: 542ms\n",
      "33:\tlearn: 0.1789499\ttotal: 275ms\tremaining: 534ms\n",
      "34:\tlearn: 0.1771159\ttotal: 282ms\tremaining: 524ms\n",
      "35:\tlearn: 0.1746012\ttotal: 290ms\tremaining: 515ms\n",
      "36:\tlearn: 0.1725740\ttotal: 297ms\tremaining: 506ms\n",
      "37:\tlearn: 0.1710684\ttotal: 305ms\tremaining: 497ms\n",
      "38:\tlearn: 0.1691938\ttotal: 312ms\tremaining: 488ms\n",
      "39:\tlearn: 0.1673645\ttotal: 320ms\tremaining: 480ms\n",
      "40:\tlearn: 0.1654170\ttotal: 327ms\tremaining: 471ms\n",
      "41:\tlearn: 0.1640138\ttotal: 335ms\tremaining: 462ms\n",
      "42:\tlearn: 0.1627910\ttotal: 342ms\tremaining: 453ms\n",
      "43:\tlearn: 0.1615768\ttotal: 349ms\tremaining: 444ms\n",
      "44:\tlearn: 0.1590249\ttotal: 357ms\tremaining: 436ms\n",
      "45:\tlearn: 0.1578015\ttotal: 364ms\tremaining: 428ms\n",
      "46:\tlearn: 0.1565988\ttotal: 373ms\tremaining: 421ms\n",
      "47:\tlearn: 0.1555839\ttotal: 382ms\tremaining: 414ms\n",
      "48:\tlearn: 0.1528303\ttotal: 391ms\tremaining: 407ms\n",
      "49:\tlearn: 0.1517615\ttotal: 399ms\tremaining: 399ms\n",
      "50:\tlearn: 0.1501744\ttotal: 407ms\tremaining: 391ms\n",
      "51:\tlearn: 0.1484729\ttotal: 414ms\tremaining: 383ms\n",
      "52:\tlearn: 0.1474895\ttotal: 422ms\tremaining: 374ms\n",
      "53:\tlearn: 0.1457552\ttotal: 429ms\tremaining: 366ms\n",
      "54:\tlearn: 0.1446090\ttotal: 437ms\tremaining: 357ms\n",
      "55:\tlearn: 0.1437636\ttotal: 444ms\tremaining: 349ms\n",
      "56:\tlearn: 0.1429656\ttotal: 451ms\tremaining: 341ms\n",
      "57:\tlearn: 0.1421040\ttotal: 459ms\tremaining: 332ms\n",
      "58:\tlearn: 0.1414081\ttotal: 466ms\tremaining: 324ms\n",
      "59:\tlearn: 0.1398508\ttotal: 474ms\tremaining: 316ms\n",
      "60:\tlearn: 0.1384393\ttotal: 482ms\tremaining: 308ms\n",
      "61:\tlearn: 0.1374782\ttotal: 490ms\tremaining: 300ms\n",
      "62:\tlearn: 0.1366744\ttotal: 497ms\tremaining: 292ms\n",
      "63:\tlearn: 0.1360536\ttotal: 504ms\tremaining: 284ms\n",
      "64:\tlearn: 0.1346368\ttotal: 512ms\tremaining: 276ms\n",
      "65:\tlearn: 0.1336404\ttotal: 519ms\tremaining: 268ms\n",
      "66:\tlearn: 0.1329442\ttotal: 527ms\tremaining: 260ms\n",
      "67:\tlearn: 0.1322599\ttotal: 534ms\tremaining: 252ms\n",
      "68:\tlearn: 0.1314677\ttotal: 542ms\tremaining: 243ms\n",
      "69:\tlearn: 0.1306358\ttotal: 549ms\tremaining: 235ms\n",
      "70:\tlearn: 0.1300630\ttotal: 557ms\tremaining: 228ms\n",
      "71:\tlearn: 0.1290858\ttotal: 566ms\tremaining: 220ms\n",
      "72:\tlearn: 0.1285230\ttotal: 574ms\tremaining: 212ms\n",
      "73:\tlearn: 0.1276833\ttotal: 582ms\tremaining: 205ms\n",
      "74:\tlearn: 0.1267431\ttotal: 591ms\tremaining: 197ms\n",
      "75:\tlearn: 0.1257756\ttotal: 598ms\tremaining: 189ms\n",
      "76:\tlearn: 0.1251763\ttotal: 605ms\tremaining: 181ms\n",
      "77:\tlearn: 0.1245236\ttotal: 613ms\tremaining: 173ms\n",
      "78:\tlearn: 0.1239094\ttotal: 620ms\tremaining: 165ms\n",
      "79:\tlearn: 0.1234593\ttotal: 627ms\tremaining: 157ms\n",
      "80:\tlearn: 0.1228971\ttotal: 635ms\tremaining: 149ms\n",
      "81:\tlearn: 0.1223292\ttotal: 643ms\tremaining: 141ms\n",
      "82:\tlearn: 0.1214289\ttotal: 650ms\tremaining: 133ms\n",
      "83:\tlearn: 0.1201137\ttotal: 658ms\tremaining: 125ms\n",
      "84:\tlearn: 0.1194176\ttotal: 665ms\tremaining: 117ms\n",
      "85:\tlearn: 0.1189480\ttotal: 673ms\tremaining: 110ms\n",
      "86:\tlearn: 0.1183764\ttotal: 680ms\tremaining: 102ms\n",
      "87:\tlearn: 0.1179437\ttotal: 688ms\tremaining: 93.8ms\n",
      "88:\tlearn: 0.1172968\ttotal: 695ms\tremaining: 85.9ms\n",
      "89:\tlearn: 0.1168132\ttotal: 702ms\tremaining: 78ms\n",
      "90:\tlearn: 0.1155738\ttotal: 710ms\tremaining: 70.2ms\n",
      "91:\tlearn: 0.1150976\ttotal: 717ms\tremaining: 62.3ms\n",
      "92:\tlearn: 0.1146029\ttotal: 724ms\tremaining: 54.5ms\n",
      "93:\tlearn: 0.1140453\ttotal: 732ms\tremaining: 46.7ms\n",
      "94:\tlearn: 0.1133413\ttotal: 741ms\tremaining: 39ms\n",
      "95:\tlearn: 0.1129355\ttotal: 749ms\tremaining: 31.2ms\n",
      "96:\tlearn: 0.1124170\ttotal: 758ms\tremaining: 23.5ms\n",
      "97:\tlearn: 0.1118187\ttotal: 767ms\tremaining: 15.7ms\n",
      "98:\tlearn: 0.1113295\ttotal: 775ms\tremaining: 7.83ms\n",
      "99:\tlearn: 0.1109487\ttotal: 783ms\tremaining: 0us\n"
     ]
    },
    {
     "data": {
      "text/plain": [
       "VotingClassifier(estimators=[('xgb',\n",
       "                              XGBClassifier(base_score=0.5, booster='gbtree',\n",
       "                                            colsample_bylevel=1,\n",
       "                                            colsample_bynode=1,\n",
       "                                            colsample_bytree=1, gamma=0,\n",
       "                                            gpu_id=-1, importance_type='gain',\n",
       "                                            interaction_constraints='',\n",
       "                                            learning_rate=0.300000012,\n",
       "                                            max_delta_step=0, max_depth=5,\n",
       "                                            min_child_weight=1,\n",
       "                                            min_samples_leaf=2,\n",
       "                                            min_samples_split=5, missing=nan,\n",
       "                                            monotone_constrai...\n",
       "                                            scale_pos_weight=1, subsample=1,\n",
       "                                            tree_method='exact',\n",
       "                                            validate_parameters=1,\n",
       "                                            verbosity=None)),\n",
       "                             ('LogReg',\n",
       "                              LogisticRegression(C=0.012742749857031334,\n",
       "                                                 max_iter=5000, penalty='none',\n",
       "                                                 solver='sag')),\n",
       "                             ('DTree_rf',\n",
       "                              RandomForestClassifier(bootstrap=False,\n",
       "                                                     max_depth=80,\n",
       "                                                     min_samples_split=10,\n",
       "                                                     n_estimators=1000)),\n",
       "                             ('model',\n",
       "                              <catboost.core.CatBoostClassifier object at 0x000001DEF502A790>)],\n",
       "                 voting='soft')"
      ]
     },
     "execution_count": 375,
     "metadata": {},
     "output_type": "execute_result"
    }
   ],
   "source": [
    "voting_clf.fit(X_res,y_res)\n"
   ]
  },
  {
   "cell_type": "code",
   "execution_count": 376,
   "id": "854697b5",
   "metadata": {},
   "outputs": [],
   "source": [
    "#Predict the response for train dataset\n",
    "y_pred_train = voting_clf.predict(X_res)\n",
    "#Predict the response for test dataset\n",
    "y_pred = voting_clf.predict(X_test)"
   ]
  },
  {
   "cell_type": "code",
   "execution_count": 377,
   "id": "1e9ef140",
   "metadata": {},
   "outputs": [
    {
     "name": "stdout",
     "output_type": "stream",
     "text": [
      "              precision    recall  f1-score   support\n",
      "\n",
      "           0       0.95      0.99      0.97     14971\n",
      "           1       0.99      0.95      0.97     14971\n",
      "\n",
      "    accuracy                           0.97     29942\n",
      "   macro avg       0.97      0.97      0.97     29942\n",
      "weighted avg       0.97      0.97      0.97     29942\n",
      "\n"
     ]
    }
   ],
   "source": [
    "print(classification_report(y_res, y_pred_train))# train data"
   ]
  },
  {
   "cell_type": "code",
   "execution_count": 378,
   "id": "196f2394",
   "metadata": {},
   "outputs": [
    {
     "name": "stdout",
     "output_type": "stream",
     "text": [
      "              precision    recall  f1-score   support\n",
      "\n",
      "           0       0.95      0.98      0.96     35152\n",
      "           1       0.63      0.39      0.48      3214\n",
      "\n",
      "    accuracy                           0.93     38366\n",
      "   macro avg       0.79      0.68      0.72     38366\n",
      "weighted avg       0.92      0.93      0.92     38366\n",
      "\n"
     ]
    }
   ],
   "source": [
    "print(classification_report(y_test, y_pred))# test data"
   ]
  },
  {
   "cell_type": "code",
   "execution_count": 382,
   "id": "90b58c8f",
   "metadata": {},
   "outputs": [
    {
     "name": "stdout",
     "output_type": "stream",
     "text": [
      "              precision    recall  f1-score   support\n",
      "\n",
      "           0       0.95      0.98      0.96     35152\n",
      "           1       0.63      0.39      0.48      3214\n",
      "\n",
      "    accuracy                           0.93     38366\n",
      "   macro avg       0.79      0.68      0.72     38366\n",
      "weighted avg       0.92      0.93      0.92     38366\n",
      "\n"
     ]
    }
   ],
   "source": [
    "test_ypred=voting_clf.predict(test_X)\n",
    "print(classification_report(y_test, y_pred))# test data"
   ]
  },
  {
   "cell_type": "code",
   "execution_count": 392,
   "id": "223f88bd",
   "metadata": {},
   "outputs": [],
   "source": [
    "employee_id=pd.read_csv(\"hr_test.csv\")"
   ]
  },
  {
   "cell_type": "code",
   "execution_count": 393,
   "id": "74818d0c",
   "metadata": {},
   "outputs": [],
   "source": [
    "employee_id[\"education\"].fillna(df[\"education\"].mode()[0],inplace=True)\n",
    "employee_id[\"previous_year_rating\"].fillna(df[\"previous_year_rating\"].mode()[0],inplace=True)"
   ]
  },
  {
   "cell_type": "code",
   "execution_count": null,
   "id": "69effea3",
   "metadata": {},
   "outputs": [],
   "source": []
  },
  {
   "cell_type": "code",
   "execution_count": 398,
   "id": "f0341c3d",
   "metadata": {},
   "outputs": [],
   "source": [
    "df1=pd.DataFrame({\"employee_id\":employee_id[\"employee_id\"],\"is_promoted\":test_ypred})"
   ]
  },
  {
   "cell_type": "code",
   "execution_count": 395,
   "id": "43476c08",
   "metadata": {},
   "outputs": [],
   "source": [
    "df1=pd.merge(df1,employee_id)"
   ]
  },
  {
   "cell_type": "code",
   "execution_count": 396,
   "id": "82a25b6e",
   "metadata": {},
   "outputs": [
    {
     "data": {
      "text/html": [
       "<div>\n",
       "<style scoped>\n",
       "    .dataframe tbody tr th:only-of-type {\n",
       "        vertical-align: middle;\n",
       "    }\n",
       "\n",
       "    .dataframe tbody tr th {\n",
       "        vertical-align: top;\n",
       "    }\n",
       "\n",
       "    .dataframe thead th {\n",
       "        text-align: right;\n",
       "    }\n",
       "</style>\n",
       "<table border=\"1\" class=\"dataframe\">\n",
       "  <thead>\n",
       "    <tr style=\"text-align: right;\">\n",
       "      <th></th>\n",
       "      <th>employee_id</th>\n",
       "      <th>is_promoted</th>\n",
       "      <th>department</th>\n",
       "      <th>region</th>\n",
       "      <th>education</th>\n",
       "      <th>gender</th>\n",
       "      <th>recruitment_channel</th>\n",
       "      <th>no_of_trainings</th>\n",
       "      <th>age</th>\n",
       "      <th>previous_year_rating</th>\n",
       "      <th>length_of_service</th>\n",
       "      <th>KPIs_met &gt;80%</th>\n",
       "      <th>awards_won?</th>\n",
       "      <th>avg_training_score</th>\n",
       "    </tr>\n",
       "  </thead>\n",
       "  <tbody>\n",
       "    <tr>\n",
       "      <th>0</th>\n",
       "      <td>8724</td>\n",
       "      <td>0</td>\n",
       "      <td>Technology</td>\n",
       "      <td>region_26</td>\n",
       "      <td>Bachelor's</td>\n",
       "      <td>m</td>\n",
       "      <td>sourcing</td>\n",
       "      <td>1</td>\n",
       "      <td>24</td>\n",
       "      <td>3.0</td>\n",
       "      <td>1</td>\n",
       "      <td>1</td>\n",
       "      <td>0</td>\n",
       "      <td>77</td>\n",
       "    </tr>\n",
       "    <tr>\n",
       "      <th>1</th>\n",
       "      <td>74430</td>\n",
       "      <td>0</td>\n",
       "      <td>HR</td>\n",
       "      <td>region_4</td>\n",
       "      <td>Bachelor's</td>\n",
       "      <td>f</td>\n",
       "      <td>other</td>\n",
       "      <td>1</td>\n",
       "      <td>31</td>\n",
       "      <td>3.0</td>\n",
       "      <td>5</td>\n",
       "      <td>0</td>\n",
       "      <td>0</td>\n",
       "      <td>51</td>\n",
       "    </tr>\n",
       "    <tr>\n",
       "      <th>2</th>\n",
       "      <td>72255</td>\n",
       "      <td>0</td>\n",
       "      <td>Sales &amp; Marketing</td>\n",
       "      <td>region_13</td>\n",
       "      <td>Bachelor's</td>\n",
       "      <td>m</td>\n",
       "      <td>other</td>\n",
       "      <td>1</td>\n",
       "      <td>31</td>\n",
       "      <td>1.0</td>\n",
       "      <td>4</td>\n",
       "      <td>0</td>\n",
       "      <td>0</td>\n",
       "      <td>47</td>\n",
       "    </tr>\n",
       "    <tr>\n",
       "      <th>3</th>\n",
       "      <td>38562</td>\n",
       "      <td>0</td>\n",
       "      <td>Procurement</td>\n",
       "      <td>region_2</td>\n",
       "      <td>Bachelor's</td>\n",
       "      <td>f</td>\n",
       "      <td>other</td>\n",
       "      <td>3</td>\n",
       "      <td>31</td>\n",
       "      <td>2.0</td>\n",
       "      <td>9</td>\n",
       "      <td>0</td>\n",
       "      <td>0</td>\n",
       "      <td>65</td>\n",
       "    </tr>\n",
       "    <tr>\n",
       "      <th>4</th>\n",
       "      <td>64486</td>\n",
       "      <td>0</td>\n",
       "      <td>Finance</td>\n",
       "      <td>region_29</td>\n",
       "      <td>Bachelor's</td>\n",
       "      <td>m</td>\n",
       "      <td>sourcing</td>\n",
       "      <td>1</td>\n",
       "      <td>30</td>\n",
       "      <td>4.0</td>\n",
       "      <td>7</td>\n",
       "      <td>0</td>\n",
       "      <td>0</td>\n",
       "      <td>61</td>\n",
       "    </tr>\n",
       "    <tr>\n",
       "      <th>...</th>\n",
       "      <td>...</td>\n",
       "      <td>...</td>\n",
       "      <td>...</td>\n",
       "      <td>...</td>\n",
       "      <td>...</td>\n",
       "      <td>...</td>\n",
       "      <td>...</td>\n",
       "      <td>...</td>\n",
       "      <td>...</td>\n",
       "      <td>...</td>\n",
       "      <td>...</td>\n",
       "      <td>...</td>\n",
       "      <td>...</td>\n",
       "      <td>...</td>\n",
       "    </tr>\n",
       "    <tr>\n",
       "      <th>23485</th>\n",
       "      <td>53478</td>\n",
       "      <td>0</td>\n",
       "      <td>Legal</td>\n",
       "      <td>region_2</td>\n",
       "      <td>Below Secondary</td>\n",
       "      <td>m</td>\n",
       "      <td>sourcing</td>\n",
       "      <td>1</td>\n",
       "      <td>24</td>\n",
       "      <td>3.0</td>\n",
       "      <td>1</td>\n",
       "      <td>0</td>\n",
       "      <td>0</td>\n",
       "      <td>61</td>\n",
       "    </tr>\n",
       "    <tr>\n",
       "      <th>23486</th>\n",
       "      <td>25600</td>\n",
       "      <td>0</td>\n",
       "      <td>Technology</td>\n",
       "      <td>region_25</td>\n",
       "      <td>Bachelor's</td>\n",
       "      <td>m</td>\n",
       "      <td>sourcing</td>\n",
       "      <td>1</td>\n",
       "      <td>31</td>\n",
       "      <td>3.0</td>\n",
       "      <td>7</td>\n",
       "      <td>0</td>\n",
       "      <td>0</td>\n",
       "      <td>74</td>\n",
       "    </tr>\n",
       "    <tr>\n",
       "      <th>23487</th>\n",
       "      <td>45409</td>\n",
       "      <td>0</td>\n",
       "      <td>HR</td>\n",
       "      <td>region_16</td>\n",
       "      <td>Bachelor's</td>\n",
       "      <td>f</td>\n",
       "      <td>sourcing</td>\n",
       "      <td>1</td>\n",
       "      <td>26</td>\n",
       "      <td>4.0</td>\n",
       "      <td>4</td>\n",
       "      <td>0</td>\n",
       "      <td>0</td>\n",
       "      <td>50</td>\n",
       "    </tr>\n",
       "    <tr>\n",
       "      <th>23488</th>\n",
       "      <td>1186</td>\n",
       "      <td>0</td>\n",
       "      <td>Procurement</td>\n",
       "      <td>region_31</td>\n",
       "      <td>Bachelor's</td>\n",
       "      <td>m</td>\n",
       "      <td>sourcing</td>\n",
       "      <td>3</td>\n",
       "      <td>27</td>\n",
       "      <td>3.0</td>\n",
       "      <td>1</td>\n",
       "      <td>0</td>\n",
       "      <td>0</td>\n",
       "      <td>70</td>\n",
       "    </tr>\n",
       "    <tr>\n",
       "      <th>23489</th>\n",
       "      <td>5973</td>\n",
       "      <td>1</td>\n",
       "      <td>Technology</td>\n",
       "      <td>region_17</td>\n",
       "      <td>Master's &amp; above</td>\n",
       "      <td>m</td>\n",
       "      <td>other</td>\n",
       "      <td>3</td>\n",
       "      <td>40</td>\n",
       "      <td>5.0</td>\n",
       "      <td>5</td>\n",
       "      <td>1</td>\n",
       "      <td>0</td>\n",
       "      <td>89</td>\n",
       "    </tr>\n",
       "  </tbody>\n",
       "</table>\n",
       "<p>23490 rows × 14 columns</p>\n",
       "</div>"
      ],
      "text/plain": [
       "       employee_id  is_promoted         department     region  \\\n",
       "0             8724            0         Technology  region_26   \n",
       "1            74430            0                 HR   region_4   \n",
       "2            72255            0  Sales & Marketing  region_13   \n",
       "3            38562            0        Procurement   region_2   \n",
       "4            64486            0            Finance  region_29   \n",
       "...            ...          ...                ...        ...   \n",
       "23485        53478            0              Legal   region_2   \n",
       "23486        25600            0         Technology  region_25   \n",
       "23487        45409            0                 HR  region_16   \n",
       "23488         1186            0        Procurement  region_31   \n",
       "23489         5973            1         Technology  region_17   \n",
       "\n",
       "              education gender recruitment_channel  no_of_trainings  age  \\\n",
       "0            Bachelor's      m            sourcing                1   24   \n",
       "1            Bachelor's      f               other                1   31   \n",
       "2            Bachelor's      m               other                1   31   \n",
       "3            Bachelor's      f               other                3   31   \n",
       "4            Bachelor's      m            sourcing                1   30   \n",
       "...                 ...    ...                 ...              ...  ...   \n",
       "23485   Below Secondary      m            sourcing                1   24   \n",
       "23486        Bachelor's      m            sourcing                1   31   \n",
       "23487        Bachelor's      f            sourcing                1   26   \n",
       "23488        Bachelor's      m            sourcing                3   27   \n",
       "23489  Master's & above      m               other                3   40   \n",
       "\n",
       "       previous_year_rating  length_of_service  KPIs_met >80%  awards_won?  \\\n",
       "0                       3.0                  1              1            0   \n",
       "1                       3.0                  5              0            0   \n",
       "2                       1.0                  4              0            0   \n",
       "3                       2.0                  9              0            0   \n",
       "4                       4.0                  7              0            0   \n",
       "...                     ...                ...            ...          ...   \n",
       "23485                   3.0                  1              0            0   \n",
       "23486                   3.0                  7              0            0   \n",
       "23487                   4.0                  4              0            0   \n",
       "23488                   3.0                  1              0            0   \n",
       "23489                   5.0                  5              1            0   \n",
       "\n",
       "       avg_training_score  \n",
       "0                      77  \n",
       "1                      51  \n",
       "2                      47  \n",
       "3                      65  \n",
       "4                      61  \n",
       "...                   ...  \n",
       "23485                  61  \n",
       "23486                  74  \n",
       "23487                  50  \n",
       "23488                  70  \n",
       "23489                  89  \n",
       "\n",
       "[23490 rows x 14 columns]"
      ]
     },
     "execution_count": 396,
     "metadata": {},
     "output_type": "execute_result"
    }
   ],
   "source": [
    "df1"
   ]
  },
  {
   "cell_type": "code",
   "execution_count": 399,
   "id": "9ed7b698",
   "metadata": {},
   "outputs": [],
   "source": [
    "df1.to_csv('file1.csv')"
   ]
  },
  {
   "cell_type": "code",
   "execution_count": null,
   "id": "e1979060",
   "metadata": {},
   "outputs": [],
   "source": []
  }
 ],
 "metadata": {
  "kernelspec": {
   "display_name": "Python 3",
   "language": "python",
   "name": "python3"
  },
  "language_info": {
   "codemirror_mode": {
    "name": "ipython",
    "version": 3
   },
   "file_extension": ".py",
   "mimetype": "text/x-python",
   "name": "python",
   "nbconvert_exporter": "python",
   "pygments_lexer": "ipython3",
   "version": "3.8.8"
  }
 },
 "nbformat": 4,
 "nbformat_minor": 5
}
